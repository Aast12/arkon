{
 "cells": [
  {
   "cell_type": "code",
   "execution_count": 1,
   "metadata": {},
   "outputs": [
    {
     "name": "stderr",
     "output_type": "stream",
     "text": [
      "2022-12-05 18:54:24.693269: I tensorflow/core/platform/cpu_feature_guard.cc:193] This TensorFlow binary is optimized with oneAPI Deep Neural Network Library (oneDNN) to use the following CPU instructions in performance-critical operations:  SSE4.1 SSE4.2\n",
      "To enable them in other operations, rebuild TensorFlow with the appropriate compiler flags.\n"
     ]
    }
   ],
   "source": [
    "import os\n",
    "import pandas as pd\n",
    "import seaborn as sns\n",
    "import matplotlib.pyplot as plt\n",
    "import numpy as np\n",
    "import plotly.express as px\n",
    "import plotly.graph_objs as go\n",
    "from geopy import distance\n",
    "import tensorflow as tf"
   ]
  },
  {
   "cell_type": "code",
   "execution_count": 2,
   "metadata": {},
   "outputs": [],
   "source": [
    "DATA_PATH = './data' \n",
    "TRAIN_FILE_NAME = 'train_set.csv'\n",
    "TEST_FILE_NAME = 'test_set.csv'\n",
    "\n",
    "TRAIN_PATH = os.path.join(DATA_PATH, TRAIN_FILE_NAME)\n",
    "TEST_PATH = os.path.join(DATA_PATH, TEST_FILE_NAME)"
   ]
  },
  {
   "cell_type": "markdown",
   "metadata": {},
   "source": [
    "# 1. Análisis exploratorio"
   ]
  },
  {
   "cell_type": "markdown",
   "metadata": {},
   "source": [
    "## 1.1 Carga de datos"
   ]
  },
  {
   "cell_type": "code",
   "execution_count": 4,
   "metadata": {},
   "outputs": [],
   "source": [
    "def fetch_from_kaggle(data_path: str, file_name: str):\n",
    "    from kaggle import KaggleApi\n",
    "    import zipfile\n",
    "    \n",
    "    kaggle_client = KaggleApi()\n",
    "    kaggle_client.authenticate()\n",
    "    kaggle_client.competition_download_file(competition='ds-programming-test', file_name=file_name, path=data_path)\n",
    "    \n",
    "    zip_path = f'{data_path}/{file_name}.zip'\n",
    "\n",
    "    with zipfile.ZipFile(zip_path, 'r') as zip_ref:\n",
    "        zip_ref.extractall(data_path)\n",
    "\n",
    "    os.remove(zip_path)\n",
    "\n",
    "if not os.path.exists(DATA_PATH):\n",
    "    os.makedirs(DATA_PATH)\n",
    "\n",
    "if not os.path.exists(TRAIN_PATH):    \n",
    "    fetch_from_kaggle(DATA_PATH, TRAIN_FILE_NAME)\n",
    "\n",
    "if not os.path.exists(TEST_PATH):    \n",
    "    fetch_from_kaggle(DATA_PATH, TEST_FILE_NAME)\n",
    "\n",
    "cleaning_pipe = []"
   ]
  },
  {
   "cell_type": "code",
   "execution_count": 5,
   "metadata": {},
   "outputs": [
    {
     "name": "stderr",
     "output_type": "stream",
     "text": [
      "/Users/aast/opt/anaconda3/envs/dl/lib/python3.7/site-packages/IPython/core/interactiveshell.py:3457: DtypeWarning: Columns (8) have mixed types.Specify dtype option on import or set low_memory=False.\n",
      "  exec(code_obj, self.user_global_ns, self.user_ns)\n"
     ]
    },
    {
     "data": {
      "text/html": [
       "<div>\n",
       "<style scoped>\n",
       "    .dataframe tbody tr th:only-of-type {\n",
       "        vertical-align: middle;\n",
       "    }\n",
       "\n",
       "    .dataframe tbody tr th {\n",
       "        vertical-align: top;\n",
       "    }\n",
       "\n",
       "    .dataframe thead th {\n",
       "        text-align: right;\n",
       "    }\n",
       "</style>\n",
       "<table border=\"1\" class=\"dataframe\">\n",
       "  <thead>\n",
       "    <tr style=\"text-align: right;\">\n",
       "      <th></th>\n",
       "      <th>trip_id</th>\n",
       "      <th>duration</th>\n",
       "      <th>start_lat</th>\n",
       "      <th>start_lon</th>\n",
       "      <th>end_lat</th>\n",
       "      <th>end_lon</th>\n",
       "      <th>plan_duration</th>\n",
       "      <th>start_station</th>\n",
       "      <th>end_station</th>\n",
       "    </tr>\n",
       "  </thead>\n",
       "  <tbody>\n",
       "    <tr>\n",
       "      <th>count</th>\n",
       "      <td>7.000000e+05</td>\n",
       "      <td>700000.000000</td>\n",
       "      <td>694437.000000</td>\n",
       "      <td>694437.000000</td>\n",
       "      <td>681426.000000</td>\n",
       "      <td>681426.000000</td>\n",
       "      <td>699792.000000</td>\n",
       "      <td>700000.000000</td>\n",
       "      <td>700000.000000</td>\n",
       "    </tr>\n",
       "    <tr>\n",
       "      <th>mean</th>\n",
       "      <td>1.069468e+08</td>\n",
       "      <td>37.084979</td>\n",
       "      <td>34.044952</td>\n",
       "      <td>-118.253849</td>\n",
       "      <td>34.044175</td>\n",
       "      <td>-118.259183</td>\n",
       "      <td>44.928697</td>\n",
       "      <td>3499.720464</td>\n",
       "      <td>3489.726771</td>\n",
       "    </tr>\n",
       "    <tr>\n",
       "      <th>std</th>\n",
       "      <td>4.497342e+07</td>\n",
       "      <td>125.302510</td>\n",
       "      <td>0.325255</td>\n",
       "      <td>2.332640</td>\n",
       "      <td>0.299721</td>\n",
       "      <td>2.129781</td>\n",
       "      <td>92.816296</td>\n",
       "      <td>615.918795</td>\n",
       "      <td>613.040769</td>\n",
       "    </tr>\n",
       "    <tr>\n",
       "      <th>min</th>\n",
       "      <td>8.369648e+06</td>\n",
       "      <td>1.000000</td>\n",
       "      <td>33.710979</td>\n",
       "      <td>-118.495422</td>\n",
       "      <td>33.710979</td>\n",
       "      <td>-118.495422</td>\n",
       "      <td>0.000000</td>\n",
       "      <td>3000.000000</td>\n",
       "      <td>3000.000000</td>\n",
       "    </tr>\n",
       "    <tr>\n",
       "      <th>25%</th>\n",
       "      <td>7.538051e+07</td>\n",
       "      <td>7.000000</td>\n",
       "      <td>34.037460</td>\n",
       "      <td>-118.280952</td>\n",
       "      <td>34.037048</td>\n",
       "      <td>-118.280952</td>\n",
       "      <td>1.000000</td>\n",
       "      <td>3031.000000</td>\n",
       "      <td>3030.000000</td>\n",
       "    </tr>\n",
       "    <tr>\n",
       "      <th>50%</th>\n",
       "      <td>1.179410e+08</td>\n",
       "      <td>13.000000</td>\n",
       "      <td>34.046612</td>\n",
       "      <td>-118.256980</td>\n",
       "      <td>34.046520</td>\n",
       "      <td>-118.256981</td>\n",
       "      <td>30.000000</td>\n",
       "      <td>3064.000000</td>\n",
       "      <td>3064.000000</td>\n",
       "    </tr>\n",
       "    <tr>\n",
       "      <th>75%</th>\n",
       "      <td>1.404178e+08</td>\n",
       "      <td>26.000000</td>\n",
       "      <td>34.051941</td>\n",
       "      <td>-118.247162</td>\n",
       "      <td>34.050911</td>\n",
       "      <td>-118.246422</td>\n",
       "      <td>30.000000</td>\n",
       "      <td>4214.000000</td>\n",
       "      <td>4214.000000</td>\n",
       "    </tr>\n",
       "    <tr>\n",
       "      <th>max</th>\n",
       "      <td>1.794831e+08</td>\n",
       "      <td>1440.000000</td>\n",
       "      <td>55.705528</td>\n",
       "      <td>118.238258</td>\n",
       "      <td>55.705528</td>\n",
       "      <td>37.606541</td>\n",
       "      <td>999.000000</td>\n",
       "      <td>4594.000000</td>\n",
       "      <td>4594.000000</td>\n",
       "    </tr>\n",
       "  </tbody>\n",
       "</table>\n",
       "</div>"
      ],
      "text/plain": [
       "            trip_id       duration      start_lat      start_lon  \\\n",
       "count  7.000000e+05  700000.000000  694437.000000  694437.000000   \n",
       "mean   1.069468e+08      37.084979      34.044952    -118.253849   \n",
       "std    4.497342e+07     125.302510       0.325255       2.332640   \n",
       "min    8.369648e+06       1.000000      33.710979    -118.495422   \n",
       "25%    7.538051e+07       7.000000      34.037460    -118.280952   \n",
       "50%    1.179410e+08      13.000000      34.046612    -118.256980   \n",
       "75%    1.404178e+08      26.000000      34.051941    -118.247162   \n",
       "max    1.794831e+08    1440.000000      55.705528     118.238258   \n",
       "\n",
       "             end_lat        end_lon  plan_duration  start_station  \\\n",
       "count  681426.000000  681426.000000  699792.000000  700000.000000   \n",
       "mean       34.044175    -118.259183      44.928697    3499.720464   \n",
       "std         0.299721       2.129781      92.816296     615.918795   \n",
       "min        33.710979    -118.495422       0.000000    3000.000000   \n",
       "25%        34.037048    -118.280952       1.000000    3031.000000   \n",
       "50%        34.046520    -118.256981      30.000000    3064.000000   \n",
       "75%        34.050911    -118.246422      30.000000    4214.000000   \n",
       "max        55.705528      37.606541     999.000000    4594.000000   \n",
       "\n",
       "         end_station  \n",
       "count  700000.000000  \n",
       "mean     3489.726771  \n",
       "std       613.040769  \n",
       "min      3000.000000  \n",
       "25%      3030.000000  \n",
       "50%      3064.000000  \n",
       "75%      4214.000000  \n",
       "max      4594.000000  "
      ]
     },
     "execution_count": 5,
     "metadata": {},
     "output_type": "execute_result"
    }
   ],
   "source": [
    "train_raw = pd.read_csv(TRAIN_PATH)\n",
    "train_raw.describe()"
   ]
  },
  {
   "cell_type": "code",
   "execution_count": 6,
   "metadata": {},
   "outputs": [
    {
     "name": "stdout",
     "output_type": "stream",
     "text": [
      "<class 'pandas.core.frame.DataFrame'>\n",
      "RangeIndex: 700000 entries, 0 to 699999\n",
      "Data columns (total 14 columns):\n",
      " #   Column               Non-Null Count   Dtype  \n",
      "---  ------               --------------   -----  \n",
      " 0   trip_id              700000 non-null  int64  \n",
      " 1   duration             700000 non-null  int64  \n",
      " 2   start_time           700000 non-null  object \n",
      " 3   end_time             700000 non-null  object \n",
      " 4   start_lat            694437 non-null  float64\n",
      " 5   start_lon            694437 non-null  float64\n",
      " 6   end_lat              681426 non-null  float64\n",
      " 7   end_lon              681426 non-null  float64\n",
      " 8   bike_id              700000 non-null  object \n",
      " 9   plan_duration        699792 non-null  float64\n",
      " 10  trip_route_category  700000 non-null  object \n",
      " 11  passholder_type      697424 non-null  object \n",
      " 12  start_station        700000 non-null  int64  \n",
      " 13  end_station          700000 non-null  int64  \n",
      "dtypes: float64(5), int64(4), object(5)\n",
      "memory usage: 74.8+ MB\n"
     ]
    }
   ],
   "source": [
    "train_raw.info()"
   ]
  },
  {
   "cell_type": "markdown",
   "metadata": {},
   "source": [
    "## 1.2 Limpieza"
   ]
  },
  {
   "cell_type": "code",
   "execution_count": 7,
   "metadata": {},
   "outputs": [
    {
     "data": {
      "text/html": [
       "<div>\n",
       "<style scoped>\n",
       "    .dataframe tbody tr th:only-of-type {\n",
       "        vertical-align: middle;\n",
       "    }\n",
       "\n",
       "    .dataframe tbody tr th {\n",
       "        vertical-align: top;\n",
       "    }\n",
       "\n",
       "    .dataframe thead th {\n",
       "        text-align: right;\n",
       "    }\n",
       "</style>\n",
       "<table border=\"1\" class=\"dataframe\">\n",
       "  <thead>\n",
       "    <tr style=\"text-align: right;\">\n",
       "      <th></th>\n",
       "      <th>trip_id</th>\n",
       "      <th>duration</th>\n",
       "      <th>start_time</th>\n",
       "      <th>end_time</th>\n",
       "      <th>start_lat</th>\n",
       "      <th>start_lon</th>\n",
       "      <th>end_lat</th>\n",
       "      <th>end_lon</th>\n",
       "      <th>bike_id</th>\n",
       "      <th>plan_duration</th>\n",
       "      <th>trip_route_category</th>\n",
       "      <th>passholder_type</th>\n",
       "      <th>start_station</th>\n",
       "      <th>end_station</th>\n",
       "    </tr>\n",
       "  </thead>\n",
       "  <tbody>\n",
       "    <tr>\n",
       "      <th>40</th>\n",
       "      <td>110113350</td>\n",
       "      <td>1440</td>\n",
       "      <td>2018-11-23 09:37:00</td>\n",
       "      <td>2018-11-24 16:44:00</td>\n",
       "      <td>34.014309</td>\n",
       "      <td>-118.491341</td>\n",
       "      <td>NaN</td>\n",
       "      <td>NaN</td>\n",
       "      <td>12227</td>\n",
       "      <td>1.0</td>\n",
       "      <td>One Way</td>\n",
       "      <td>Walk-up</td>\n",
       "      <td>4215</td>\n",
       "      <td>3000</td>\n",
       "    </tr>\n",
       "    <tr>\n",
       "      <th>92</th>\n",
       "      <td>138318300</td>\n",
       "      <td>14</td>\n",
       "      <td>2/28/2020 13:45</td>\n",
       "      <td>2/28/2020 13:59</td>\n",
       "      <td>NaN</td>\n",
       "      <td>NaN</td>\n",
       "      <td>34.158321</td>\n",
       "      <td>-118.370811</td>\n",
       "      <td>15252</td>\n",
       "      <td>30.0</td>\n",
       "      <td>One Way</td>\n",
       "      <td>Monthly Pass</td>\n",
       "      <td>4285</td>\n",
       "      <td>4413</td>\n",
       "    </tr>\n",
       "    <tr>\n",
       "      <th>93</th>\n",
       "      <td>124411714</td>\n",
       "      <td>40</td>\n",
       "      <td>2019-06-27 09:34:00</td>\n",
       "      <td>2019-06-27 10:14:00</td>\n",
       "      <td>NaN</td>\n",
       "      <td>NaN</td>\n",
       "      <td>33.996239</td>\n",
       "      <td>-118.477448</td>\n",
       "      <td>16203</td>\n",
       "      <td>365.0</td>\n",
       "      <td>One Way</td>\n",
       "      <td>Walk-up</td>\n",
       "      <td>4286</td>\n",
       "      <td>4349</td>\n",
       "    </tr>\n",
       "    <tr>\n",
       "      <th>102</th>\n",
       "      <td>137685616</td>\n",
       "      <td>17</td>\n",
       "      <td>2/18/2020 13:15</td>\n",
       "      <td>2/18/2020 13:32</td>\n",
       "      <td>33.984341</td>\n",
       "      <td>-118.471550</td>\n",
       "      <td>NaN</td>\n",
       "      <td>NaN</td>\n",
       "      <td>16224</td>\n",
       "      <td>1.0</td>\n",
       "      <td>One Way</td>\n",
       "      <td>Walk-up</td>\n",
       "      <td>4346</td>\n",
       "      <td>4285</td>\n",
       "    </tr>\n",
       "    <tr>\n",
       "      <th>116</th>\n",
       "      <td>151343330</td>\n",
       "      <td>21</td>\n",
       "      <td>12/22/2020 14:57</td>\n",
       "      <td>12/22/2020 15:18</td>\n",
       "      <td>34.064281</td>\n",
       "      <td>-118.238937</td>\n",
       "      <td>34.047749</td>\n",
       "      <td>-118.243172</td>\n",
       "      <td>18590</td>\n",
       "      <td>30.0</td>\n",
       "      <td>One Way</td>\n",
       "      <td>NaN</td>\n",
       "      <td>3078</td>\n",
       "      <td>3062</td>\n",
       "    </tr>\n",
       "    <tr>\n",
       "      <th>...</th>\n",
       "      <td>...</td>\n",
       "      <td>...</td>\n",
       "      <td>...</td>\n",
       "      <td>...</td>\n",
       "      <td>...</td>\n",
       "      <td>...</td>\n",
       "      <td>...</td>\n",
       "      <td>...</td>\n",
       "      <td>...</td>\n",
       "      <td>...</td>\n",
       "      <td>...</td>\n",
       "      <td>...</td>\n",
       "      <td>...</td>\n",
       "      <td>...</td>\n",
       "    </tr>\n",
       "    <tr>\n",
       "      <th>699859</th>\n",
       "      <td>106383965</td>\n",
       "      <td>4</td>\n",
       "      <td>2018-09-30 11:32:00</td>\n",
       "      <td>2018-09-30 11:36:00</td>\n",
       "      <td>34.053200</td>\n",
       "      <td>-118.250954</td>\n",
       "      <td>NaN</td>\n",
       "      <td>NaN</td>\n",
       "      <td>12364</td>\n",
       "      <td>1.0</td>\n",
       "      <td>One Way</td>\n",
       "      <td>Walk-up</td>\n",
       "      <td>3068</td>\n",
       "      <td>3000</td>\n",
       "    </tr>\n",
       "    <tr>\n",
       "      <th>699870</th>\n",
       "      <td>130378020</td>\n",
       "      <td>17</td>\n",
       "      <td>2019-10-06 21:18:16</td>\n",
       "      <td>2019-10-06 21:35:12</td>\n",
       "      <td>NaN</td>\n",
       "      <td>NaN</td>\n",
       "      <td>NaN</td>\n",
       "      <td>NaN</td>\n",
       "      <td>16059</td>\n",
       "      <td>30.0</td>\n",
       "      <td>Round Trip</td>\n",
       "      <td>Monthly Pass</td>\n",
       "      <td>4286</td>\n",
       "      <td>4286</td>\n",
       "    </tr>\n",
       "    <tr>\n",
       "      <th>699876</th>\n",
       "      <td>168280913</td>\n",
       "      <td>1440</td>\n",
       "      <td>8/7/2021 14:52</td>\n",
       "      <td>8/9/2021 8:52</td>\n",
       "      <td>34.075611</td>\n",
       "      <td>-118.291862</td>\n",
       "      <td>NaN</td>\n",
       "      <td>NaN</td>\n",
       "      <td>6607</td>\n",
       "      <td>30.0</td>\n",
       "      <td>One Way</td>\n",
       "      <td>Monthly Pass</td>\n",
       "      <td>4401</td>\n",
       "      <td>3000</td>\n",
       "    </tr>\n",
       "    <tr>\n",
       "      <th>699884</th>\n",
       "      <td>176141786</td>\n",
       "      <td>30</td>\n",
       "      <td>11/13/2021 9:10</td>\n",
       "      <td>11/13/2021 9:40</td>\n",
       "      <td>33.928459</td>\n",
       "      <td>-118.435204</td>\n",
       "      <td>NaN</td>\n",
       "      <td>NaN</td>\n",
       "      <td>13831</td>\n",
       "      <td>1.0</td>\n",
       "      <td>One Way</td>\n",
       "      <td>Walk-up</td>\n",
       "      <td>4544</td>\n",
       "      <td>3000</td>\n",
       "    </tr>\n",
       "    <tr>\n",
       "      <th>699889</th>\n",
       "      <td>128687311</td>\n",
       "      <td>53</td>\n",
       "      <td>9/7/2019 19:17</td>\n",
       "      <td>9/7/2019 20:10</td>\n",
       "      <td>NaN</td>\n",
       "      <td>NaN</td>\n",
       "      <td>33.998600</td>\n",
       "      <td>-118.472977</td>\n",
       "      <td>16189</td>\n",
       "      <td>1.0</td>\n",
       "      <td>One Way</td>\n",
       "      <td>One Day Pass</td>\n",
       "      <td>4285</td>\n",
       "      <td>4350</td>\n",
       "    </tr>\n",
       "  </tbody>\n",
       "</table>\n",
       "<p>24374 rows × 14 columns</p>\n",
       "</div>"
      ],
      "text/plain": [
       "          trip_id  duration           start_time             end_time  \\\n",
       "40      110113350      1440  2018-11-23 09:37:00  2018-11-24 16:44:00   \n",
       "92      138318300        14      2/28/2020 13:45      2/28/2020 13:59   \n",
       "93      124411714        40  2019-06-27 09:34:00  2019-06-27 10:14:00   \n",
       "102     137685616        17      2/18/2020 13:15      2/18/2020 13:32   \n",
       "116     151343330        21     12/22/2020 14:57     12/22/2020 15:18   \n",
       "...           ...       ...                  ...                  ...   \n",
       "699859  106383965         4  2018-09-30 11:32:00  2018-09-30 11:36:00   \n",
       "699870  130378020        17  2019-10-06 21:18:16  2019-10-06 21:35:12   \n",
       "699876  168280913      1440       8/7/2021 14:52        8/9/2021 8:52   \n",
       "699884  176141786        30      11/13/2021 9:10      11/13/2021 9:40   \n",
       "699889  128687311        53       9/7/2019 19:17       9/7/2019 20:10   \n",
       "\n",
       "        start_lat   start_lon    end_lat     end_lon bike_id  plan_duration  \\\n",
       "40      34.014309 -118.491341        NaN         NaN   12227            1.0   \n",
       "92            NaN         NaN  34.158321 -118.370811   15252           30.0   \n",
       "93            NaN         NaN  33.996239 -118.477448   16203          365.0   \n",
       "102     33.984341 -118.471550        NaN         NaN   16224            1.0   \n",
       "116     34.064281 -118.238937  34.047749 -118.243172   18590           30.0   \n",
       "...           ...         ...        ...         ...     ...            ...   \n",
       "699859  34.053200 -118.250954        NaN         NaN   12364            1.0   \n",
       "699870        NaN         NaN        NaN         NaN   16059           30.0   \n",
       "699876  34.075611 -118.291862        NaN         NaN    6607           30.0   \n",
       "699884  33.928459 -118.435204        NaN         NaN   13831            1.0   \n",
       "699889        NaN         NaN  33.998600 -118.472977   16189            1.0   \n",
       "\n",
       "       trip_route_category passholder_type  start_station  end_station  \n",
       "40                 One Way         Walk-up           4215         3000  \n",
       "92                 One Way    Monthly Pass           4285         4413  \n",
       "93                 One Way         Walk-up           4286         4349  \n",
       "102                One Way         Walk-up           4346         4285  \n",
       "116                One Way             NaN           3078         3062  \n",
       "...                    ...             ...            ...          ...  \n",
       "699859             One Way         Walk-up           3068         3000  \n",
       "699870          Round Trip    Monthly Pass           4286         4286  \n",
       "699876             One Way    Monthly Pass           4401         3000  \n",
       "699884             One Way         Walk-up           4544         3000  \n",
       "699889             One Way    One Day Pass           4285         4350  \n",
       "\n",
       "[24374 rows x 14 columns]"
      ]
     },
     "execution_count": 7,
     "metadata": {},
     "output_type": "execute_result"
    }
   ],
   "source": [
    "train_raw[train_raw.isnull().any(1)]"
   ]
  },
  {
   "cell_type": "code",
   "execution_count": 8,
   "metadata": {},
   "outputs": [
    {
     "data": {
      "text/html": [
       "<div>\n",
       "<style scoped>\n",
       "    .dataframe tbody tr th:only-of-type {\n",
       "        vertical-align: middle;\n",
       "    }\n",
       "\n",
       "    .dataframe tbody tr th {\n",
       "        vertical-align: top;\n",
       "    }\n",
       "\n",
       "    .dataframe thead th {\n",
       "        text-align: right;\n",
       "    }\n",
       "</style>\n",
       "<table border=\"1\" class=\"dataframe\">\n",
       "  <thead>\n",
       "    <tr style=\"text-align: right;\">\n",
       "      <th></th>\n",
       "      <th>trip_id</th>\n",
       "      <th>duration</th>\n",
       "      <th>start_time</th>\n",
       "      <th>end_time</th>\n",
       "      <th>start_lat</th>\n",
       "      <th>start_lon</th>\n",
       "      <th>end_lat</th>\n",
       "      <th>end_lon</th>\n",
       "      <th>bike_id</th>\n",
       "      <th>plan_duration</th>\n",
       "      <th>trip_route_category</th>\n",
       "      <th>passholder_type</th>\n",
       "      <th>start_station</th>\n",
       "      <th>end_station</th>\n",
       "    </tr>\n",
       "  </thead>\n",
       "  <tbody>\n",
       "    <tr>\n",
       "      <th>0</th>\n",
       "      <td>101750280</td>\n",
       "      <td>35</td>\n",
       "      <td>2018-08-07 11:20:00</td>\n",
       "      <td>2018-08-07 11:55:00</td>\n",
       "      <td>33.748920</td>\n",
       "      <td>-118.275192</td>\n",
       "      <td>33.748920</td>\n",
       "      <td>-118.275192</td>\n",
       "      <td>06530</td>\n",
       "      <td>1.0</td>\n",
       "      <td>Round Trip</td>\n",
       "      <td>Walk-up</td>\n",
       "      <td>4127</td>\n",
       "      <td>4127</td>\n",
       "    </tr>\n",
       "    <tr>\n",
       "      <th>1</th>\n",
       "      <td>46560345</td>\n",
       "      <td>32</td>\n",
       "      <td>9/17/2017 17:51</td>\n",
       "      <td>9/17/2017 18:23</td>\n",
       "      <td>34.035679</td>\n",
       "      <td>-118.270813</td>\n",
       "      <td>34.047749</td>\n",
       "      <td>-118.243172</td>\n",
       "      <td>6683</td>\n",
       "      <td>0.0</td>\n",
       "      <td>One Way</td>\n",
       "      <td>Walk-up</td>\n",
       "      <td>3057</td>\n",
       "      <td>3062</td>\n",
       "    </tr>\n",
       "    <tr>\n",
       "      <th>2</th>\n",
       "      <td>120016336</td>\n",
       "      <td>6</td>\n",
       "      <td>2019-04-22 09:22:00</td>\n",
       "      <td>2019-04-22 09:28:00</td>\n",
       "      <td>34.046070</td>\n",
       "      <td>-118.233093</td>\n",
       "      <td>34.047749</td>\n",
       "      <td>-118.243172</td>\n",
       "      <td>06710</td>\n",
       "      <td>30.0</td>\n",
       "      <td>One Way</td>\n",
       "      <td>Monthly Pass</td>\n",
       "      <td>3022</td>\n",
       "      <td>3062</td>\n",
       "    </tr>\n",
       "    <tr>\n",
       "      <th>3</th>\n",
       "      <td>129547190</td>\n",
       "      <td>138</td>\n",
       "      <td>9/22/2019 11:27</td>\n",
       "      <td>9/22/2019 13:45</td>\n",
       "      <td>34.062580</td>\n",
       "      <td>-118.290092</td>\n",
       "      <td>34.059689</td>\n",
       "      <td>-118.294662</td>\n",
       "      <td>17068</td>\n",
       "      <td>1.0</td>\n",
       "      <td>One Way</td>\n",
       "      <td>One Day Pass</td>\n",
       "      <td>4304</td>\n",
       "      <td>4311</td>\n",
       "    </tr>\n",
       "    <tr>\n",
       "      <th>4</th>\n",
       "      <td>136619463</td>\n",
       "      <td>14</td>\n",
       "      <td>1/31/2020 17:11</td>\n",
       "      <td>1/31/2020 17:25</td>\n",
       "      <td>34.026291</td>\n",
       "      <td>-118.277687</td>\n",
       "      <td>34.021660</td>\n",
       "      <td>-118.278687</td>\n",
       "      <td>18841</td>\n",
       "      <td>30.0</td>\n",
       "      <td>One Way</td>\n",
       "      <td>Monthly Pass</td>\n",
       "      <td>4266</td>\n",
       "      <td>4443</td>\n",
       "    </tr>\n",
       "    <tr>\n",
       "      <th>...</th>\n",
       "      <td>...</td>\n",
       "      <td>...</td>\n",
       "      <td>...</td>\n",
       "      <td>...</td>\n",
       "      <td>...</td>\n",
       "      <td>...</td>\n",
       "      <td>...</td>\n",
       "      <td>...</td>\n",
       "      <td>...</td>\n",
       "      <td>...</td>\n",
       "      <td>...</td>\n",
       "      <td>...</td>\n",
       "      <td>...</td>\n",
       "      <td>...</td>\n",
       "    </tr>\n",
       "    <tr>\n",
       "      <th>699995</th>\n",
       "      <td>83666862</td>\n",
       "      <td>17</td>\n",
       "      <td>2018-04-25 18:32:00</td>\n",
       "      <td>2018-04-25 18:49:00</td>\n",
       "      <td>34.049889</td>\n",
       "      <td>-118.255882</td>\n",
       "      <td>34.074829</td>\n",
       "      <td>-118.258728</td>\n",
       "      <td>06505</td>\n",
       "      <td>30.0</td>\n",
       "      <td>One Way</td>\n",
       "      <td>Monthly Pass</td>\n",
       "      <td>3032</td>\n",
       "      <td>4220</td>\n",
       "    </tr>\n",
       "    <tr>\n",
       "      <th>699996</th>\n",
       "      <td>132547303</td>\n",
       "      <td>9</td>\n",
       "      <td>2019-11-12 16:49:10</td>\n",
       "      <td>2019-11-12 16:58:51</td>\n",
       "      <td>34.039188</td>\n",
       "      <td>-118.232529</td>\n",
       "      <td>34.056610</td>\n",
       "      <td>-118.237213</td>\n",
       "      <td>18348</td>\n",
       "      <td>30.0</td>\n",
       "      <td>One Way</td>\n",
       "      <td>Monthly Pass</td>\n",
       "      <td>3036</td>\n",
       "      <td>3014</td>\n",
       "    </tr>\n",
       "    <tr>\n",
       "      <th>699997</th>\n",
       "      <td>67332628</td>\n",
       "      <td>6</td>\n",
       "      <td>2018-01-13 15:49:00</td>\n",
       "      <td>2018-01-13 15:55:00</td>\n",
       "      <td>34.049889</td>\n",
       "      <td>-118.255882</td>\n",
       "      <td>34.050480</td>\n",
       "      <td>-118.254593</td>\n",
       "      <td>05718</td>\n",
       "      <td>365.0</td>\n",
       "      <td>One Way</td>\n",
       "      <td>Flex Pass</td>\n",
       "      <td>3032</td>\n",
       "      <td>3007</td>\n",
       "    </tr>\n",
       "    <tr>\n",
       "      <th>699998</th>\n",
       "      <td>114846232</td>\n",
       "      <td>3</td>\n",
       "      <td>2019-02-04 14:16:00</td>\n",
       "      <td>2019-02-04 14:19:00</td>\n",
       "      <td>34.045181</td>\n",
       "      <td>-118.250237</td>\n",
       "      <td>34.045540</td>\n",
       "      <td>-118.256668</td>\n",
       "      <td>12195</td>\n",
       "      <td>1.0</td>\n",
       "      <td>One Way</td>\n",
       "      <td>Walk-up</td>\n",
       "      <td>3067</td>\n",
       "      <td>3006</td>\n",
       "    </tr>\n",
       "    <tr>\n",
       "      <th>699999</th>\n",
       "      <td>167744702</td>\n",
       "      <td>59</td>\n",
       "      <td>8/1/2021 20:26</td>\n",
       "      <td>8/1/2021 21:25</td>\n",
       "      <td>33.984341</td>\n",
       "      <td>-118.471550</td>\n",
       "      <td>34.023392</td>\n",
       "      <td>-118.479637</td>\n",
       "      <td>16201</td>\n",
       "      <td>1.0</td>\n",
       "      <td>One Way</td>\n",
       "      <td>Walk-up</td>\n",
       "      <td>4210</td>\n",
       "      <td>4216</td>\n",
       "    </tr>\n",
       "  </tbody>\n",
       "</table>\n",
       "<p>700000 rows × 14 columns</p>\n",
       "</div>"
      ],
      "text/plain": [
       "          trip_id  duration           start_time             end_time  \\\n",
       "0       101750280        35  2018-08-07 11:20:00  2018-08-07 11:55:00   \n",
       "1        46560345        32      9/17/2017 17:51      9/17/2017 18:23   \n",
       "2       120016336         6  2019-04-22 09:22:00  2019-04-22 09:28:00   \n",
       "3       129547190       138      9/22/2019 11:27      9/22/2019 13:45   \n",
       "4       136619463        14      1/31/2020 17:11      1/31/2020 17:25   \n",
       "...           ...       ...                  ...                  ...   \n",
       "699995   83666862        17  2018-04-25 18:32:00  2018-04-25 18:49:00   \n",
       "699996  132547303         9  2019-11-12 16:49:10  2019-11-12 16:58:51   \n",
       "699997   67332628         6  2018-01-13 15:49:00  2018-01-13 15:55:00   \n",
       "699998  114846232         3  2019-02-04 14:16:00  2019-02-04 14:19:00   \n",
       "699999  167744702        59       8/1/2021 20:26       8/1/2021 21:25   \n",
       "\n",
       "        start_lat   start_lon    end_lat     end_lon bike_id  plan_duration  \\\n",
       "0       33.748920 -118.275192  33.748920 -118.275192   06530            1.0   \n",
       "1       34.035679 -118.270813  34.047749 -118.243172    6683            0.0   \n",
       "2       34.046070 -118.233093  34.047749 -118.243172   06710           30.0   \n",
       "3       34.062580 -118.290092  34.059689 -118.294662   17068            1.0   \n",
       "4       34.026291 -118.277687  34.021660 -118.278687   18841           30.0   \n",
       "...           ...         ...        ...         ...     ...            ...   \n",
       "699995  34.049889 -118.255882  34.074829 -118.258728   06505           30.0   \n",
       "699996  34.039188 -118.232529  34.056610 -118.237213   18348           30.0   \n",
       "699997  34.049889 -118.255882  34.050480 -118.254593   05718          365.0   \n",
       "699998  34.045181 -118.250237  34.045540 -118.256668   12195            1.0   \n",
       "699999  33.984341 -118.471550  34.023392 -118.479637   16201            1.0   \n",
       "\n",
       "       trip_route_category passholder_type  start_station  end_station  \n",
       "0               Round Trip         Walk-up           4127         4127  \n",
       "1                  One Way         Walk-up           3057         3062  \n",
       "2                  One Way    Monthly Pass           3022         3062  \n",
       "3                  One Way    One Day Pass           4304         4311  \n",
       "4                  One Way    Monthly Pass           4266         4443  \n",
       "...                    ...             ...            ...          ...  \n",
       "699995             One Way    Monthly Pass           3032         4220  \n",
       "699996             One Way    Monthly Pass           3036         3014  \n",
       "699997             One Way       Flex Pass           3032         3007  \n",
       "699998             One Way         Walk-up           3067         3006  \n",
       "699999             One Way         Walk-up           4210         4216  \n",
       "\n",
       "[700000 rows x 14 columns]"
      ]
     },
     "execution_count": 8,
     "metadata": {},
     "output_type": "execute_result"
    }
   ],
   "source": [
    "# Se rellenan las localizaciones NaN con la ubicación de las estaciones vista en otros registros\n",
    "\n",
    "start_stations = train_raw[['start_lat', 'start_lon', 'start_station']] \\\n",
    "    .dropna(subset=['start_lat', 'start_lon', 'start_station']) \\\n",
    "    .groupby(by='start_station') \\\n",
    "    .first() \\\n",
    "    .reset_index() \\\n",
    "    .rename(columns={\n",
    "        'start_station': 'station',\n",
    "        'start_lat': 'lat',\n",
    "        'start_lon': 'lon'\n",
    "    })\n",
    "end_stations = train_raw[['end_lat', 'end_lon', 'end_station']]\\\n",
    "    .dropna(subset=['end_lat', 'end_lon', 'end_station'])\\\n",
    "    .groupby(by='end_station')\\\n",
    "    .first()\\\n",
    "    .reset_index()\\\n",
    "    .rename(columns={\n",
    "        'end_station': 'station',\n",
    "        'end_lat': 'lat',\n",
    "        'end_lon': 'lon'\n",
    "    })\n",
    "\n",
    "stations = pd.concat([start_stations, end_stations], axis=0)\n",
    "\n",
    "def fill_nan_locations(data: pd.DataFrame):\n",
    "    global stations\n",
    "    mod_data = data[data.isna().any(1)]\n",
    "    \n",
    "    def rep(row: pd.Series):\n",
    "        start_station = stations[stations['station'] == row['start_station']]\n",
    "        end_station = stations[stations['station'] == row['end_station']]\n",
    "        \n",
    "        if start_station.shape[0] > 0:\n",
    "            row['start_lat'] = start_station.iloc[0]['lat']\n",
    "            row['start_lon'] = start_station.iloc[0]['lon']\n",
    "        \n",
    "        if end_station.shape[0] > 0:\n",
    "            row['end_lat'] = end_station.iloc[0]['lat']\n",
    "            row['end_lon'] = end_station.iloc[0]['lon']\n",
    "\n",
    "        return row\n",
    "\n",
    "    \n",
    "    return data.combine_first(mod_data.apply(rep, axis=1))\n",
    "\n",
    "cleaning_pipe.append(fill_nan_locations)\n",
    "train = fill_nan_locations(train_raw)\n",
    "train"
   ]
  },
  {
   "cell_type": "markdown",
   "metadata": {},
   "source": [
    "Se buscan los puntos del dataset que podrían no estar dentro del area de servicio (errores de ubicación)"
   ]
  },
  {
   "cell_type": "code",
   "execution_count": 9,
   "metadata": {},
   "outputs": [
    {
     "data": {
      "application/vnd.plotly.v1+json": {
       "config": {
        "plotlyServerURL": "https://plot.ly"
       },
       "data": [
        {
         "geo": "geo",
         "hovertemplate": "lat=%{lat}<br>lon=%{lon}<extra></extra>",
         "lat": [
          34.025841,
          34.0485,
          34.04554,
          34.05048,
          34.046612,
          33.987381,
          34.037048,
          34.04113,
          33.779819,
          34.05661,
          34.052898,
          34.043732,
          34.038609,
          34.031052,
          34.04607,
          34.050911,
          34.05772,
          34.03286,
          34.063179,
          34.04998,
          34.058319,
          34.048851,
          34.051941,
          34.044701,
          34.049889,
          34.040989,
          34.042061,
          34.048401,
          34.039188,
          34.034801,
          34.046822,
          34.024479,
          34.05357,
          34.049301,
          34.028511,
          34.052872,
          34.039982,
          34.041691,
          34.056969,
          34.045422,
          34.051102,
          34.039219,
          34.044159,
          34.03746,
          34.035679,
          34.035801,
          34.037949,
          34.034882,
          34.04472,
          34.047749,
          34.048038,
          34.04681,
          34.060558,
          34.063389,
          34.045181,
          34.0532,
          34.05088,
          34.04417,
          34.04211,
          34.0406,
          34.039871,
          34.064281,
          34.05014,
          34.03421,
          34.031891,
          34.04652,
          34.02589,
          33.766659,
          33.710979,
          33.74892,
          33.725819,
          33.719261,
          33.738979,
          33.74913,
          33.733521,
          33.74136,
          33.772301,
          33.771759,
          34.145691,
          34.144588,
          34.145748,
          34.142399,
          34.147831,
          34.145248,
          34.14967,
          34.13821,
          34.15427,
          34.142361,
          34.149712,
          34.156181,
          34.15612,
          34.147812,
          34.14991,
          34.140999,
          34.13525,
          34.145901,
          34.133011,
          34.147499,
          34.150471,
          34.14175,
          34.145908,
          34.143822,
          34.146961,
          34.160709,
          34.165291,
          34.137859,
          34.144981,
          34.137951,
          34.146221,
          34.146069,
          34.056702,
          33.991161,
          33.988419,
          33.993771,
          33.998341,
          34.000881,
          33.99868,
          33.996239,
          33.984341,
          33.984928,
          33.988129,
          33.995369,
          33.99556,
          34.014309,
          34.023392,
          34.04031,
          34.074829,
          34.0298,
          34.018059,
          34.02404,
          34.023708,
          34.033642,
          34.028351,
          34.020302,
          34.03017,
          34.028679,
          33.97366,
          34.026291,
          34.027618,
          34.02586,
          34.01252,
          34.04739,
          34.062279,
          34.04887,
          34.099049,
          34.092491,
          34.098011,
          34.06258,
          34.057652,
          34.059689,
          34.06699,
          34.056808,
          34.057709,
          34.054031,
          34.031399,
          34.005871,
          33.99958,
          34.02655,
          34.022518,
          34.172451,
          34.020061,
          34.029121,
          34.025688,
          34.00351,
          34.02948,
          33.997231,
          34.02018,
          34.023392,
          34.022449,
          33.993019,
          34.01376,
          34.02338,
          33.9953,
          33.991161,
          33.998322,
          34.014309,
          33.995579,
          33.984341,
          33.984928,
          34.000881,
          33.996239,
          33.9986,
          33.993729,
          33.988419,
          33.988129,
          34.017681,
          34.027771,
          34.02866,
          34.03046,
          34.02457,
          34.027882,
          34.03677,
          34.036621,
          34.022331,
          34.017368,
          33.982922,
          34.00021,
          34.030472,
          34.009022,
          33.990318,
          34.036678,
          34.03352,
          34.035351,
          34.069271,
          34.026829,
          33.980789,
          34.01157,
          34.02697,
          34.01688,
          34.027828,
          34.075611,
          34.101509,
          33.943359,
          34.04813,
          34.051899,
          34.101891,
          34.101871,
          34.011799,
          33.986511,
          34.063351,
          34.158321,
          34.16835,
          34.168331,
          34.157581,
          34.164951,
          34.150688,
          34.165218,
          34.168629,
          34.152142,
          34.152,
          34.149872,
          34.162861,
          34.161709,
          34.168751,
          34.172451,
          34.17765,
          34.139568,
          33.738991,
          34.105782,
          34.105358,
          34.094929,
          34.090969,
          34.061661,
          34.026619,
          34.098,
          34.02166,
          34.061619,
          34.073639,
          34.05323,
          34.0616,
          34.03027,
          34.04557,
          34.063492,
          34.10363,
          34.102329,
          34.082649,
          34.017899,
          34.10936,
          34.052429,
          34.100109,
          33.990971,
          33.985611,
          33.99485,
          34.027649,
          34.022018,
          34.175671,
          33.970242,
          33.976189,
          34.092602,
          34.07159,
          34.110031,
          34.045181,
          34.08252,
          34.103851,
          34.10424,
          34.031502,
          34.05896,
          34.094372,
          34.1007,
          33.978821,
          34.06126,
          34.053551,
          34.04744,
          34.036869,
          34.090279,
          34.075981,
          55.705528,
          34.15749,
          34.17989,
          34.186569,
          34.1721,
          34.16552,
          33.9897,
          33.95879,
          33.96973,
          34.017941,
          34.101639,
          34.077351,
          34.056278,
          34.043812,
          34.08371,
          34.045849,
          34.101959,
          34.057968,
          33.990318,
          34.068748,
          34.06163,
          34.10038,
          34.103378,
          34.102001,
          34.06097,
          34.10186,
          34.10186,
          33.989079,
          34.098228,
          34.06543,
          34.101761,
          34.04776,
          33.984852,
          33.97298,
          33.95718,
          33.928459,
          33.95879,
          34.031399,
          33.9897,
          34.026829,
          34.022449,
          33.990971,
          33.99958,
          34.00351,
          34.005871,
          34.009022,
          34.011799,
          34.025688,
          34.021992,
          34.017368,
          34.020061,
          34.02697,
          34.017681,
          34.035351,
          33.989948,
          34.023392,
          34.02018,
          34.029121,
          34.02655,
          34.01376,
          34.027649,
          34.02948,
          34.030472,
          34.000309,
          34.022579,
          33.993019,
          34.04298,
          33.984859,
          33.982922,
          33.970242,
          33.980991,
          33.976189,
          34.094349,
          34.060791,
          34.020969,
          34.010971,
          34.02589,
          34.0485,
          34.04554,
          34.05048,
          34.046612,
          33.987381,
          34.037048,
          34.04113,
          33.779819,
          34.05661,
          34.052898,
          34.043732,
          34.038609,
          34.031052,
          34.04607,
          34.050911,
          34.05772,
          34.03286,
          34.063179,
          34.04998,
          34.058319,
          34.048851,
          34.051941,
          34.044701,
          34.049889,
          34.040989,
          34.042061,
          34.048401,
          34.039188,
          34.034801,
          34.046822,
          34.024479,
          34.05357,
          34.049301,
          34.028511,
          34.052872,
          34.039982,
          34.041691,
          34.056969,
          34.045422,
          34.051102,
          34.039219,
          34.044159,
          34.03746,
          34.035679,
          34.035801,
          34.037949,
          34.034882,
          34.04472,
          34.047749,
          34.049198,
          34.04681,
          34.060558,
          34.063389,
          34.045181,
          34.0532,
          34.05088,
          34.04417,
          34.04211,
          34.0406,
          34.039871,
          34.064281,
          34.05014,
          34.03421,
          34.031891,
          34.04652,
          34.02589,
          34.043869,
          34.026112,
          33.766659,
          33.710979,
          33.74892,
          33.725819,
          33.719261,
          33.738979,
          33.74913,
          33.733521,
          33.74136,
          33.772301,
          33.771759,
          34.145691,
          34.144588,
          34.145748,
          34.142399,
          34.147831,
          34.145248,
          34.14967,
          34.13821,
          34.15427,
          34.142361,
          34.149712,
          34.156181,
          34.15612,
          34.147812,
          34.14991,
          34.140999,
          34.13525,
          34.145901,
          34.133011,
          34.147499,
          34.150471,
          34.14175,
          34.145908,
          34.143822,
          34.146961,
          34.160709,
          34.165291,
          34.137859,
          34.144981,
          34.137951,
          34.146221,
          34.146069,
          34.056702,
          33.991161,
          33.988419,
          33.993771,
          33.998341,
          34.000881,
          33.99868,
          33.996239,
          33.984341,
          33.984928,
          33.988129,
          33.995369,
          33.99556,
          34.014309,
          34.023392,
          34.04031,
          34.074829,
          34.0298,
          34.018059,
          34.02404,
          34.023708,
          34.033642,
          34.028351,
          34.020302,
          34.03017,
          34.028679,
          33.97366,
          34.026291,
          34.027618,
          34.02586,
          34.01252,
          34.04739,
          34.062279,
          34.04887,
          34.099049,
          34.092491,
          34.098011,
          34.06258,
          34.057652,
          34.059689,
          34.06699,
          34.056808,
          34.057709,
          34.054031,
          34.031399,
          34.005871,
          33.99958,
          34.02655,
          34.022518,
          34.172451,
          34.020061,
          34.029121,
          34.025688,
          34.00351,
          34.02948,
          33.997231,
          34.02018,
          34.023392,
          34.022449,
          33.993019,
          34.01376,
          34.02338,
          33.9953,
          33.991161,
          33.998322,
          34.014309,
          33.99556,
          33.984341,
          33.984928,
          34.000881,
          33.996239,
          33.9986,
          33.993729,
          33.988419,
          33.988129,
          34.017681,
          34.027771,
          34.02866,
          34.02618,
          34.03046,
          34.02457,
          34.027882,
          34.03677,
          34.168751,
          34.022331,
          34.017368,
          33.982922,
          34.00021,
          34.030472,
          34.009022,
          33.990318,
          34.036678,
          34.03352,
          34.035351,
          34.069271,
          34.026829,
          33.980789,
          34.162891,
          34.02697,
          34.01688,
          34.027828,
          34.075611,
          34.101509,
          33.943359,
          34.04813,
          34.051899,
          34.101891,
          34.101871,
          34.011799,
          33.986511,
          34.063351,
          34.158321,
          34.16835,
          34.168331,
          34.157581,
          34.164951,
          34.150688,
          34.165218,
          34.168629,
          34.152142,
          34.152,
          34.149872,
          34.162861,
          34.161709,
          34.168751,
          34.172451,
          34.17765,
          34.139568,
          33.738991,
          34.105782,
          34.105358,
          34.094929,
          34.090969,
          34.061661,
          34.026619,
          34.098,
          34.02166,
          34.061619,
          34.073639,
          34.05323,
          34.0616,
          34.03027,
          34.04557,
          34.063492,
          34.10363,
          34.102329,
          34.082649,
          34.017899,
          34.10936,
          34.052429,
          34.100109,
          33.990971,
          33.985611,
          33.99485,
          34.027649,
          34.022018,
          34.175671,
          34.013691,
          34.013741,
          33.970242,
          33.976189,
          34.092602,
          34.07159,
          34.110031,
          34.045181,
          34.08252,
          34.103851,
          34.10424,
          34.031502,
          34.05896,
          34.094372,
          34.1007,
          33.978821,
          34.06126,
          34.053551,
          34.04744,
          34.036869,
          34.090279,
          34.075981,
          55.705528,
          34.15749,
          34.17989,
          34.186569,
          34.1721,
          34.16552,
          33.9897,
          33.95879,
          33.96973,
          34.017941,
          34.101639,
          34.077351,
          34.056278,
          34.043812,
          34.08371,
          34.045849,
          34.101959,
          34.057968,
          33.990318,
          34.068748,
          34.06163,
          34.10038,
          34.103378,
          34.102001,
          34.06097,
          34.10186,
          34.10186,
          33.989079,
          34.098228,
          34.06543,
          34.101761,
          34.04776,
          33.984852,
          33.97298,
          33.95718,
          33.928459,
          33.95879,
          34.031399,
          33.9897,
          34.026829,
          34.022449,
          33.990971,
          33.99958,
          34.00351,
          34.005871,
          34.009022,
          34.011799,
          34.025688,
          34.021992,
          34.017368,
          34.020061,
          34.02697,
          34.017681,
          34.035351,
          33.989948,
          34.023392,
          34.02018,
          34.029121,
          34.02655,
          34.01376,
          34.027649,
          34.02948,
          34.030472,
          34.000309,
          34.022579,
          33.993019,
          34.04298,
          33.984859,
          33.982922,
          33.970242,
          33.980991,
          33.976189,
          34.094349,
          34.060791,
          34.020969,
          34.010971
         ],
         "legendgroup": "",
         "lon": [
          -118.238213,
          -118.258537,
          -118.256668,
          -118.25459,
          -118.262733,
          -118.472832,
          -118.254868,
          -118.267982,
          -118.263023,
          -118.237213,
          -118.241562,
          -118.260139,
          -118.260857,
          -118.26709,
          -118.233093,
          -118.240967,
          -118.24897,
          -118.26808,
          -118.24588,
          -118.247162,
          -118.246094,
          -118.246422,
          -118.24353,
          -118.252441,
          -118.25588,
          -118.255798,
          -118.263382,
          -118.260948,
          -118.232529,
          -118.231277,
          -118.248352,
          -118.393867,
          -118.266357,
          -118.2388,
          -118.256668,
          -118.24749,
          -118.266403,
          -118.235352,
          -118.253593,
          -118.25351,
          -118.264557,
          -118.236488,
          -118.251579,
          -118.265381,
          -118.270813,
          -118.23317,
          -118.256271,
          -118.25769,
          -118.266243,
          -118.243172,
          -118.253738,
          -118.256981,
          -118.238327,
          -118.23616,
          -118.250237,
          -118.250954,
          -118.248253,
          -118.261169,
          -118.256187,
          -118.253838,
          -118.250038,
          -118.238937,
          -118.233238,
          -118.254593,
          -118.250183,
          -118.237411,
          -118.238243,
          -118.26101,
          -118.28466,
          -118.275192,
          -118.28051,
          -118.282722,
          -118.279266,
          -118.280182,
          -118.277786,
          -118.278069,
          -118.26804,
          -118.276543,
          -118.148239,
          -118.144592,
          -118.144287,
          -118.132652,
          -118.145042,
          -118.15007,
          -118.145111,
          -118.14707,
          -118.142151,
          -118.14151,
          -118.160172,
          -118.166687,
          -118.151192,
          -118.132217,
          -118.13839,
          -118.132088,
          -118.13237,
          -118.116539,
          -118.14856,
          -118.14801,
          -118.132019,
          -118.149063,
          -118.12175,
          -118.154099,
          -118.139839,
          -118.132401,
          -118.15097,
          -118.122414,
          -118.13826,
          -118.128502,
          -118.135262,
          -118.129181,
          -118.231392,
          -118.468292,
          -118.45163,
          -118.453667,
          -118.461014,
          -118.46891,
          -118.472977,
          -118.477448,
          -118.47155,
          -118.46996,
          -118.471741,
          -118.464798,
          -118.481552,
          -118.491341,
          -118.479637,
          -118.25827,
          -118.258728,
          -118.270309,
          -118.286728,
          -118.283409,
          -118.279167,
          -118.291313,
          -118.288673,
          -118.281181,
          -118.280952,
          -118.284111,
          -118.422859,
          -118.277687,
          -118.280678,
          -118.284103,
          -118.285896,
          -118.218849,
          -118.271523,
          -118.2743,
          -118.291496,
          -118.291443,
          -118.287071,
          -118.290092,
          -118.292183,
          -118.294662,
          -118.290878,
          -118.275002,
          -118.279762,
          -118.27092,
          -118.453629,
          -118.429161,
          -118.44136,
          -118.408463,
          -118.400589,
          -118.370369,
          -118.422684,
          -118.403168,
          -118.395302,
          -118.43438,
          -118.410469,
          -118.445969,
          -118.40403,
          -118.399223,
          -118.438332,
          -118.414909,
          -118.417801,
          -118.479637,
          -118.464844,
          -118.468292,
          -118.460983,
          -118.491341,
          -118.481422,
          -118.47155,
          -118.469963,
          -118.46891,
          -118.477448,
          -118.472977,
          -118.45356,
          -118.45163,
          -118.471741,
          -118.409081,
          -118.38726,
          -118.410294,
          -118.389099,
          -118.394081,
          -118.388901,
          -118.425377,
          -118.425308,
          -118.415771,
          -118.420601,
          -118.410927,
          -118.402222,
          -118.420982,
          -118.425011,
          -118.412048,
          -118.425339,
          -118.241837,
          -118.434143,
          -118.296593,
          -118.393517,
          -118.414902,
          -118.495422,
          -118.428207,
          -118.428452,
          -118.247139,
          -118.291862,
          -118.33979,
          -118.248238,
          -118.271027,
          -118.293678,
          -118.300613,
          -118.29377,
          -118.419441,
          -118.441917,
          -118.296799,
          -118.370811,
          -118.387497,
          -118.396156,
          -118.38826,
          -118.363632,
          -118.366127,
          -118.355148,
          -118.377068,
          -118.361954,
          -118.350601,
          -118.378891,
          -118.370201,
          -118.372818,
          -118.36187,
          -118.370369,
          -118.382309,
          -118.362251,
          -118.28363,
          -118.291939,
          -118.28727,
          -118.284561,
          -118.286247,
          -118.298241,
          -118.281807,
          -118.300468,
          -118.278687,
          -118.305573,
          -118.251572,
          -118.278419,
          -118.28199,
          -118.273193,
          -118.274193,
          -118.287163,
          -118.291313,
          -118.28746,
          -118.284393,
          -118.291718,
          -118.271812,
          -118.302017,
          -118.289864,
          -118.421127,
          -118.425438,
          -118.417961,
          -118.413559,
          -118.409378,
          -118.378967,
          -118.426071,
          -118.418419,
          -118.28093,
          -118.282288,
          -118.287163,
          -118.243248,
          -118.27272,
          -118.325462,
          -118.273697,
          -118.288742,
          -118.250587,
          -118.331009,
          -118.259117,
          -118.407562,
          -118.258598,
          -118.255836,
          -118.24794,
          -118.425499,
          -118.277191,
          -118.256012,
          37.606541,
          -118.39576,
          -118.370422,
          -118.388008,
          -118.361816,
          -118.375153,
          -118.448883,
          -118.44828,
          -118.463333,
          -118.255417,
          -118.309174,
          -118.264549,
          -118.231773,
          -118.264969,
          -118.296021,
          -118.254402,
          -118.338852,
          -118.299751,
          -118.412048,
          -118.30928,
          -118.301193,
          -118.341797,
          -118.34919,
          -118.33741,
          -118.444366,
          -118.33329,
          -118.32811,
          -118.462257,
          -118.338821,
          -118.308823,
          -118.33474,
          -118.22541,
          -118.431641,
          -118.423943,
          -118.451248,
          -118.435204,
          -118.44828,
          -118.453629,
          -118.448883,
          -118.393517,
          -118.438332,
          -118.421303,
          -118.44136,
          -118.43438,
          -118.429161,
          -118.425011,
          -118.419441,
          -118.395302,
          -118.416496,
          -118.420601,
          -118.422684,
          -118.428207,
          -118.409081,
          -118.434143,
          -118.434669,
          -118.399223,
          -118.40403,
          -118.403168,
          -118.408463,
          -118.417801,
          -118.413559,
          -118.410469,
          -118.420982,
          -118.402527,
          -118.40551,
          -118.414909,
          -118.252953,
          -118.431129,
          -118.410927,
          -118.426071,
          -118.414879,
          -118.418419,
          -118.326363,
          -118.309067,
          -118.335197,
          -118.289749,
          -118.23822,
          -118.258537,
          -118.256668,
          -118.254593,
          -118.262733,
          -118.472832,
          -118.254868,
          -118.267982,
          -118.263023,
          -118.237213,
          -118.241562,
          -118.260139,
          -118.260857,
          -118.26709,
          -118.233093,
          -118.24096,
          -118.24897,
          -118.268082,
          -118.24588,
          -118.247162,
          -118.246094,
          -118.246422,
          -118.24353,
          -118.252441,
          -118.255882,
          -118.255798,
          -118.26338,
          -118.260948,
          -118.232529,
          -118.231277,
          -118.248352,
          -118.393867,
          -118.266357,
          -118.238808,
          -118.256668,
          -118.24749,
          -118.266403,
          -118.235352,
          -118.253593,
          -118.253517,
          -118.264557,
          -118.236488,
          -118.25157,
          -118.265381,
          -118.270813,
          -118.23317,
          -118.256271,
          -118.25769,
          -118.266243,
          -118.243172,
          -118.25283,
          -118.256981,
          -118.238327,
          -118.23616,
          -118.250237,
          -118.250954,
          -118.248253,
          -118.261169,
          -118.256187,
          -118.253838,
          -118.250038,
          -118.238937,
          -118.23323,
          -118.254593,
          -118.25018,
          -118.237411,
          -118.238243,
          -118.257637,
          -118.238319,
          -118.26101,
          -118.28466,
          -118.275192,
          -118.28051,
          -118.282722,
          -118.279266,
          -118.280182,
          -118.277786,
          -118.278069,
          -118.26804,
          -118.276543,
          -118.148239,
          -118.144592,
          -118.144287,
          -118.132652,
          -118.145042,
          -118.15007,
          -118.145111,
          -118.147079,
          -118.142151,
          -118.14151,
          -118.160172,
          -118.166687,
          -118.151192,
          -118.132217,
          -118.13839,
          -118.132088,
          -118.13237,
          -118.116539,
          -118.14856,
          -118.14801,
          -118.132019,
          -118.149063,
          -118.12175,
          -118.154099,
          -118.139839,
          -118.1324,
          -118.15097,
          -118.122414,
          -118.13826,
          -118.128502,
          -118.135262,
          -118.129181,
          -118.231392,
          -118.468292,
          -118.45163,
          -118.453667,
          -118.461014,
          -118.46891,
          -118.472977,
          -118.477448,
          -118.47155,
          -118.469963,
          -118.471741,
          -118.464798,
          -118.481552,
          -118.491341,
          -118.479637,
          -118.25827,
          -118.258728,
          -118.270309,
          -118.286728,
          -118.283409,
          -118.279167,
          -118.291313,
          -118.288673,
          -118.281181,
          -118.280952,
          -118.284111,
          -118.422859,
          -118.277687,
          -118.280678,
          -118.284103,
          -118.285896,
          -118.218849,
          -118.271523,
          -118.2743,
          -118.291496,
          -118.291443,
          -118.287071,
          -118.290092,
          -118.292183,
          -118.294662,
          -118.290878,
          -118.275002,
          -118.279762,
          -118.27092,
          -118.453629,
          -118.429161,
          -118.44136,
          -118.408463,
          -118.400589,
          -118.370369,
          -118.422684,
          -118.403168,
          -118.395302,
          -118.43438,
          -118.410469,
          -118.445969,
          -118.40403,
          -118.399223,
          -118.438332,
          -118.414909,
          -118.417801,
          -118.479637,
          -118.464844,
          -118.468292,
          -118.460983,
          -118.491341,
          -118.481552,
          -118.47155,
          -118.469963,
          -118.46891,
          -118.477448,
          -118.472977,
          -118.45356,
          -118.45163,
          -118.471741,
          -118.409081,
          -118.38726,
          -118.410294,
          -118.238319,
          -118.389099,
          -118.394081,
          -118.388901,
          -118.425377,
          -118.36187,
          -118.415771,
          -118.420601,
          -118.410927,
          -118.402222,
          -118.420982,
          -118.425011,
          -118.412048,
          -118.425339,
          -118.241837,
          -118.434143,
          -118.296593,
          -118.393517,
          -118.414902,
          -118.370163,
          -118.428207,
          -118.428452,
          -118.247139,
          -118.291862,
          -118.33979,
          -118.248238,
          -118.271027,
          -118.293678,
          -118.300613,
          -118.29377,
          -118.419441,
          -118.441917,
          -118.296799,
          -118.370811,
          -118.387497,
          -118.396156,
          -118.38826,
          -118.363632,
          -118.366127,
          -118.355148,
          -118.377068,
          -118.361954,
          -118.350601,
          -118.378891,
          -118.370201,
          -118.372818,
          -118.36187,
          -118.370369,
          -118.382309,
          -118.362251,
          -118.28363,
          -118.291939,
          -118.28727,
          -118.284561,
          -118.286247,
          -118.298241,
          -118.281807,
          -118.300468,
          -118.278687,
          -118.305573,
          -118.251572,
          -118.278419,
          -118.28199,
          -118.273193,
          -118.274193,
          -118.287163,
          -118.291313,
          -118.28746,
          -118.284393,
          -118.291718,
          -118.271812,
          -118.302017,
          -118.289864,
          -118.421127,
          -118.425438,
          -118.417961,
          -118.413559,
          -118.409378,
          -118.378967,
          -118.28315,
          -118.28373,
          -118.426071,
          -118.418419,
          -118.28093,
          -118.282288,
          -118.287163,
          -118.243248,
          -118.27272,
          -118.325462,
          -118.273697,
          -118.288742,
          -118.250587,
          -118.331009,
          -118.259117,
          -118.407562,
          -118.258598,
          -118.255836,
          -118.24794,
          -118.425499,
          -118.277191,
          -118.256012,
          37.606541,
          -118.39576,
          -118.370422,
          -118.388008,
          -118.361816,
          -118.375153,
          -118.448883,
          -118.44828,
          -118.463333,
          -118.255417,
          -118.309174,
          -118.264549,
          -118.231773,
          -118.264969,
          -118.296021,
          -118.254402,
          -118.338852,
          -118.299751,
          -118.412048,
          -118.30928,
          -118.301193,
          -118.341797,
          -118.34919,
          -118.33741,
          -118.444366,
          -118.33329,
          -118.32811,
          -118.462257,
          -118.338821,
          -118.308823,
          -118.33474,
          -118.22541,
          -118.431641,
          -118.423943,
          -118.451248,
          -118.435204,
          -118.44828,
          -118.453629,
          -118.448883,
          -118.393517,
          -118.438332,
          -118.421303,
          -118.44136,
          -118.43438,
          -118.429161,
          -118.425011,
          -118.419441,
          -118.395302,
          -118.416496,
          -118.420601,
          -118.422684,
          -118.428207,
          -118.409081,
          -118.434143,
          -118.434669,
          -118.399223,
          -118.40403,
          -118.403168,
          -118.408463,
          -118.417801,
          -118.413559,
          -118.410469,
          -118.420982,
          -118.402527,
          -118.40551,
          -118.414909,
          -118.252953,
          -118.431129,
          -118.410927,
          -118.426071,
          -118.414879,
          -118.418419,
          -118.326363,
          -118.309067,
          -118.335197,
          -118.289749
         ],
         "marker": {
          "color": "#636efa",
          "symbol": "circle"
         },
         "mode": "markers",
         "name": "",
         "showlegend": false,
         "type": "scattergeo"
        }
       ],
       "layout": {
        "autosize": true,
        "geo": {
         "center": {},
         "domain": {
          "x": [
           0,
           1
          ],
          "y": [
           0,
           1
          ]
         }
        },
        "legend": {
         "tracegroupgap": 0
        },
        "margin": {
         "t": 60
        },
        "template": {
         "data": {
          "bar": [
           {
            "error_x": {
             "color": "#2a3f5f"
            },
            "error_y": {
             "color": "#2a3f5f"
            },
            "marker": {
             "line": {
              "color": "#E5ECF6",
              "width": 0.5
             },
             "pattern": {
              "fillmode": "overlay",
              "size": 10,
              "solidity": 0.2
             }
            },
            "type": "bar"
           }
          ],
          "barpolar": [
           {
            "marker": {
             "line": {
              "color": "#E5ECF6",
              "width": 0.5
             },
             "pattern": {
              "fillmode": "overlay",
              "size": 10,
              "solidity": 0.2
             }
            },
            "type": "barpolar"
           }
          ],
          "carpet": [
           {
            "aaxis": {
             "endlinecolor": "#2a3f5f",
             "gridcolor": "white",
             "linecolor": "white",
             "minorgridcolor": "white",
             "startlinecolor": "#2a3f5f"
            },
            "baxis": {
             "endlinecolor": "#2a3f5f",
             "gridcolor": "white",
             "linecolor": "white",
             "minorgridcolor": "white",
             "startlinecolor": "#2a3f5f"
            },
            "type": "carpet"
           }
          ],
          "choropleth": [
           {
            "colorbar": {
             "outlinewidth": 0,
             "ticks": ""
            },
            "type": "choropleth"
           }
          ],
          "contour": [
           {
            "colorbar": {
             "outlinewidth": 0,
             "ticks": ""
            },
            "colorscale": [
             [
              0,
              "#0d0887"
             ],
             [
              0.1111111111111111,
              "#46039f"
             ],
             [
              0.2222222222222222,
              "#7201a8"
             ],
             [
              0.3333333333333333,
              "#9c179e"
             ],
             [
              0.4444444444444444,
              "#bd3786"
             ],
             [
              0.5555555555555556,
              "#d8576b"
             ],
             [
              0.6666666666666666,
              "#ed7953"
             ],
             [
              0.7777777777777778,
              "#fb9f3a"
             ],
             [
              0.8888888888888888,
              "#fdca26"
             ],
             [
              1,
              "#f0f921"
             ]
            ],
            "type": "contour"
           }
          ],
          "contourcarpet": [
           {
            "colorbar": {
             "outlinewidth": 0,
             "ticks": ""
            },
            "type": "contourcarpet"
           }
          ],
          "heatmap": [
           {
            "colorbar": {
             "outlinewidth": 0,
             "ticks": ""
            },
            "colorscale": [
             [
              0,
              "#0d0887"
             ],
             [
              0.1111111111111111,
              "#46039f"
             ],
             [
              0.2222222222222222,
              "#7201a8"
             ],
             [
              0.3333333333333333,
              "#9c179e"
             ],
             [
              0.4444444444444444,
              "#bd3786"
             ],
             [
              0.5555555555555556,
              "#d8576b"
             ],
             [
              0.6666666666666666,
              "#ed7953"
             ],
             [
              0.7777777777777778,
              "#fb9f3a"
             ],
             [
              0.8888888888888888,
              "#fdca26"
             ],
             [
              1,
              "#f0f921"
             ]
            ],
            "type": "heatmap"
           }
          ],
          "heatmapgl": [
           {
            "colorbar": {
             "outlinewidth": 0,
             "ticks": ""
            },
            "colorscale": [
             [
              0,
              "#0d0887"
             ],
             [
              0.1111111111111111,
              "#46039f"
             ],
             [
              0.2222222222222222,
              "#7201a8"
             ],
             [
              0.3333333333333333,
              "#9c179e"
             ],
             [
              0.4444444444444444,
              "#bd3786"
             ],
             [
              0.5555555555555556,
              "#d8576b"
             ],
             [
              0.6666666666666666,
              "#ed7953"
             ],
             [
              0.7777777777777778,
              "#fb9f3a"
             ],
             [
              0.8888888888888888,
              "#fdca26"
             ],
             [
              1,
              "#f0f921"
             ]
            ],
            "type": "heatmapgl"
           }
          ],
          "histogram": [
           {
            "marker": {
             "pattern": {
              "fillmode": "overlay",
              "size": 10,
              "solidity": 0.2
             }
            },
            "type": "histogram"
           }
          ],
          "histogram2d": [
           {
            "colorbar": {
             "outlinewidth": 0,
             "ticks": ""
            },
            "colorscale": [
             [
              0,
              "#0d0887"
             ],
             [
              0.1111111111111111,
              "#46039f"
             ],
             [
              0.2222222222222222,
              "#7201a8"
             ],
             [
              0.3333333333333333,
              "#9c179e"
             ],
             [
              0.4444444444444444,
              "#bd3786"
             ],
             [
              0.5555555555555556,
              "#d8576b"
             ],
             [
              0.6666666666666666,
              "#ed7953"
             ],
             [
              0.7777777777777778,
              "#fb9f3a"
             ],
             [
              0.8888888888888888,
              "#fdca26"
             ],
             [
              1,
              "#f0f921"
             ]
            ],
            "type": "histogram2d"
           }
          ],
          "histogram2dcontour": [
           {
            "colorbar": {
             "outlinewidth": 0,
             "ticks": ""
            },
            "colorscale": [
             [
              0,
              "#0d0887"
             ],
             [
              0.1111111111111111,
              "#46039f"
             ],
             [
              0.2222222222222222,
              "#7201a8"
             ],
             [
              0.3333333333333333,
              "#9c179e"
             ],
             [
              0.4444444444444444,
              "#bd3786"
             ],
             [
              0.5555555555555556,
              "#d8576b"
             ],
             [
              0.6666666666666666,
              "#ed7953"
             ],
             [
              0.7777777777777778,
              "#fb9f3a"
             ],
             [
              0.8888888888888888,
              "#fdca26"
             ],
             [
              1,
              "#f0f921"
             ]
            ],
            "type": "histogram2dcontour"
           }
          ],
          "mesh3d": [
           {
            "colorbar": {
             "outlinewidth": 0,
             "ticks": ""
            },
            "type": "mesh3d"
           }
          ],
          "parcoords": [
           {
            "line": {
             "colorbar": {
              "outlinewidth": 0,
              "ticks": ""
             }
            },
            "type": "parcoords"
           }
          ],
          "pie": [
           {
            "automargin": true,
            "type": "pie"
           }
          ],
          "scatter": [
           {
            "fillpattern": {
             "fillmode": "overlay",
             "size": 10,
             "solidity": 0.2
            },
            "type": "scatter"
           }
          ],
          "scatter3d": [
           {
            "line": {
             "colorbar": {
              "outlinewidth": 0,
              "ticks": ""
             }
            },
            "marker": {
             "colorbar": {
              "outlinewidth": 0,
              "ticks": ""
             }
            },
            "type": "scatter3d"
           }
          ],
          "scattercarpet": [
           {
            "marker": {
             "colorbar": {
              "outlinewidth": 0,
              "ticks": ""
             }
            },
            "type": "scattercarpet"
           }
          ],
          "scattergeo": [
           {
            "marker": {
             "colorbar": {
              "outlinewidth": 0,
              "ticks": ""
             }
            },
            "type": "scattergeo"
           }
          ],
          "scattergl": [
           {
            "marker": {
             "colorbar": {
              "outlinewidth": 0,
              "ticks": ""
             }
            },
            "type": "scattergl"
           }
          ],
          "scattermapbox": [
           {
            "marker": {
             "colorbar": {
              "outlinewidth": 0,
              "ticks": ""
             }
            },
            "type": "scattermapbox"
           }
          ],
          "scatterpolar": [
           {
            "marker": {
             "colorbar": {
              "outlinewidth": 0,
              "ticks": ""
             }
            },
            "type": "scatterpolar"
           }
          ],
          "scatterpolargl": [
           {
            "marker": {
             "colorbar": {
              "outlinewidth": 0,
              "ticks": ""
             }
            },
            "type": "scatterpolargl"
           }
          ],
          "scatterternary": [
           {
            "marker": {
             "colorbar": {
              "outlinewidth": 0,
              "ticks": ""
             }
            },
            "type": "scatterternary"
           }
          ],
          "surface": [
           {
            "colorbar": {
             "outlinewidth": 0,
             "ticks": ""
            },
            "colorscale": [
             [
              0,
              "#0d0887"
             ],
             [
              0.1111111111111111,
              "#46039f"
             ],
             [
              0.2222222222222222,
              "#7201a8"
             ],
             [
              0.3333333333333333,
              "#9c179e"
             ],
             [
              0.4444444444444444,
              "#bd3786"
             ],
             [
              0.5555555555555556,
              "#d8576b"
             ],
             [
              0.6666666666666666,
              "#ed7953"
             ],
             [
              0.7777777777777778,
              "#fb9f3a"
             ],
             [
              0.8888888888888888,
              "#fdca26"
             ],
             [
              1,
              "#f0f921"
             ]
            ],
            "type": "surface"
           }
          ],
          "table": [
           {
            "cells": {
             "fill": {
              "color": "#EBF0F8"
             },
             "line": {
              "color": "white"
             }
            },
            "header": {
             "fill": {
              "color": "#C8D4E3"
             },
             "line": {
              "color": "white"
             }
            },
            "type": "table"
           }
          ]
         },
         "layout": {
          "annotationdefaults": {
           "arrowcolor": "#2a3f5f",
           "arrowhead": 0,
           "arrowwidth": 1
          },
          "autotypenumbers": "strict",
          "coloraxis": {
           "colorbar": {
            "outlinewidth": 0,
            "ticks": ""
           }
          },
          "colorscale": {
           "diverging": [
            [
             0,
             "#8e0152"
            ],
            [
             0.1,
             "#c51b7d"
            ],
            [
             0.2,
             "#de77ae"
            ],
            [
             0.3,
             "#f1b6da"
            ],
            [
             0.4,
             "#fde0ef"
            ],
            [
             0.5,
             "#f7f7f7"
            ],
            [
             0.6,
             "#e6f5d0"
            ],
            [
             0.7,
             "#b8e186"
            ],
            [
             0.8,
             "#7fbc41"
            ],
            [
             0.9,
             "#4d9221"
            ],
            [
             1,
             "#276419"
            ]
           ],
           "sequential": [
            [
             0,
             "#0d0887"
            ],
            [
             0.1111111111111111,
             "#46039f"
            ],
            [
             0.2222222222222222,
             "#7201a8"
            ],
            [
             0.3333333333333333,
             "#9c179e"
            ],
            [
             0.4444444444444444,
             "#bd3786"
            ],
            [
             0.5555555555555556,
             "#d8576b"
            ],
            [
             0.6666666666666666,
             "#ed7953"
            ],
            [
             0.7777777777777778,
             "#fb9f3a"
            ],
            [
             0.8888888888888888,
             "#fdca26"
            ],
            [
             1,
             "#f0f921"
            ]
           ],
           "sequentialminus": [
            [
             0,
             "#0d0887"
            ],
            [
             0.1111111111111111,
             "#46039f"
            ],
            [
             0.2222222222222222,
             "#7201a8"
            ],
            [
             0.3333333333333333,
             "#9c179e"
            ],
            [
             0.4444444444444444,
             "#bd3786"
            ],
            [
             0.5555555555555556,
             "#d8576b"
            ],
            [
             0.6666666666666666,
             "#ed7953"
            ],
            [
             0.7777777777777778,
             "#fb9f3a"
            ],
            [
             0.8888888888888888,
             "#fdca26"
            ],
            [
             1,
             "#f0f921"
            ]
           ]
          },
          "colorway": [
           "#636efa",
           "#EF553B",
           "#00cc96",
           "#ab63fa",
           "#FFA15A",
           "#19d3f3",
           "#FF6692",
           "#B6E880",
           "#FF97FF",
           "#FECB52"
          ],
          "font": {
           "color": "#2a3f5f"
          },
          "geo": {
           "bgcolor": "white",
           "lakecolor": "white",
           "landcolor": "#E5ECF6",
           "showlakes": true,
           "showland": true,
           "subunitcolor": "white"
          },
          "hoverlabel": {
           "align": "left"
          },
          "hovermode": "closest",
          "mapbox": {
           "style": "light"
          },
          "paper_bgcolor": "white",
          "plot_bgcolor": "#E5ECF6",
          "polar": {
           "angularaxis": {
            "gridcolor": "white",
            "linecolor": "white",
            "ticks": ""
           },
           "bgcolor": "#E5ECF6",
           "radialaxis": {
            "gridcolor": "white",
            "linecolor": "white",
            "ticks": ""
           }
          },
          "scene": {
           "xaxis": {
            "backgroundcolor": "#E5ECF6",
            "gridcolor": "white",
            "gridwidth": 2,
            "linecolor": "white",
            "showbackground": true,
            "ticks": "",
            "zerolinecolor": "white"
           },
           "yaxis": {
            "backgroundcolor": "#E5ECF6",
            "gridcolor": "white",
            "gridwidth": 2,
            "linecolor": "white",
            "showbackground": true,
            "ticks": "",
            "zerolinecolor": "white"
           },
           "zaxis": {
            "backgroundcolor": "#E5ECF6",
            "gridcolor": "white",
            "gridwidth": 2,
            "linecolor": "white",
            "showbackground": true,
            "ticks": "",
            "zerolinecolor": "white"
           }
          },
          "shapedefaults": {
           "line": {
            "color": "#2a3f5f"
           }
          },
          "ternary": {
           "aaxis": {
            "gridcolor": "white",
            "linecolor": "white",
            "ticks": ""
           },
           "baxis": {
            "gridcolor": "white",
            "linecolor": "white",
            "ticks": ""
           },
           "bgcolor": "#E5ECF6",
           "caxis": {
            "gridcolor": "white",
            "linecolor": "white",
            "ticks": ""
           }
          },
          "title": {
           "x": 0.05
          },
          "xaxis": {
           "automargin": true,
           "gridcolor": "white",
           "linecolor": "white",
           "ticks": "",
           "title": {
            "standoff": 15
           },
           "zerolinecolor": "white",
           "zerolinewidth": 2
          },
          "yaxis": {
           "automargin": true,
           "gridcolor": "white",
           "linecolor": "white",
           "ticks": "",
           "title": {
            "standoff": 15
           },
           "zerolinecolor": "white",
           "zerolinewidth": 2
          }
         }
        }
       }
      },
      "image/png": "[encoded data removed]"
     },
     "metadata": {},
     "output_type": "display_data"
    }
   ],
   "source": [
    "px.scatter_geo(stations, lat='lat', lon='lon')"
   ]
  },
  {
   "cell_type": "code",
   "execution_count": 10,
   "metadata": {},
   "outputs": [
    {
     "data": {
      "application/vnd.plotly.v1+json": {
       "config": {
        "plotlyServerURL": "https://plot.ly"
       },
       "data": [
        {
         "geo": "geo",
         "hovertemplate": "lat=%{lat}<br>lon=%{lon}<extra></extra>",
         "lat": [
          33.779819,
          33.766659,
          33.710979,
          33.74892,
          33.725819,
          33.719261,
          33.738979,
          33.74913,
          33.733521,
          33.74136,
          33.772301,
          33.771759,
          33.738991,
          55.705528,
          33.779819,
          33.766659,
          33.710979,
          33.74892,
          33.725819,
          33.719261,
          33.738979,
          33.74913,
          33.733521,
          33.74136,
          33.772301,
          33.771759,
          33.738991,
          55.705528
         ],
         "legendgroup": "",
         "lon": [
          -118.263023,
          -118.26101,
          -118.28466,
          -118.275192,
          -118.28051,
          -118.282722,
          -118.279266,
          -118.280182,
          -118.277786,
          -118.278069,
          -118.26804,
          -118.276543,
          -118.28363,
          37.606541,
          -118.263023,
          -118.26101,
          -118.28466,
          -118.275192,
          -118.28051,
          -118.282722,
          -118.279266,
          -118.280182,
          -118.277786,
          -118.278069,
          -118.26804,
          -118.276543,
          -118.28363,
          37.606541
         ],
         "marker": {
          "color": "#636efa",
          "symbol": "circle"
         },
         "mode": "markers",
         "name": "",
         "showlegend": false,
         "type": "scattergeo"
        }
       ],
       "layout": {
        "autosize": true,
        "geo": {
         "center": {
          "lat": 44.89807008554777,
          "lon": -44.71808398519491
         },
         "domain": {
          "x": [
           0,
           1
          ],
          "y": [
           0,
           1
          ]
         },
         "fitbounds": false,
         "projection": {
          "rotation": {
           "lon": -44.71808398519491
          },
          "scale": 2.4087508983844033
         }
        },
        "legend": {
         "tracegroupgap": 0
        },
        "margin": {
         "t": 60
        },
        "template": {
         "data": {
          "bar": [
           {
            "error_x": {
             "color": "#2a3f5f"
            },
            "error_y": {
             "color": "#2a3f5f"
            },
            "marker": {
             "line": {
              "color": "#E5ECF6",
              "width": 0.5
             },
             "pattern": {
              "fillmode": "overlay",
              "size": 10,
              "solidity": 0.2
             }
            },
            "type": "bar"
           }
          ],
          "barpolar": [
           {
            "marker": {
             "line": {
              "color": "#E5ECF6",
              "width": 0.5
             },
             "pattern": {
              "fillmode": "overlay",
              "size": 10,
              "solidity": 0.2
             }
            },
            "type": "barpolar"
           }
          ],
          "carpet": [
           {
            "aaxis": {
             "endlinecolor": "#2a3f5f",
             "gridcolor": "white",
             "linecolor": "white",
             "minorgridcolor": "white",
             "startlinecolor": "#2a3f5f"
            },
            "baxis": {
             "endlinecolor": "#2a3f5f",
             "gridcolor": "white",
             "linecolor": "white",
             "minorgridcolor": "white",
             "startlinecolor": "#2a3f5f"
            },
            "type": "carpet"
           }
          ],
          "choropleth": [
           {
            "colorbar": {
             "outlinewidth": 0,
             "ticks": ""
            },
            "type": "choropleth"
           }
          ],
          "contour": [
           {
            "colorbar": {
             "outlinewidth": 0,
             "ticks": ""
            },
            "colorscale": [
             [
              0,
              "#0d0887"
             ],
             [
              0.1111111111111111,
              "#46039f"
             ],
             [
              0.2222222222222222,
              "#7201a8"
             ],
             [
              0.3333333333333333,
              "#9c179e"
             ],
             [
              0.4444444444444444,
              "#bd3786"
             ],
             [
              0.5555555555555556,
              "#d8576b"
             ],
             [
              0.6666666666666666,
              "#ed7953"
             ],
             [
              0.7777777777777778,
              "#fb9f3a"
             ],
             [
              0.8888888888888888,
              "#fdca26"
             ],
             [
              1,
              "#f0f921"
             ]
            ],
            "type": "contour"
           }
          ],
          "contourcarpet": [
           {
            "colorbar": {
             "outlinewidth": 0,
             "ticks": ""
            },
            "type": "contourcarpet"
           }
          ],
          "heatmap": [
           {
            "colorbar": {
             "outlinewidth": 0,
             "ticks": ""
            },
            "colorscale": [
             [
              0,
              "#0d0887"
             ],
             [
              0.1111111111111111,
              "#46039f"
             ],
             [
              0.2222222222222222,
              "#7201a8"
             ],
             [
              0.3333333333333333,
              "#9c179e"
             ],
             [
              0.4444444444444444,
              "#bd3786"
             ],
             [
              0.5555555555555556,
              "#d8576b"
             ],
             [
              0.6666666666666666,
              "#ed7953"
             ],
             [
              0.7777777777777778,
              "#fb9f3a"
             ],
             [
              0.8888888888888888,
              "#fdca26"
             ],
             [
              1,
              "#f0f921"
             ]
            ],
            "type": "heatmap"
           }
          ],
          "heatmapgl": [
           {
            "colorbar": {
             "outlinewidth": 0,
             "ticks": ""
            },
            "colorscale": [
             [
              0,
              "#0d0887"
             ],
             [
              0.1111111111111111,
              "#46039f"
             ],
             [
              0.2222222222222222,
              "#7201a8"
             ],
             [
              0.3333333333333333,
              "#9c179e"
             ],
             [
              0.4444444444444444,
              "#bd3786"
             ],
             [
              0.5555555555555556,
              "#d8576b"
             ],
             [
              0.6666666666666666,
              "#ed7953"
             ],
             [
              0.7777777777777778,
              "#fb9f3a"
             ],
             [
              0.8888888888888888,
              "#fdca26"
             ],
             [
              1,
              "#f0f921"
             ]
            ],
            "type": "heatmapgl"
           }
          ],
          "histogram": [
           {
            "marker": {
             "pattern": {
              "fillmode": "overlay",
              "size": 10,
              "solidity": 0.2
             }
            },
            "type": "histogram"
           }
          ],
          "histogram2d": [
           {
            "colorbar": {
             "outlinewidth": 0,
             "ticks": ""
            },
            "colorscale": [
             [
              0,
              "#0d0887"
             ],
             [
              0.1111111111111111,
              "#46039f"
             ],
             [
              0.2222222222222222,
              "#7201a8"
             ],
             [
              0.3333333333333333,
              "#9c179e"
             ],
             [
              0.4444444444444444,
              "#bd3786"
             ],
             [
              0.5555555555555556,
              "#d8576b"
             ],
             [
              0.6666666666666666,
              "#ed7953"
             ],
             [
              0.7777777777777778,
              "#fb9f3a"
             ],
             [
              0.8888888888888888,
              "#fdca26"
             ],
             [
              1,
              "#f0f921"
             ]
            ],
            "type": "histogram2d"
           }
          ],
          "histogram2dcontour": [
           {
            "colorbar": {
             "outlinewidth": 0,
             "ticks": ""
            },
            "colorscale": [
             [
              0,
              "#0d0887"
             ],
             [
              0.1111111111111111,
              "#46039f"
             ],
             [
              0.2222222222222222,
              "#7201a8"
             ],
             [
              0.3333333333333333,
              "#9c179e"
             ],
             [
              0.4444444444444444,
              "#bd3786"
             ],
             [
              0.5555555555555556,
              "#d8576b"
             ],
             [
              0.6666666666666666,
              "#ed7953"
             ],
             [
              0.7777777777777778,
              "#fb9f3a"
             ],
             [
              0.8888888888888888,
              "#fdca26"
             ],
             [
              1,
              "#f0f921"
             ]
            ],
            "type": "histogram2dcontour"
           }
          ],
          "mesh3d": [
           {
            "colorbar": {
             "outlinewidth": 0,
             "ticks": ""
            },
            "type": "mesh3d"
           }
          ],
          "parcoords": [
           {
            "line": {
             "colorbar": {
              "outlinewidth": 0,
              "ticks": ""
             }
            },
            "type": "parcoords"
           }
          ],
          "pie": [
           {
            "automargin": true,
            "type": "pie"
           }
          ],
          "scatter": [
           {
            "fillpattern": {
             "fillmode": "overlay",
             "size": 10,
             "solidity": 0.2
            },
            "type": "scatter"
           }
          ],
          "scatter3d": [
           {
            "line": {
             "colorbar": {
              "outlinewidth": 0,
              "ticks": ""
             }
            },
            "marker": {
             "colorbar": {
              "outlinewidth": 0,
              "ticks": ""
             }
            },
            "type": "scatter3d"
           }
          ],
          "scattercarpet": [
           {
            "marker": {
             "colorbar": {
              "outlinewidth": 0,
              "ticks": ""
             }
            },
            "type": "scattercarpet"
           }
          ],
          "scattergeo": [
           {
            "marker": {
             "colorbar": {
              "outlinewidth": 0,
              "ticks": ""
             }
            },
            "type": "scattergeo"
           }
          ],
          "scattergl": [
           {
            "marker": {
             "colorbar": {
              "outlinewidth": 0,
              "ticks": ""
             }
            },
            "type": "scattergl"
           }
          ],
          "scattermapbox": [
           {
            "marker": {
             "colorbar": {
              "outlinewidth": 0,
              "ticks": ""
             }
            },
            "type": "scattermapbox"
           }
          ],
          "scatterpolar": [
           {
            "marker": {
             "colorbar": {
              "outlinewidth": 0,
              "ticks": ""
             }
            },
            "type": "scatterpolar"
           }
          ],
          "scatterpolargl": [
           {
            "marker": {
             "colorbar": {
              "outlinewidth": 0,
              "ticks": ""
             }
            },
            "type": "scatterpolargl"
           }
          ],
          "scatterternary": [
           {
            "marker": {
             "colorbar": {
              "outlinewidth": 0,
              "ticks": ""
             }
            },
            "type": "scatterternary"
           }
          ],
          "surface": [
           {
            "colorbar": {
             "outlinewidth": 0,
             "ticks": ""
            },
            "colorscale": [
             [
              0,
              "#0d0887"
             ],
             [
              0.1111111111111111,
              "#46039f"
             ],
             [
              0.2222222222222222,
              "#7201a8"
             ],
             [
              0.3333333333333333,
              "#9c179e"
             ],
             [
              0.4444444444444444,
              "#bd3786"
             ],
             [
              0.5555555555555556,
              "#d8576b"
             ],
             [
              0.6666666666666666,
              "#ed7953"
             ],
             [
              0.7777777777777778,
              "#fb9f3a"
             ],
             [
              0.8888888888888888,
              "#fdca26"
             ],
             [
              1,
              "#f0f921"
             ]
            ],
            "type": "surface"
           }
          ],
          "table": [
           {
            "cells": {
             "fill": {
              "color": "#EBF0F8"
             },
             "line": {
              "color": "white"
             }
            },
            "header": {
             "fill": {
              "color": "#C8D4E3"
             },
             "line": {
              "color": "white"
             }
            },
            "type": "table"
           }
          ]
         },
         "layout": {
          "annotationdefaults": {
           "arrowcolor": "#2a3f5f",
           "arrowhead": 0,
           "arrowwidth": 1
          },
          "autotypenumbers": "strict",
          "coloraxis": {
           "colorbar": {
            "outlinewidth": 0,
            "ticks": ""
           }
          },
          "colorscale": {
           "diverging": [
            [
             0,
             "#8e0152"
            ],
            [
             0.1,
             "#c51b7d"
            ],
            [
             0.2,
             "#de77ae"
            ],
            [
             0.3,
             "#f1b6da"
            ],
            [
             0.4,
             "#fde0ef"
            ],
            [
             0.5,
             "#f7f7f7"
            ],
            [
             0.6,
             "#e6f5d0"
            ],
            [
             0.7,
             "#b8e186"
            ],
            [
             0.8,
             "#7fbc41"
            ],
            [
             0.9,
             "#4d9221"
            ],
            [
             1,
             "#276419"
            ]
           ],
           "sequential": [
            [
             0,
             "#0d0887"
            ],
            [
             0.1111111111111111,
             "#46039f"
            ],
            [
             0.2222222222222222,
             "#7201a8"
            ],
            [
             0.3333333333333333,
             "#9c179e"
            ],
            [
             0.4444444444444444,
             "#bd3786"
            ],
            [
             0.5555555555555556,
             "#d8576b"
            ],
            [
             0.6666666666666666,
             "#ed7953"
            ],
            [
             0.7777777777777778,
             "#fb9f3a"
            ],
            [
             0.8888888888888888,
             "#fdca26"
            ],
            [
             1,
             "#f0f921"
            ]
           ],
           "sequentialminus": [
            [
             0,
             "#0d0887"
            ],
            [
             0.1111111111111111,
             "#46039f"
            ],
            [
             0.2222222222222222,
             "#7201a8"
            ],
            [
             0.3333333333333333,
             "#9c179e"
            ],
            [
             0.4444444444444444,
             "#bd3786"
            ],
            [
             0.5555555555555556,
             "#d8576b"
            ],
            [
             0.6666666666666666,
             "#ed7953"
            ],
            [
             0.7777777777777778,
             "#fb9f3a"
            ],
            [
             0.8888888888888888,
             "#fdca26"
            ],
            [
             1,
             "#f0f921"
            ]
           ]
          },
          "colorway": [
           "#636efa",
           "#EF553B",
           "#00cc96",
           "#ab63fa",
           "#FFA15A",
           "#19d3f3",
           "#FF6692",
           "#B6E880",
           "#FF97FF",
           "#FECB52"
          ],
          "font": {
           "color": "#2a3f5f"
          },
          "geo": {
           "bgcolor": "white",
           "lakecolor": "white",
           "landcolor": "#E5ECF6",
           "showlakes": true,
           "showland": true,
           "subunitcolor": "white"
          },
          "hoverlabel": {
           "align": "left"
          },
          "hovermode": "closest",
          "mapbox": {
           "style": "light"
          },
          "paper_bgcolor": "white",
          "plot_bgcolor": "#E5ECF6",
          "polar": {
           "angularaxis": {
            "gridcolor": "white",
            "linecolor": "white",
            "ticks": ""
           },
           "bgcolor": "#E5ECF6",
           "radialaxis": {
            "gridcolor": "white",
            "linecolor": "white",
            "ticks": ""
           }
          },
          "scene": {
           "xaxis": {
            "backgroundcolor": "#E5ECF6",
            "gridcolor": "white",
            "gridwidth": 2,
            "linecolor": "white",
            "showbackground": true,
            "ticks": "",
            "zerolinecolor": "white"
           },
           "yaxis": {
            "backgroundcolor": "#E5ECF6",
            "gridcolor": "white",
            "gridwidth": 2,
            "linecolor": "white",
            "showbackground": true,
            "ticks": "",
            "zerolinecolor": "white"
           },
           "zaxis": {
            "backgroundcolor": "#E5ECF6",
            "gridcolor": "white",
            "gridwidth": 2,
            "linecolor": "white",
            "showbackground": true,
            "ticks": "",
            "zerolinecolor": "white"
           }
          },
          "shapedefaults": {
           "line": {
            "color": "#2a3f5f"
           }
          },
          "ternary": {
           "aaxis": {
            "gridcolor": "white",
            "linecolor": "white",
            "ticks": ""
           },
           "baxis": {
            "gridcolor": "white",
            "linecolor": "white",
            "ticks": ""
           },
           "bgcolor": "#E5ECF6",
           "caxis": {
            "gridcolor": "white",
            "linecolor": "white",
            "ticks": ""
           }
          },
          "title": {
           "x": 0.05
          },
          "xaxis": {
           "automargin": true,
           "gridcolor": "white",
           "linecolor": "white",
           "ticks": "",
           "title": {
            "standoff": 15
           },
           "zerolinecolor": "white",
           "zerolinewidth": 2
          },
          "yaxis": {
           "automargin": true,
           "gridcolor": "white",
           "linecolor": "white",
           "ticks": "",
           "title": {
            "standoff": 15
           },
           "zerolinecolor": "white",
           "zerolinewidth": 2
          }
         }
        }
       }
      },
      "image/png": "[encoded data removed]"
     },
     "metadata": {},
     "output_type": "display_data"
    }
   ],
   "source": [
    "def build_outlier_filter(data: pd.DataFrame, col: str, q_offset: float = 2, only_upper: bool = False):\n",
    "    Q1 = data[col].quantile(0.25)\n",
    "    Q3 = data[col].quantile(0.75)\n",
    "    IQR = Q3 - Q1 \n",
    "\n",
    "    if only_upper:\n",
    "        return ~(data[col] <= Q3 + q_offset * IQR)\n",
    "    \n",
    "    return ~((data[col] >= Q1 - q_offset * IQR) & (data[col] <= Q3 + q_offset * IQR))\n",
    "\n",
    "lat_filter = build_outlier_filter(stations, 'lat')\n",
    "lon_filter = build_outlier_filter(stations, 'lon')\n",
    "fig = px.scatter_geo(stations[lat_filter | lon_filter], lat='lat', lon='lon')\n",
    "fig.update_geos(fitbounds=\"locations\")"
   ]
  },
  {
   "cell_type": "code",
   "execution_count": 11,
   "metadata": {},
   "outputs": [
    {
     "data": {
      "application/vnd.plotly.v1+json": {
       "config": {
        "plotlyServerURL": "https://plot.ly"
       },
       "data": [
        {
         "geo": "geo",
         "hovertemplate": "lat=%{lat}<br>lon=%{lon}<extra></extra>",
         "lat": [
          34.025841,
          34.0485,
          34.04554,
          34.05048,
          34.046612,
          33.987381,
          34.037048,
          34.04113,
          34.05661,
          34.052898,
          34.043732,
          34.038609,
          34.031052,
          34.04607,
          34.050911,
          34.05772,
          34.03286,
          34.063179,
          34.04998,
          34.058319,
          34.048851,
          34.051941,
          34.044701,
          34.049889,
          34.040989,
          34.042061,
          34.048401,
          34.039188,
          34.034801,
          34.046822,
          34.024479,
          34.05357,
          34.049301,
          34.028511,
          34.052872,
          34.039982,
          34.041691,
          34.056969,
          34.045422,
          34.051102,
          34.039219,
          34.044159,
          34.03746,
          34.035679,
          34.035801,
          34.037949,
          34.034882,
          34.04472,
          34.047749,
          34.048038,
          34.04681,
          34.060558,
          34.063389,
          34.045181,
          34.0532,
          34.05088,
          34.04417,
          34.04211,
          34.0406,
          34.039871,
          34.064281,
          34.05014,
          34.03421,
          34.031891,
          34.04652,
          34.02589,
          34.145691,
          34.144588,
          34.145748,
          34.142399,
          34.147831,
          34.145248,
          34.14967,
          34.13821,
          34.15427,
          34.142361,
          34.149712,
          34.156181,
          34.15612,
          34.147812,
          34.14991,
          34.140999,
          34.13525,
          34.145901,
          34.133011,
          34.147499,
          34.150471,
          34.14175,
          34.145908,
          34.143822,
          34.146961,
          34.160709,
          34.165291,
          34.137859,
          34.144981,
          34.137951,
          34.146221,
          34.146069,
          34.056702,
          33.991161,
          33.988419,
          33.993771,
          33.998341,
          34.000881,
          33.99868,
          33.996239,
          33.984341,
          33.984928,
          33.988129,
          33.995369,
          33.99556,
          34.014309,
          34.023392,
          34.04031,
          34.074829,
          34.0298,
          34.018059,
          34.02404,
          34.023708,
          34.033642,
          34.028351,
          34.020302,
          34.03017,
          34.028679,
          33.97366,
          34.026291,
          34.027618,
          34.02586,
          34.01252,
          34.04739,
          34.062279,
          34.04887,
          34.099049,
          34.092491,
          34.098011,
          34.06258,
          34.057652,
          34.059689,
          34.06699,
          34.056808,
          34.057709,
          34.054031,
          34.031399,
          34.005871,
          33.99958,
          34.02655,
          34.022518,
          34.172451,
          34.020061,
          34.029121,
          34.025688,
          34.00351,
          34.02948,
          33.997231,
          34.02018,
          34.023392,
          34.022449,
          33.993019,
          34.01376,
          34.02338,
          33.9953,
          33.991161,
          33.998322,
          34.014309,
          33.995579,
          33.984341,
          33.984928,
          34.000881,
          33.996239,
          33.9986,
          33.993729,
          33.988419,
          33.988129,
          34.017681,
          34.027771,
          34.02866,
          34.03046,
          34.02457,
          34.027882,
          34.03677,
          34.036621,
          34.022331,
          34.017368,
          33.982922,
          34.00021,
          34.030472,
          34.009022,
          33.990318,
          34.036678,
          34.03352,
          34.035351,
          34.069271,
          34.026829,
          33.980789,
          34.01157,
          34.02697,
          34.01688,
          34.027828,
          34.075611,
          34.101509,
          33.943359,
          34.04813,
          34.051899,
          34.101891,
          34.101871,
          34.011799,
          33.986511,
          34.063351,
          34.158321,
          34.16835,
          34.168331,
          34.157581,
          34.164951,
          34.150688,
          34.165218,
          34.168629,
          34.152142,
          34.152,
          34.149872,
          34.162861,
          34.161709,
          34.168751,
          34.172451,
          34.17765,
          34.139568,
          34.105782,
          34.105358,
          34.094929,
          34.090969,
          34.061661,
          34.026619,
          34.098,
          34.02166,
          34.061619,
          34.073639,
          34.05323,
          34.0616,
          34.03027,
          34.04557,
          34.063492,
          34.10363,
          34.102329,
          34.082649,
          34.017899,
          34.10936,
          34.052429,
          34.100109,
          33.990971,
          33.985611,
          33.99485,
          34.027649,
          34.022018,
          34.175671,
          33.970242,
          33.976189,
          34.092602,
          34.07159,
          34.110031,
          34.045181,
          34.08252,
          34.103851,
          34.10424,
          34.031502,
          34.05896,
          34.094372,
          34.1007,
          33.978821,
          34.06126,
          34.053551,
          34.04744,
          34.036869,
          34.090279,
          34.075981,
          34.15749,
          34.17989,
          34.186569,
          34.1721,
          34.16552,
          33.9897,
          33.95879,
          33.96973,
          34.017941,
          34.101639,
          34.077351,
          34.056278,
          34.043812,
          34.08371,
          34.045849,
          34.101959,
          34.057968,
          33.990318,
          34.068748,
          34.06163,
          34.10038,
          34.103378,
          34.102001,
          34.06097,
          34.10186,
          34.10186,
          33.989079,
          34.098228,
          34.06543,
          34.101761,
          34.04776,
          33.984852,
          33.97298,
          33.95718,
          33.928459,
          33.95879,
          34.031399,
          33.9897,
          34.026829,
          34.022449,
          33.990971,
          33.99958,
          34.00351,
          34.005871,
          34.009022,
          34.011799,
          34.025688,
          34.021992,
          34.017368,
          34.020061,
          34.02697,
          34.017681,
          34.035351,
          33.989948,
          34.023392,
          34.02018,
          34.029121,
          34.02655,
          34.01376,
          34.027649,
          34.02948,
          34.030472,
          34.000309,
          34.022579,
          33.993019,
          34.04298,
          33.984859,
          33.982922,
          33.970242,
          33.980991,
          33.976189,
          34.094349,
          34.060791,
          34.020969,
          34.010971,
          34.02589,
          34.0485,
          34.04554,
          34.05048,
          34.046612,
          33.987381,
          34.037048,
          34.04113,
          34.05661,
          34.052898,
          34.043732,
          34.038609,
          34.031052,
          34.04607,
          34.050911,
          34.05772,
          34.03286,
          34.063179,
          34.04998,
          34.058319,
          34.048851,
          34.051941,
          34.044701,
          34.049889,
          34.040989,
          34.042061,
          34.048401,
          34.039188,
          34.034801,
          34.046822,
          34.024479,
          34.05357,
          34.049301,
          34.028511,
          34.052872,
          34.039982,
          34.041691,
          34.056969,
          34.045422,
          34.051102,
          34.039219,
          34.044159,
          34.03746,
          34.035679,
          34.035801,
          34.037949,
          34.034882,
          34.04472,
          34.047749,
          34.049198,
          34.04681,
          34.060558,
          34.063389,
          34.045181,
          34.0532,
          34.05088,
          34.04417,
          34.04211,
          34.0406,
          34.039871,
          34.064281,
          34.05014,
          34.03421,
          34.031891,
          34.04652,
          34.02589,
          34.043869,
          34.026112,
          34.145691,
          34.144588,
          34.145748,
          34.142399,
          34.147831,
          34.145248,
          34.14967,
          34.13821,
          34.15427,
          34.142361,
          34.149712,
          34.156181,
          34.15612,
          34.147812,
          34.14991,
          34.140999,
          34.13525,
          34.145901,
          34.133011,
          34.147499,
          34.150471,
          34.14175,
          34.145908,
          34.143822,
          34.146961,
          34.160709,
          34.165291,
          34.137859,
          34.144981,
          34.137951,
          34.146221,
          34.146069,
          34.056702,
          33.991161,
          33.988419,
          33.993771,
          33.998341,
          34.000881,
          33.99868,
          33.996239,
          33.984341,
          33.984928,
          33.988129,
          33.995369,
          33.99556,
          34.014309,
          34.023392,
          34.04031,
          34.074829,
          34.0298,
          34.018059,
          34.02404,
          34.023708,
          34.033642,
          34.028351,
          34.020302,
          34.03017,
          34.028679,
          33.97366,
          34.026291,
          34.027618,
          34.02586,
          34.01252,
          34.04739,
          34.062279,
          34.04887,
          34.099049,
          34.092491,
          34.098011,
          34.06258,
          34.057652,
          34.059689,
          34.06699,
          34.056808,
          34.057709,
          34.054031,
          34.031399,
          34.005871,
          33.99958,
          34.02655,
          34.022518,
          34.172451,
          34.020061,
          34.029121,
          34.025688,
          34.00351,
          34.02948,
          33.997231,
          34.02018,
          34.023392,
          34.022449,
          33.993019,
          34.01376,
          34.02338,
          33.9953,
          33.991161,
          33.998322,
          34.014309,
          33.99556,
          33.984341,
          33.984928,
          34.000881,
          33.996239,
          33.9986,
          33.993729,
          33.988419,
          33.988129,
          34.017681,
          34.027771,
          34.02866,
          34.02618,
          34.03046,
          34.02457,
          34.027882,
          34.03677,
          34.168751,
          34.022331,
          34.017368,
          33.982922,
          34.00021,
          34.030472,
          34.009022,
          33.990318,
          34.036678,
          34.03352,
          34.035351,
          34.069271,
          34.026829,
          33.980789,
          34.162891,
          34.02697,
          34.01688,
          34.027828,
          34.075611,
          34.101509,
          33.943359,
          34.04813,
          34.051899,
          34.101891,
          34.101871,
          34.011799,
          33.986511,
          34.063351,
          34.158321,
          34.16835,
          34.168331,
          34.157581,
          34.164951,
          34.150688,
          34.165218,
          34.168629,
          34.152142,
          34.152,
          34.149872,
          34.162861,
          34.161709,
          34.168751,
          34.172451,
          34.17765,
          34.139568,
          34.105782,
          34.105358,
          34.094929,
          34.090969,
          34.061661,
          34.026619,
          34.098,
          34.02166,
          34.061619,
          34.073639,
          34.05323,
          34.0616,
          34.03027,
          34.04557,
          34.063492,
          34.10363,
          34.102329,
          34.082649,
          34.017899,
          34.10936,
          34.052429,
          34.100109,
          33.990971,
          33.985611,
          33.99485,
          34.027649,
          34.022018,
          34.175671,
          34.013691,
          34.013741,
          33.970242,
          33.976189,
          34.092602,
          34.07159,
          34.110031,
          34.045181,
          34.08252,
          34.103851,
          34.10424,
          34.031502,
          34.05896,
          34.094372,
          34.1007,
          33.978821,
          34.06126,
          34.053551,
          34.04744,
          34.036869,
          34.090279,
          34.075981,
          34.15749,
          34.17989,
          34.186569,
          34.1721,
          34.16552,
          33.9897,
          33.95879,
          33.96973,
          34.017941,
          34.101639,
          34.077351,
          34.056278,
          34.043812,
          34.08371,
          34.045849,
          34.101959,
          34.057968,
          33.990318,
          34.068748,
          34.06163,
          34.10038,
          34.103378,
          34.102001,
          34.06097,
          34.10186,
          34.10186,
          33.989079,
          34.098228,
          34.06543,
          34.101761,
          34.04776,
          33.984852,
          33.97298,
          33.95718,
          33.928459,
          33.95879,
          34.031399,
          33.9897,
          34.026829,
          34.022449,
          33.990971,
          33.99958,
          34.00351,
          34.005871,
          34.009022,
          34.011799,
          34.025688,
          34.021992,
          34.017368,
          34.020061,
          34.02697,
          34.017681,
          34.035351,
          33.989948,
          34.023392,
          34.02018,
          34.029121,
          34.02655,
          34.01376,
          34.027649,
          34.02948,
          34.030472,
          34.000309,
          34.022579,
          33.993019,
          34.04298,
          33.984859,
          33.982922,
          33.970242,
          33.980991,
          33.976189,
          34.094349,
          34.060791,
          34.020969,
          34.010971
         ],
         "legendgroup": "",
         "lon": [
          -118.238213,
          -118.258537,
          -118.256668,
          -118.25459,
          -118.262733,
          -118.472832,
          -118.254868,
          -118.267982,
          -118.237213,
          -118.241562,
          -118.260139,
          -118.260857,
          -118.26709,
          -118.233093,
          -118.240967,
          -118.24897,
          -118.26808,
          -118.24588,
          -118.247162,
          -118.246094,
          -118.246422,
          -118.24353,
          -118.252441,
          -118.25588,
          -118.255798,
          -118.263382,
          -118.260948,
          -118.232529,
          -118.231277,
          -118.248352,
          -118.393867,
          -118.266357,
          -118.2388,
          -118.256668,
          -118.24749,
          -118.266403,
          -118.235352,
          -118.253593,
          -118.25351,
          -118.264557,
          -118.236488,
          -118.251579,
          -118.265381,
          -118.270813,
          -118.23317,
          -118.256271,
          -118.25769,
          -118.266243,
          -118.243172,
          -118.253738,
          -118.256981,
          -118.238327,
          -118.23616,
          -118.250237,
          -118.250954,
          -118.248253,
          -118.261169,
          -118.256187,
          -118.253838,
          -118.250038,
          -118.238937,
          -118.233238,
          -118.254593,
          -118.250183,
          -118.237411,
          -118.238243,
          -118.148239,
          -118.144592,
          -118.144287,
          -118.132652,
          -118.145042,
          -118.15007,
          -118.145111,
          -118.14707,
          -118.142151,
          -118.14151,
          -118.160172,
          -118.166687,
          -118.151192,
          -118.132217,
          -118.13839,
          -118.132088,
          -118.13237,
          -118.116539,
          -118.14856,
          -118.14801,
          -118.132019,
          -118.149063,
          -118.12175,
          -118.154099,
          -118.139839,
          -118.132401,
          -118.15097,
          -118.122414,
          -118.13826,
          -118.128502,
          -118.135262,
          -118.129181,
          -118.231392,
          -118.468292,
          -118.45163,
          -118.453667,
          -118.461014,
          -118.46891,
          -118.472977,
          -118.477448,
          -118.47155,
          -118.46996,
          -118.471741,
          -118.464798,
          -118.481552,
          -118.491341,
          -118.479637,
          -118.25827,
          -118.258728,
          -118.270309,
          -118.286728,
          -118.283409,
          -118.279167,
          -118.291313,
          -118.288673,
          -118.281181,
          -118.280952,
          -118.284111,
          -118.422859,
          -118.277687,
          -118.280678,
          -118.284103,
          -118.285896,
          -118.218849,
          -118.271523,
          -118.2743,
          -118.291496,
          -118.291443,
          -118.287071,
          -118.290092,
          -118.292183,
          -118.294662,
          -118.290878,
          -118.275002,
          -118.279762,
          -118.27092,
          -118.453629,
          -118.429161,
          -118.44136,
          -118.408463,
          -118.400589,
          -118.370369,
          -118.422684,
          -118.403168,
          -118.395302,
          -118.43438,
          -118.410469,
          -118.445969,
          -118.40403,
          -118.399223,
          -118.438332,
          -118.414909,
          -118.417801,
          -118.479637,
          -118.464844,
          -118.468292,
          -118.460983,
          -118.491341,
          -118.481422,
          -118.47155,
          -118.469963,
          -118.46891,
          -118.477448,
          -118.472977,
          -118.45356,
          -118.45163,
          -118.471741,
          -118.409081,
          -118.38726,
          -118.410294,
          -118.389099,
          -118.394081,
          -118.388901,
          -118.425377,
          -118.425308,
          -118.415771,
          -118.420601,
          -118.410927,
          -118.402222,
          -118.420982,
          -118.425011,
          -118.412048,
          -118.425339,
          -118.241837,
          -118.434143,
          -118.296593,
          -118.393517,
          -118.414902,
          -118.495422,
          -118.428207,
          -118.428452,
          -118.247139,
          -118.291862,
          -118.33979,
          -118.248238,
          -118.271027,
          -118.293678,
          -118.300613,
          -118.29377,
          -118.419441,
          -118.441917,
          -118.296799,
          -118.370811,
          -118.387497,
          -118.396156,
          -118.38826,
          -118.363632,
          -118.366127,
          -118.355148,
          -118.377068,
          -118.361954,
          -118.350601,
          -118.378891,
          -118.370201,
          -118.372818,
          -118.36187,
          -118.370369,
          -118.382309,
          -118.362251,
          -118.291939,
          -118.28727,
          -118.284561,
          -118.286247,
          -118.298241,
          -118.281807,
          -118.300468,
          -118.278687,
          -118.305573,
          -118.251572,
          -118.278419,
          -118.28199,
          -118.273193,
          -118.274193,
          -118.287163,
          -118.291313,
          -118.28746,
          -118.284393,
          -118.291718,
          -118.271812,
          -118.302017,
          -118.289864,
          -118.421127,
          -118.425438,
          -118.417961,
          -118.413559,
          -118.409378,
          -118.378967,
          -118.426071,
          -118.418419,
          -118.28093,
          -118.282288,
          -118.287163,
          -118.243248,
          -118.27272,
          -118.325462,
          -118.273697,
          -118.288742,
          -118.250587,
          -118.331009,
          -118.259117,
          -118.407562,
          -118.258598,
          -118.255836,
          -118.24794,
          -118.425499,
          -118.277191,
          -118.256012,
          -118.39576,
          -118.370422,
          -118.388008,
          -118.361816,
          -118.375153,
          -118.448883,
          -118.44828,
          -118.463333,
          -118.255417,
          -118.309174,
          -118.264549,
          -118.231773,
          -118.264969,
          -118.296021,
          -118.254402,
          -118.338852,
          -118.299751,
          -118.412048,
          -118.30928,
          -118.301193,
          -118.341797,
          -118.34919,
          -118.33741,
          -118.444366,
          -118.33329,
          -118.32811,
          -118.462257,
          -118.338821,
          -118.308823,
          -118.33474,
          -118.22541,
          -118.431641,
          -118.423943,
          -118.451248,
          -118.435204,
          -118.44828,
          -118.453629,
          -118.448883,
          -118.393517,
          -118.438332,
          -118.421303,
          -118.44136,
          -118.43438,
          -118.429161,
          -118.425011,
          -118.419441,
          -118.395302,
          -118.416496,
          -118.420601,
          -118.422684,
          -118.428207,
          -118.409081,
          -118.434143,
          -118.434669,
          -118.399223,
          -118.40403,
          -118.403168,
          -118.408463,
          -118.417801,
          -118.413559,
          -118.410469,
          -118.420982,
          -118.402527,
          -118.40551,
          -118.414909,
          -118.252953,
          -118.431129,
          -118.410927,
          -118.426071,
          -118.414879,
          -118.418419,
          -118.326363,
          -118.309067,
          -118.335197,
          -118.289749,
          -118.23822,
          -118.258537,
          -118.256668,
          -118.254593,
          -118.262733,
          -118.472832,
          -118.254868,
          -118.267982,
          -118.237213,
          -118.241562,
          -118.260139,
          -118.260857,
          -118.26709,
          -118.233093,
          -118.24096,
          -118.24897,
          -118.268082,
          -118.24588,
          -118.247162,
          -118.246094,
          -118.246422,
          -118.24353,
          -118.252441,
          -118.255882,
          -118.255798,
          -118.26338,
          -118.260948,
          -118.232529,
          -118.231277,
          -118.248352,
          -118.393867,
          -118.266357,
          -118.238808,
          -118.256668,
          -118.24749,
          -118.266403,
          -118.235352,
          -118.253593,
          -118.253517,
          -118.264557,
          -118.236488,
          -118.25157,
          -118.265381,
          -118.270813,
          -118.23317,
          -118.256271,
          -118.25769,
          -118.266243,
          -118.243172,
          -118.25283,
          -118.256981,
          -118.238327,
          -118.23616,
          -118.250237,
          -118.250954,
          -118.248253,
          -118.261169,
          -118.256187,
          -118.253838,
          -118.250038,
          -118.238937,
          -118.23323,
          -118.254593,
          -118.25018,
          -118.237411,
          -118.238243,
          -118.257637,
          -118.238319,
          -118.148239,
          -118.144592,
          -118.144287,
          -118.132652,
          -118.145042,
          -118.15007,
          -118.145111,
          -118.147079,
          -118.142151,
          -118.14151,
          -118.160172,
          -118.166687,
          -118.151192,
          -118.132217,
          -118.13839,
          -118.132088,
          -118.13237,
          -118.116539,
          -118.14856,
          -118.14801,
          -118.132019,
          -118.149063,
          -118.12175,
          -118.154099,
          -118.139839,
          -118.1324,
          -118.15097,
          -118.122414,
          -118.13826,
          -118.128502,
          -118.135262,
          -118.129181,
          -118.231392,
          -118.468292,
          -118.45163,
          -118.453667,
          -118.461014,
          -118.46891,
          -118.472977,
          -118.477448,
          -118.47155,
          -118.469963,
          -118.471741,
          -118.464798,
          -118.481552,
          -118.491341,
          -118.479637,
          -118.25827,
          -118.258728,
          -118.270309,
          -118.286728,
          -118.283409,
          -118.279167,
          -118.291313,
          -118.288673,
          -118.281181,
          -118.280952,
          -118.284111,
          -118.422859,
          -118.277687,
          -118.280678,
          -118.284103,
          -118.285896,
          -118.218849,
          -118.271523,
          -118.2743,
          -118.291496,
          -118.291443,
          -118.287071,
          -118.290092,
          -118.292183,
          -118.294662,
          -118.290878,
          -118.275002,
          -118.279762,
          -118.27092,
          -118.453629,
          -118.429161,
          -118.44136,
          -118.408463,
          -118.400589,
          -118.370369,
          -118.422684,
          -118.403168,
          -118.395302,
          -118.43438,
          -118.410469,
          -118.445969,
          -118.40403,
          -118.399223,
          -118.438332,
          -118.414909,
          -118.417801,
          -118.479637,
          -118.464844,
          -118.468292,
          -118.460983,
          -118.491341,
          -118.481552,
          -118.47155,
          -118.469963,
          -118.46891,
          -118.477448,
          -118.472977,
          -118.45356,
          -118.45163,
          -118.471741,
          -118.409081,
          -118.38726,
          -118.410294,
          -118.238319,
          -118.389099,
          -118.394081,
          -118.388901,
          -118.425377,
          -118.36187,
          -118.415771,
          -118.420601,
          -118.410927,
          -118.402222,
          -118.420982,
          -118.425011,
          -118.412048,
          -118.425339,
          -118.241837,
          -118.434143,
          -118.296593,
          -118.393517,
          -118.414902,
          -118.370163,
          -118.428207,
          -118.428452,
          -118.247139,
          -118.291862,
          -118.33979,
          -118.248238,
          -118.271027,
          -118.293678,
          -118.300613,
          -118.29377,
          -118.419441,
          -118.441917,
          -118.296799,
          -118.370811,
          -118.387497,
          -118.396156,
          -118.38826,
          -118.363632,
          -118.366127,
          -118.355148,
          -118.377068,
          -118.361954,
          -118.350601,
          -118.378891,
          -118.370201,
          -118.372818,
          -118.36187,
          -118.370369,
          -118.382309,
          -118.362251,
          -118.291939,
          -118.28727,
          -118.284561,
          -118.286247,
          -118.298241,
          -118.281807,
          -118.300468,
          -118.278687,
          -118.305573,
          -118.251572,
          -118.278419,
          -118.28199,
          -118.273193,
          -118.274193,
          -118.287163,
          -118.291313,
          -118.28746,
          -118.284393,
          -118.291718,
          -118.271812,
          -118.302017,
          -118.289864,
          -118.421127,
          -118.425438,
          -118.417961,
          -118.413559,
          -118.409378,
          -118.378967,
          -118.28315,
          -118.28373,
          -118.426071,
          -118.418419,
          -118.28093,
          -118.282288,
          -118.287163,
          -118.243248,
          -118.27272,
          -118.325462,
          -118.273697,
          -118.288742,
          -118.250587,
          -118.331009,
          -118.259117,
          -118.407562,
          -118.258598,
          -118.255836,
          -118.24794,
          -118.425499,
          -118.277191,
          -118.256012,
          -118.39576,
          -118.370422,
          -118.388008,
          -118.361816,
          -118.375153,
          -118.448883,
          -118.44828,
          -118.463333,
          -118.255417,
          -118.309174,
          -118.264549,
          -118.231773,
          -118.264969,
          -118.296021,
          -118.254402,
          -118.338852,
          -118.299751,
          -118.412048,
          -118.30928,
          -118.301193,
          -118.341797,
          -118.34919,
          -118.33741,
          -118.444366,
          -118.33329,
          -118.32811,
          -118.462257,
          -118.338821,
          -118.308823,
          -118.33474,
          -118.22541,
          -118.431641,
          -118.423943,
          -118.451248,
          -118.435204,
          -118.44828,
          -118.453629,
          -118.448883,
          -118.393517,
          -118.438332,
          -118.421303,
          -118.44136,
          -118.43438,
          -118.429161,
          -118.425011,
          -118.419441,
          -118.395302,
          -118.416496,
          -118.420601,
          -118.422684,
          -118.428207,
          -118.409081,
          -118.434143,
          -118.434669,
          -118.399223,
          -118.40403,
          -118.403168,
          -118.408463,
          -118.417801,
          -118.413559,
          -118.410469,
          -118.420982,
          -118.402527,
          -118.40551,
          -118.414909,
          -118.252953,
          -118.431129,
          -118.410927,
          -118.426071,
          -118.414879,
          -118.418419,
          -118.326363,
          -118.309067,
          -118.335197,
          -118.289749
         ],
         "marker": {
          "color": "#636efa",
          "symbol": "circle"
         },
         "mode": "markers",
         "name": "",
         "showlegend": false,
         "type": "scattergeo"
        }
       ],
       "layout": {
        "autosize": true,
        "geo": {
         "center": {},
         "domain": {
          "x": [
           0,
           1
          ],
          "y": [
           0,
           1
          ]
         },
         "fitbounds": "locations"
        },
        "legend": {
         "tracegroupgap": 0
        },
        "margin": {
         "t": 60
        },
        "template": {
         "data": {
          "bar": [
           {
            "error_x": {
             "color": "#2a3f5f"
            },
            "error_y": {
             "color": "#2a3f5f"
            },
            "marker": {
             "line": {
              "color": "#E5ECF6",
              "width": 0.5
             },
             "pattern": {
              "fillmode": "overlay",
              "size": 10,
              "solidity": 0.2
             }
            },
            "type": "bar"
           }
          ],
          "barpolar": [
           {
            "marker": {
             "line": {
              "color": "#E5ECF6",
              "width": 0.5
             },
             "pattern": {
              "fillmode": "overlay",
              "size": 10,
              "solidity": 0.2
             }
            },
            "type": "barpolar"
           }
          ],
          "carpet": [
           {
            "aaxis": {
             "endlinecolor": "#2a3f5f",
             "gridcolor": "white",
             "linecolor": "white",
             "minorgridcolor": "white",
             "startlinecolor": "#2a3f5f"
            },
            "baxis": {
             "endlinecolor": "#2a3f5f",
             "gridcolor": "white",
             "linecolor": "white",
             "minorgridcolor": "white",
             "startlinecolor": "#2a3f5f"
            },
            "type": "carpet"
           }
          ],
          "choropleth": [
           {
            "colorbar": {
             "outlinewidth": 0,
             "ticks": ""
            },
            "type": "choropleth"
           }
          ],
          "contour": [
           {
            "colorbar": {
             "outlinewidth": 0,
             "ticks": ""
            },
            "colorscale": [
             [
              0,
              "#0d0887"
             ],
             [
              0.1111111111111111,
              "#46039f"
             ],
             [
              0.2222222222222222,
              "#7201a8"
             ],
             [
              0.3333333333333333,
              "#9c179e"
             ],
             [
              0.4444444444444444,
              "#bd3786"
             ],
             [
              0.5555555555555556,
              "#d8576b"
             ],
             [
              0.6666666666666666,
              "#ed7953"
             ],
             [
              0.7777777777777778,
              "#fb9f3a"
             ],
             [
              0.8888888888888888,
              "#fdca26"
             ],
             [
              1,
              "#f0f921"
             ]
            ],
            "type": "contour"
           }
          ],
          "contourcarpet": [
           {
            "colorbar": {
             "outlinewidth": 0,
             "ticks": ""
            },
            "type": "contourcarpet"
           }
          ],
          "heatmap": [
           {
            "colorbar": {
             "outlinewidth": 0,
             "ticks": ""
            },
            "colorscale": [
             [
              0,
              "#0d0887"
             ],
             [
              0.1111111111111111,
              "#46039f"
             ],
             [
              0.2222222222222222,
              "#7201a8"
             ],
             [
              0.3333333333333333,
              "#9c179e"
             ],
             [
              0.4444444444444444,
              "#bd3786"
             ],
             [
              0.5555555555555556,
              "#d8576b"
             ],
             [
              0.6666666666666666,
              "#ed7953"
             ],
             [
              0.7777777777777778,
              "#fb9f3a"
             ],
             [
              0.8888888888888888,
              "#fdca26"
             ],
             [
              1,
              "#f0f921"
             ]
            ],
            "type": "heatmap"
           }
          ],
          "heatmapgl": [
           {
            "colorbar": {
             "outlinewidth": 0,
             "ticks": ""
            },
            "colorscale": [
             [
              0,
              "#0d0887"
             ],
             [
              0.1111111111111111,
              "#46039f"
             ],
             [
              0.2222222222222222,
              "#7201a8"
             ],
             [
              0.3333333333333333,
              "#9c179e"
             ],
             [
              0.4444444444444444,
              "#bd3786"
             ],
             [
              0.5555555555555556,
              "#d8576b"
             ],
             [
              0.6666666666666666,
              "#ed7953"
             ],
             [
              0.7777777777777778,
              "#fb9f3a"
             ],
             [
              0.8888888888888888,
              "#fdca26"
             ],
             [
              1,
              "#f0f921"
             ]
            ],
            "type": "heatmapgl"
           }
          ],
          "histogram": [
           {
            "marker": {
             "pattern": {
              "fillmode": "overlay",
              "size": 10,
              "solidity": 0.2
             }
            },
            "type": "histogram"
           }
          ],
          "histogram2d": [
           {
            "colorbar": {
             "outlinewidth": 0,
             "ticks": ""
            },
            "colorscale": [
             [
              0,
              "#0d0887"
             ],
             [
              0.1111111111111111,
              "#46039f"
             ],
             [
              0.2222222222222222,
              "#7201a8"
             ],
             [
              0.3333333333333333,
              "#9c179e"
             ],
             [
              0.4444444444444444,
              "#bd3786"
             ],
             [
              0.5555555555555556,
              "#d8576b"
             ],
             [
              0.6666666666666666,
              "#ed7953"
             ],
             [
              0.7777777777777778,
              "#fb9f3a"
             ],
             [
              0.8888888888888888,
              "#fdca26"
             ],
             [
              1,
              "#f0f921"
             ]
            ],
            "type": "histogram2d"
           }
          ],
          "histogram2dcontour": [
           {
            "colorbar": {
             "outlinewidth": 0,
             "ticks": ""
            },
            "colorscale": [
             [
              0,
              "#0d0887"
             ],
             [
              0.1111111111111111,
              "#46039f"
             ],
             [
              0.2222222222222222,
              "#7201a8"
             ],
             [
              0.3333333333333333,
              "#9c179e"
             ],
             [
              0.4444444444444444,
              "#bd3786"
             ],
             [
              0.5555555555555556,
              "#d8576b"
             ],
             [
              0.6666666666666666,
              "#ed7953"
             ],
             [
              0.7777777777777778,
              "#fb9f3a"
             ],
             [
              0.8888888888888888,
              "#fdca26"
             ],
             [
              1,
              "#f0f921"
             ]
            ],
            "type": "histogram2dcontour"
           }
          ],
          "mesh3d": [
           {
            "colorbar": {
             "outlinewidth": 0,
             "ticks": ""
            },
            "type": "mesh3d"
           }
          ],
          "parcoords": [
           {
            "line": {
             "colorbar": {
              "outlinewidth": 0,
              "ticks": ""
             }
            },
            "type": "parcoords"
           }
          ],
          "pie": [
           {
            "automargin": true,
            "type": "pie"
           }
          ],
          "scatter": [
           {
            "fillpattern": {
             "fillmode": "overlay",
             "size": 10,
             "solidity": 0.2
            },
            "type": "scatter"
           }
          ],
          "scatter3d": [
           {
            "line": {
             "colorbar": {
              "outlinewidth": 0,
              "ticks": ""
             }
            },
            "marker": {
             "colorbar": {
              "outlinewidth": 0,
              "ticks": ""
             }
            },
            "type": "scatter3d"
           }
          ],
          "scattercarpet": [
           {
            "marker": {
             "colorbar": {
              "outlinewidth": 0,
              "ticks": ""
             }
            },
            "type": "scattercarpet"
           }
          ],
          "scattergeo": [
           {
            "marker": {
             "colorbar": {
              "outlinewidth": 0,
              "ticks": ""
             }
            },
            "type": "scattergeo"
           }
          ],
          "scattergl": [
           {
            "marker": {
             "colorbar": {
              "outlinewidth": 0,
              "ticks": ""
             }
            },
            "type": "scattergl"
           }
          ],
          "scattermapbox": [
           {
            "marker": {
             "colorbar": {
              "outlinewidth": 0,
              "ticks": ""
             }
            },
            "type": "scattermapbox"
           }
          ],
          "scatterpolar": [
           {
            "marker": {
             "colorbar": {
              "outlinewidth": 0,
              "ticks": ""
             }
            },
            "type": "scatterpolar"
           }
          ],
          "scatterpolargl": [
           {
            "marker": {
             "colorbar": {
              "outlinewidth": 0,
              "ticks": ""
             }
            },
            "type": "scatterpolargl"
           }
          ],
          "scatterternary": [
           {
            "marker": {
             "colorbar": {
              "outlinewidth": 0,
              "ticks": ""
             }
            },
            "type": "scatterternary"
           }
          ],
          "surface": [
           {
            "colorbar": {
             "outlinewidth": 0,
             "ticks": ""
            },
            "colorscale": [
             [
              0,
              "#0d0887"
             ],
             [
              0.1111111111111111,
              "#46039f"
             ],
             [
              0.2222222222222222,
              "#7201a8"
             ],
             [
              0.3333333333333333,
              "#9c179e"
             ],
             [
              0.4444444444444444,
              "#bd3786"
             ],
             [
              0.5555555555555556,
              "#d8576b"
             ],
             [
              0.6666666666666666,
              "#ed7953"
             ],
             [
              0.7777777777777778,
              "#fb9f3a"
             ],
             [
              0.8888888888888888,
              "#fdca26"
             ],
             [
              1,
              "#f0f921"
             ]
            ],
            "type": "surface"
           }
          ],
          "table": [
           {
            "cells": {
             "fill": {
              "color": "#EBF0F8"
             },
             "line": {
              "color": "white"
             }
            },
            "header": {
             "fill": {
              "color": "#C8D4E3"
             },
             "line": {
              "color": "white"
             }
            },
            "type": "table"
           }
          ]
         },
         "layout": {
          "annotationdefaults": {
           "arrowcolor": "#2a3f5f",
           "arrowhead": 0,
           "arrowwidth": 1
          },
          "autotypenumbers": "strict",
          "coloraxis": {
           "colorbar": {
            "outlinewidth": 0,
            "ticks": ""
           }
          },
          "colorscale": {
           "diverging": [
            [
             0,
             "#8e0152"
            ],
            [
             0.1,
             "#c51b7d"
            ],
            [
             0.2,
             "#de77ae"
            ],
            [
             0.3,
             "#f1b6da"
            ],
            [
             0.4,
             "#fde0ef"
            ],
            [
             0.5,
             "#f7f7f7"
            ],
            [
             0.6,
             "#e6f5d0"
            ],
            [
             0.7,
             "#b8e186"
            ],
            [
             0.8,
             "#7fbc41"
            ],
            [
             0.9,
             "#4d9221"
            ],
            [
             1,
             "#276419"
            ]
           ],
           "sequential": [
            [
             0,
             "#0d0887"
            ],
            [
             0.1111111111111111,
             "#46039f"
            ],
            [
             0.2222222222222222,
             "#7201a8"
            ],
            [
             0.3333333333333333,
             "#9c179e"
            ],
            [
             0.4444444444444444,
             "#bd3786"
            ],
            [
             0.5555555555555556,
             "#d8576b"
            ],
            [
             0.6666666666666666,
             "#ed7953"
            ],
            [
             0.7777777777777778,
             "#fb9f3a"
            ],
            [
             0.8888888888888888,
             "#fdca26"
            ],
            [
             1,
             "#f0f921"
            ]
           ],
           "sequentialminus": [
            [
             0,
             "#0d0887"
            ],
            [
             0.1111111111111111,
             "#46039f"
            ],
            [
             0.2222222222222222,
             "#7201a8"
            ],
            [
             0.3333333333333333,
             "#9c179e"
            ],
            [
             0.4444444444444444,
             "#bd3786"
            ],
            [
             0.5555555555555556,
             "#d8576b"
            ],
            [
             0.6666666666666666,
             "#ed7953"
            ],
            [
             0.7777777777777778,
             "#fb9f3a"
            ],
            [
             0.8888888888888888,
             "#fdca26"
            ],
            [
             1,
             "#f0f921"
            ]
           ]
          },
          "colorway": [
           "#636efa",
           "#EF553B",
           "#00cc96",
           "#ab63fa",
           "#FFA15A",
           "#19d3f3",
           "#FF6692",
           "#B6E880",
           "#FF97FF",
           "#FECB52"
          ],
          "font": {
           "color": "#2a3f5f"
          },
          "geo": {
           "bgcolor": "white",
           "lakecolor": "white",
           "landcolor": "#E5ECF6",
           "showlakes": true,
           "showland": true,
           "subunitcolor": "white"
          },
          "hoverlabel": {
           "align": "left"
          },
          "hovermode": "closest",
          "mapbox": {
           "style": "light"
          },
          "paper_bgcolor": "white",
          "plot_bgcolor": "#E5ECF6",
          "polar": {
           "angularaxis": {
            "gridcolor": "white",
            "linecolor": "white",
            "ticks": ""
           },
           "bgcolor": "#E5ECF6",
           "radialaxis": {
            "gridcolor": "white",
            "linecolor": "white",
            "ticks": ""
           }
          },
          "scene": {
           "xaxis": {
            "backgroundcolor": "#E5ECF6",
            "gridcolor": "white",
            "gridwidth": 2,
            "linecolor": "white",
            "showbackground": true,
            "ticks": "",
            "zerolinecolor": "white"
           },
           "yaxis": {
            "backgroundcolor": "#E5ECF6",
            "gridcolor": "white",
            "gridwidth": 2,
            "linecolor": "white",
            "showbackground": true,
            "ticks": "",
            "zerolinecolor": "white"
           },
           "zaxis": {
            "backgroundcolor": "#E5ECF6",
            "gridcolor": "white",
            "gridwidth": 2,
            "linecolor": "white",
            "showbackground": true,
            "ticks": "",
            "zerolinecolor": "white"
           }
          },
          "shapedefaults": {
           "line": {
            "color": "#2a3f5f"
           }
          },
          "ternary": {
           "aaxis": {
            "gridcolor": "white",
            "linecolor": "white",
            "ticks": ""
           },
           "baxis": {
            "gridcolor": "white",
            "linecolor": "white",
            "ticks": ""
           },
           "bgcolor": "#E5ECF6",
           "caxis": {
            "gridcolor": "white",
            "linecolor": "white",
            "ticks": ""
           }
          },
          "title": {
           "x": 0.05
          },
          "xaxis": {
           "automargin": true,
           "gridcolor": "white",
           "linecolor": "white",
           "ticks": "",
           "title": {
            "standoff": 15
           },
           "zerolinecolor": "white",
           "zerolinewidth": 2
          },
          "yaxis": {
           "automargin": true,
           "gridcolor": "white",
           "linecolor": "white",
           "ticks": "",
           "title": {
            "standoff": 15
           },
           "zerolinecolor": "white",
           "zerolinewidth": 2
          }
         }
        }
       }
      },
      "image/png": "[encoded data removed]"
     },
     "metadata": {},
     "output_type": "display_data"
    }
   ],
   "source": [
    "fig = px.scatter_geo(stations[~(lat_filter | lon_filter)], lat='lat', lon='lon')\n",
    "fig.update_geos(fitbounds=\"locations\")"
   ]
  },
  {
   "cell_type": "code",
   "execution_count": 12,
   "metadata": {},
   "outputs": [
    {
     "data": {
      "text/html": [
       "<div>\n",
       "<style scoped>\n",
       "    .dataframe tbody tr th:only-of-type {\n",
       "        vertical-align: middle;\n",
       "    }\n",
       "\n",
       "    .dataframe tbody tr th {\n",
       "        vertical-align: top;\n",
       "    }\n",
       "\n",
       "    .dataframe thead th {\n",
       "        text-align: right;\n",
       "    }\n",
       "</style>\n",
       "<table border=\"1\" class=\"dataframe\">\n",
       "  <thead>\n",
       "    <tr style=\"text-align: right;\">\n",
       "      <th></th>\n",
       "      <th>lat</th>\n",
       "      <th>lon</th>\n",
       "    </tr>\n",
       "  </thead>\n",
       "  <tbody>\n",
       "    <tr>\n",
       "      <th>0</th>\n",
       "      <td>34.025841</td>\n",
       "      <td>-118.238213</td>\n",
       "    </tr>\n",
       "    <tr>\n",
       "      <th>1</th>\n",
       "      <td>34.048500</td>\n",
       "      <td>-118.258537</td>\n",
       "    </tr>\n",
       "    <tr>\n",
       "      <th>2</th>\n",
       "      <td>34.045540</td>\n",
       "      <td>-118.256668</td>\n",
       "    </tr>\n",
       "    <tr>\n",
       "      <th>3</th>\n",
       "      <td>34.050480</td>\n",
       "      <td>-118.254590</td>\n",
       "    </tr>\n",
       "    <tr>\n",
       "      <th>4</th>\n",
       "      <td>34.046612</td>\n",
       "      <td>-118.262733</td>\n",
       "    </tr>\n",
       "    <tr>\n",
       "      <th>...</th>\n",
       "      <td>...</td>\n",
       "      <td>...</td>\n",
       "    </tr>\n",
       "    <tr>\n",
       "      <th>362</th>\n",
       "      <td>33.976189</td>\n",
       "      <td>-118.418419</td>\n",
       "    </tr>\n",
       "    <tr>\n",
       "      <th>363</th>\n",
       "      <td>34.094349</td>\n",
       "      <td>-118.326363</td>\n",
       "    </tr>\n",
       "    <tr>\n",
       "      <th>364</th>\n",
       "      <td>34.060791</td>\n",
       "      <td>-118.309067</td>\n",
       "    </tr>\n",
       "    <tr>\n",
       "      <th>365</th>\n",
       "      <td>34.020969</td>\n",
       "      <td>-118.335197</td>\n",
       "    </tr>\n",
       "    <tr>\n",
       "      <th>366</th>\n",
       "      <td>34.010971</td>\n",
       "      <td>-118.289749</td>\n",
       "    </tr>\n",
       "  </tbody>\n",
       "</table>\n",
       "<p>701 rows × 2 columns</p>\n",
       "</div>"
      ],
      "text/plain": [
       "           lat         lon\n",
       "0    34.025841 -118.238213\n",
       "1    34.048500 -118.258537\n",
       "2    34.045540 -118.256668\n",
       "3    34.050480 -118.254590\n",
       "4    34.046612 -118.262733\n",
       "..         ...         ...\n",
       "362  33.976189 -118.418419\n",
       "363  34.094349 -118.326363\n",
       "364  34.060791 -118.309067\n",
       "365  34.020969 -118.335197\n",
       "366  34.010971 -118.289749\n",
       "\n",
       "[701 rows x 2 columns]"
      ]
     },
     "execution_count": 12,
     "metadata": {},
     "output_type": "execute_result"
    }
   ],
   "source": [
    "valid_locations = stations[~(lat_filter | lon_filter)][['lat', 'lon']]\n",
    "valid_locations"
   ]
  },
  {
   "cell_type": "code",
   "execution_count": 13,
   "metadata": {},
   "outputs": [],
   "source": [
    "geo_filter = (train['start_lat'].isin(valid_locations['lat'])) & \\\n",
    "        (train['start_lon'].isin(valid_locations['lon'])) & \\\n",
    "        (train['end_lat'].isin(valid_locations['lat'])) & \\\n",
    "        (train['end_lon'].isin(valid_locations['lon']))\n",
    "\n",
    "train = train[geo_filter]"
   ]
  },
  {
   "cell_type": "code",
   "execution_count": 14,
   "metadata": {},
   "outputs": [],
   "source": [
    "duration_filter = build_outlier_filter(train, 'duration', q_offset=5, only_upper=True)\n",
    "\n",
    "train = train[~duration_filter]\n",
    "# train = train[train['duration'] <= 60 * 5]"
   ]
  },
  {
   "cell_type": "code",
   "execution_count": 15,
   "metadata": {},
   "outputs": [
    {
     "data": {
      "text/html": [
       "<div>\n",
       "<style scoped>\n",
       "    .dataframe tbody tr th:only-of-type {\n",
       "        vertical-align: middle;\n",
       "    }\n",
       "\n",
       "    .dataframe tbody tr th {\n",
       "        vertical-align: top;\n",
       "    }\n",
       "\n",
       "    .dataframe thead th {\n",
       "        text-align: right;\n",
       "    }\n",
       "</style>\n",
       "<table border=\"1\" class=\"dataframe\">\n",
       "  <thead>\n",
       "    <tr style=\"text-align: right;\">\n",
       "      <th></th>\n",
       "      <th>trip_id</th>\n",
       "      <th>duration</th>\n",
       "      <th>start_time</th>\n",
       "      <th>end_time</th>\n",
       "      <th>start_lat</th>\n",
       "      <th>start_lon</th>\n",
       "      <th>end_lat</th>\n",
       "      <th>end_lon</th>\n",
       "      <th>bike_id</th>\n",
       "      <th>plan_duration</th>\n",
       "      <th>trip_route_category</th>\n",
       "      <th>passholder_type</th>\n",
       "      <th>start_station</th>\n",
       "      <th>end_station</th>\n",
       "    </tr>\n",
       "  </thead>\n",
       "  <tbody>\n",
       "    <tr>\n",
       "      <th>1</th>\n",
       "      <td>46560345</td>\n",
       "      <td>32</td>\n",
       "      <td>9/17/2017 17:51</td>\n",
       "      <td>9/17/2017 18:23</td>\n",
       "      <td>34.035679</td>\n",
       "      <td>-118.270813</td>\n",
       "      <td>34.047749</td>\n",
       "      <td>-118.243172</td>\n",
       "      <td>6683</td>\n",
       "      <td>0.0</td>\n",
       "      <td>One Way</td>\n",
       "      <td>Walk-up</td>\n",
       "      <td>3057</td>\n",
       "      <td>3062</td>\n",
       "    </tr>\n",
       "    <tr>\n",
       "      <th>2</th>\n",
       "      <td>120016336</td>\n",
       "      <td>6</td>\n",
       "      <td>2019-04-22 09:22:00</td>\n",
       "      <td>2019-04-22 09:28:00</td>\n",
       "      <td>34.046070</td>\n",
       "      <td>-118.233093</td>\n",
       "      <td>34.047749</td>\n",
       "      <td>-118.243172</td>\n",
       "      <td>06710</td>\n",
       "      <td>30.0</td>\n",
       "      <td>One Way</td>\n",
       "      <td>Monthly Pass</td>\n",
       "      <td>3022</td>\n",
       "      <td>3062</td>\n",
       "    </tr>\n",
       "    <tr>\n",
       "      <th>4</th>\n",
       "      <td>136619463</td>\n",
       "      <td>14</td>\n",
       "      <td>1/31/2020 17:11</td>\n",
       "      <td>1/31/2020 17:25</td>\n",
       "      <td>34.026291</td>\n",
       "      <td>-118.277687</td>\n",
       "      <td>34.021660</td>\n",
       "      <td>-118.278687</td>\n",
       "      <td>18841</td>\n",
       "      <td>30.0</td>\n",
       "      <td>One Way</td>\n",
       "      <td>Monthly Pass</td>\n",
       "      <td>4266</td>\n",
       "      <td>4443</td>\n",
       "    </tr>\n",
       "    <tr>\n",
       "      <th>5</th>\n",
       "      <td>63406498</td>\n",
       "      <td>30</td>\n",
       "      <td>2017-12-16 15:18:00</td>\n",
       "      <td>2017-12-16 15:48:00</td>\n",
       "      <td>34.135250</td>\n",
       "      <td>-118.132370</td>\n",
       "      <td>34.135250</td>\n",
       "      <td>-118.132370</td>\n",
       "      <td>05768</td>\n",
       "      <td>0.0</td>\n",
       "      <td>Round Trip</td>\n",
       "      <td>Walk-up</td>\n",
       "      <td>4158</td>\n",
       "      <td>4158</td>\n",
       "    </tr>\n",
       "    <tr>\n",
       "      <th>6</th>\n",
       "      <td>25033469</td>\n",
       "      <td>11</td>\n",
       "      <td>2017-04-15 22:02:00</td>\n",
       "      <td>2017-04-15 22:13:00</td>\n",
       "      <td>34.045181</td>\n",
       "      <td>-118.250237</td>\n",
       "      <td>34.053570</td>\n",
       "      <td>-118.266357</td>\n",
       "      <td>06527</td>\n",
       "      <td>30.0</td>\n",
       "      <td>One Way</td>\n",
       "      <td>Monthly Pass</td>\n",
       "      <td>3067</td>\n",
       "      <td>3040</td>\n",
       "    </tr>\n",
       "    <tr>\n",
       "      <th>...</th>\n",
       "      <td>...</td>\n",
       "      <td>...</td>\n",
       "      <td>...</td>\n",
       "      <td>...</td>\n",
       "      <td>...</td>\n",
       "      <td>...</td>\n",
       "      <td>...</td>\n",
       "      <td>...</td>\n",
       "      <td>...</td>\n",
       "      <td>...</td>\n",
       "      <td>...</td>\n",
       "      <td>...</td>\n",
       "      <td>...</td>\n",
       "      <td>...</td>\n",
       "    </tr>\n",
       "    <tr>\n",
       "      <th>699995</th>\n",
       "      <td>83666862</td>\n",
       "      <td>17</td>\n",
       "      <td>2018-04-25 18:32:00</td>\n",
       "      <td>2018-04-25 18:49:00</td>\n",
       "      <td>34.049889</td>\n",
       "      <td>-118.255882</td>\n",
       "      <td>34.074829</td>\n",
       "      <td>-118.258728</td>\n",
       "      <td>06505</td>\n",
       "      <td>30.0</td>\n",
       "      <td>One Way</td>\n",
       "      <td>Monthly Pass</td>\n",
       "      <td>3032</td>\n",
       "      <td>4220</td>\n",
       "    </tr>\n",
       "    <tr>\n",
       "      <th>699996</th>\n",
       "      <td>132547303</td>\n",
       "      <td>9</td>\n",
       "      <td>2019-11-12 16:49:10</td>\n",
       "      <td>2019-11-12 16:58:51</td>\n",
       "      <td>34.039188</td>\n",
       "      <td>-118.232529</td>\n",
       "      <td>34.056610</td>\n",
       "      <td>-118.237213</td>\n",
       "      <td>18348</td>\n",
       "      <td>30.0</td>\n",
       "      <td>One Way</td>\n",
       "      <td>Monthly Pass</td>\n",
       "      <td>3036</td>\n",
       "      <td>3014</td>\n",
       "    </tr>\n",
       "    <tr>\n",
       "      <th>699997</th>\n",
       "      <td>67332628</td>\n",
       "      <td>6</td>\n",
       "      <td>2018-01-13 15:49:00</td>\n",
       "      <td>2018-01-13 15:55:00</td>\n",
       "      <td>34.049889</td>\n",
       "      <td>-118.255882</td>\n",
       "      <td>34.050480</td>\n",
       "      <td>-118.254593</td>\n",
       "      <td>05718</td>\n",
       "      <td>365.0</td>\n",
       "      <td>One Way</td>\n",
       "      <td>Flex Pass</td>\n",
       "      <td>3032</td>\n",
       "      <td>3007</td>\n",
       "    </tr>\n",
       "    <tr>\n",
       "      <th>699998</th>\n",
       "      <td>114846232</td>\n",
       "      <td>3</td>\n",
       "      <td>2019-02-04 14:16:00</td>\n",
       "      <td>2019-02-04 14:19:00</td>\n",
       "      <td>34.045181</td>\n",
       "      <td>-118.250237</td>\n",
       "      <td>34.045540</td>\n",
       "      <td>-118.256668</td>\n",
       "      <td>12195</td>\n",
       "      <td>1.0</td>\n",
       "      <td>One Way</td>\n",
       "      <td>Walk-up</td>\n",
       "      <td>3067</td>\n",
       "      <td>3006</td>\n",
       "    </tr>\n",
       "    <tr>\n",
       "      <th>699999</th>\n",
       "      <td>167744702</td>\n",
       "      <td>59</td>\n",
       "      <td>8/1/2021 20:26</td>\n",
       "      <td>8/1/2021 21:25</td>\n",
       "      <td>33.984341</td>\n",
       "      <td>-118.471550</td>\n",
       "      <td>34.023392</td>\n",
       "      <td>-118.479637</td>\n",
       "      <td>16201</td>\n",
       "      <td>1.0</td>\n",
       "      <td>One Way</td>\n",
       "      <td>Walk-up</td>\n",
       "      <td>4210</td>\n",
       "      <td>4216</td>\n",
       "    </tr>\n",
       "  </tbody>\n",
       "</table>\n",
       "<p>601696 rows × 14 columns</p>\n",
       "</div>"
      ],
      "text/plain": [
       "          trip_id  duration           start_time             end_time  \\\n",
       "1        46560345        32      9/17/2017 17:51      9/17/2017 18:23   \n",
       "2       120016336         6  2019-04-22 09:22:00  2019-04-22 09:28:00   \n",
       "4       136619463        14      1/31/2020 17:11      1/31/2020 17:25   \n",
       "5        63406498        30  2017-12-16 15:18:00  2017-12-16 15:48:00   \n",
       "6        25033469        11  2017-04-15 22:02:00  2017-04-15 22:13:00   \n",
       "...           ...       ...                  ...                  ...   \n",
       "699995   83666862        17  2018-04-25 18:32:00  2018-04-25 18:49:00   \n",
       "699996  132547303         9  2019-11-12 16:49:10  2019-11-12 16:58:51   \n",
       "699997   67332628         6  2018-01-13 15:49:00  2018-01-13 15:55:00   \n",
       "699998  114846232         3  2019-02-04 14:16:00  2019-02-04 14:19:00   \n",
       "699999  167744702        59       8/1/2021 20:26       8/1/2021 21:25   \n",
       "\n",
       "        start_lat   start_lon    end_lat     end_lon bike_id  plan_duration  \\\n",
       "1       34.035679 -118.270813  34.047749 -118.243172    6683            0.0   \n",
       "2       34.046070 -118.233093  34.047749 -118.243172   06710           30.0   \n",
       "4       34.026291 -118.277687  34.021660 -118.278687   18841           30.0   \n",
       "5       34.135250 -118.132370  34.135250 -118.132370   05768            0.0   \n",
       "6       34.045181 -118.250237  34.053570 -118.266357   06527           30.0   \n",
       "...           ...         ...        ...         ...     ...            ...   \n",
       "699995  34.049889 -118.255882  34.074829 -118.258728   06505           30.0   \n",
       "699996  34.039188 -118.232529  34.056610 -118.237213   18348           30.0   \n",
       "699997  34.049889 -118.255882  34.050480 -118.254593   05718          365.0   \n",
       "699998  34.045181 -118.250237  34.045540 -118.256668   12195            1.0   \n",
       "699999  33.984341 -118.471550  34.023392 -118.479637   16201            1.0   \n",
       "\n",
       "       trip_route_category passholder_type  start_station  end_station  \n",
       "1                  One Way         Walk-up           3057         3062  \n",
       "2                  One Way    Monthly Pass           3022         3062  \n",
       "4                  One Way    Monthly Pass           4266         4443  \n",
       "5               Round Trip         Walk-up           4158         4158  \n",
       "6                  One Way    Monthly Pass           3067         3040  \n",
       "...                    ...             ...            ...          ...  \n",
       "699995             One Way    Monthly Pass           3032         4220  \n",
       "699996             One Way    Monthly Pass           3036         3014  \n",
       "699997             One Way       Flex Pass           3032         3007  \n",
       "699998             One Way         Walk-up           3067         3006  \n",
       "699999             One Way         Walk-up           4210         4216  \n",
       "\n",
       "[601696 rows x 14 columns]"
      ]
     },
     "execution_count": 15,
     "metadata": {},
     "output_type": "execute_result"
    }
   ],
   "source": [
    "cleaning_pipe.append(lambda data: data.dropna())\n",
    "train = train.dropna()\n",
    "train"
   ]
  },
  {
   "cell_type": "code",
   "execution_count": 16,
   "metadata": {},
   "outputs": [],
   "source": [
    "def set_datetime_types(data: pd.DataFrame):\n",
    "    data.start_time = pd.to_datetime(data.start_time)\n",
    "    data.end_time = pd.to_datetime(data.end_time)    \n",
    "\n",
    "    return data\n",
    "\n",
    "cleaning_pipe.append(set_datetime_types)\n",
    "train = set_datetime_types(train)"
   ]
  },
  {
   "cell_type": "code",
   "execution_count": 17,
   "metadata": {},
   "outputs": [],
   "source": [
    "ID_COLUMS = ['trip_id', 'bike_id', 'start_station', 'end_station']\n",
    "TIME_COLUMS = ['start_time', 'start_time', 'duration']\n",
    "GEO_COLUMNS = ['start_lat', 'start_lon', 'end_lat', 'end_lon']\n",
    "TARGET = ['plan_duration', 'passholder_type']"
   ]
  },
  {
   "cell_type": "code",
   "execution_count": 18,
   "metadata": {},
   "outputs": [
    {
     "data": {
      "text/html": [
       "<div>\n",
       "<style scoped>\n",
       "    .dataframe tbody tr th:only-of-type {\n",
       "        vertical-align: middle;\n",
       "    }\n",
       "\n",
       "    .dataframe tbody tr th {\n",
       "        vertical-align: top;\n",
       "    }\n",
       "\n",
       "    .dataframe thead th {\n",
       "        text-align: right;\n",
       "    }\n",
       "</style>\n",
       "<table border=\"1\" class=\"dataframe\">\n",
       "  <thead>\n",
       "    <tr style=\"text-align: right;\">\n",
       "      <th></th>\n",
       "      <th>plan_duration</th>\n",
       "    </tr>\n",
       "    <tr>\n",
       "      <th>passholder_type</th>\n",
       "      <th></th>\n",
       "    </tr>\n",
       "  </thead>\n",
       "  <tbody>\n",
       "    <tr>\n",
       "      <th>Annual Pass</th>\n",
       "      <td>365.000000</td>\n",
       "    </tr>\n",
       "    <tr>\n",
       "      <th>Flex Pass</th>\n",
       "      <td>365.000000</td>\n",
       "    </tr>\n",
       "    <tr>\n",
       "      <th>Monthly Pass</th>\n",
       "      <td>30.538824</td>\n",
       "    </tr>\n",
       "    <tr>\n",
       "      <th>One Day Pass</th>\n",
       "      <td>1.000000</td>\n",
       "    </tr>\n",
       "    <tr>\n",
       "      <th>Testing</th>\n",
       "      <td>999.000000</td>\n",
       "    </tr>\n",
       "    <tr>\n",
       "      <th>Walk-up</th>\n",
       "      <td>11.778632</td>\n",
       "    </tr>\n",
       "  </tbody>\n",
       "</table>\n",
       "</div>"
      ],
      "text/plain": [
       "                 plan_duration\n",
       "passholder_type               \n",
       "Annual Pass         365.000000\n",
       "Flex Pass           365.000000\n",
       "Monthly Pass         30.538824\n",
       "One Day Pass          1.000000\n",
       "Testing             999.000000\n",
       "Walk-up              11.778632"
      ]
     },
     "execution_count": 18,
     "metadata": {},
     "output_type": "execute_result"
    }
   ],
   "source": [
    "train[TARGET].groupby(by='passholder_type').mean()"
   ]
  },
  {
   "cell_type": "code",
   "execution_count": 19,
   "metadata": {},
   "outputs": [
    {
     "data": {
      "text/html": [
       "<div>\n",
       "<style scoped>\n",
       "    .dataframe tbody tr th:only-of-type {\n",
       "        vertical-align: middle;\n",
       "    }\n",
       "\n",
       "    .dataframe tbody tr th {\n",
       "        vertical-align: top;\n",
       "    }\n",
       "\n",
       "    .dataframe thead th {\n",
       "        text-align: right;\n",
       "    }\n",
       "</style>\n",
       "<table border=\"1\" class=\"dataframe\">\n",
       "  <thead>\n",
       "    <tr style=\"text-align: right;\">\n",
       "      <th></th>\n",
       "      <th>trip_id</th>\n",
       "      <th>duration</th>\n",
       "      <th>start_time</th>\n",
       "      <th>end_time</th>\n",
       "      <th>start_lat</th>\n",
       "      <th>start_lon</th>\n",
       "      <th>end_lat</th>\n",
       "      <th>end_lon</th>\n",
       "      <th>bike_id</th>\n",
       "      <th>plan_duration</th>\n",
       "      <th>trip_route_category</th>\n",
       "      <th>passholder_type</th>\n",
       "      <th>start_station</th>\n",
       "      <th>end_station</th>\n",
       "    </tr>\n",
       "  </thead>\n",
       "  <tbody>\n",
       "    <tr>\n",
       "      <th>24398</th>\n",
       "      <td>132008969</td>\n",
       "      <td>1</td>\n",
       "      <td>2019-11-03 11:56:52</td>\n",
       "      <td>2019-11-03 11:57:16</td>\n",
       "      <td>33.984928</td>\n",
       "      <td>-118.469963</td>\n",
       "      <td>33.984928</td>\n",
       "      <td>-118.469963</td>\n",
       "      <td>15483</td>\n",
       "      <td>999.0</td>\n",
       "      <td>Round Trip</td>\n",
       "      <td>Testing</td>\n",
       "      <td>4347</td>\n",
       "      <td>4347</td>\n",
       "    </tr>\n",
       "    <tr>\n",
       "      <th>48251</th>\n",
       "      <td>129898045</td>\n",
       "      <td>18</td>\n",
       "      <td>2019-09-28 10:53:00</td>\n",
       "      <td>2019-09-28 11:11:00</td>\n",
       "      <td>34.150688</td>\n",
       "      <td>-118.366127</td>\n",
       "      <td>34.152000</td>\n",
       "      <td>-118.350601</td>\n",
       "      <td>15850</td>\n",
       "      <td>999.0</td>\n",
       "      <td>One Way</td>\n",
       "      <td>Testing</td>\n",
       "      <td>4418</td>\n",
       "      <td>4425</td>\n",
       "    </tr>\n",
       "    <tr>\n",
       "      <th>62890</th>\n",
       "      <td>129538183</td>\n",
       "      <td>33</td>\n",
       "      <td>2019-09-22 10:02:00</td>\n",
       "      <td>2019-09-22 10:35:00</td>\n",
       "      <td>33.997231</td>\n",
       "      <td>-118.445969</td>\n",
       "      <td>33.997231</td>\n",
       "      <td>-118.445969</td>\n",
       "      <td>15114</td>\n",
       "      <td>999.0</td>\n",
       "      <td>Round Trip</td>\n",
       "      <td>Testing</td>\n",
       "      <td>4333</td>\n",
       "      <td>4333</td>\n",
       "    </tr>\n",
       "    <tr>\n",
       "      <th>78386</th>\n",
       "      <td>116990214</td>\n",
       "      <td>2</td>\n",
       "      <td>2019-03-08 12:50:00</td>\n",
       "      <td>2019-03-08 12:52:00</td>\n",
       "      <td>34.025841</td>\n",
       "      <td>-118.238213</td>\n",
       "      <td>34.025841</td>\n",
       "      <td>-118.238213</td>\n",
       "      <td>15892</td>\n",
       "      <td>999.0</td>\n",
       "      <td>One Way</td>\n",
       "      <td>Testing</td>\n",
       "      <td>3000</td>\n",
       "      <td>3000</td>\n",
       "    </tr>\n",
       "    <tr>\n",
       "      <th>88559</th>\n",
       "      <td>133598990</td>\n",
       "      <td>9</td>\n",
       "      <td>2019-12-05 09:12:20</td>\n",
       "      <td>2019-12-05 09:21:51</td>\n",
       "      <td>33.994850</td>\n",
       "      <td>-118.417961</td>\n",
       "      <td>33.980789</td>\n",
       "      <td>-118.414902</td>\n",
       "      <td>15723</td>\n",
       "      <td>999.0</td>\n",
       "      <td>One Way</td>\n",
       "      <td>Testing</td>\n",
       "      <td>4460</td>\n",
       "      <td>4394</td>\n",
       "    </tr>\n",
       "    <tr>\n",
       "      <th>96508</th>\n",
       "      <td>116855271</td>\n",
       "      <td>1</td>\n",
       "      <td>2019-03-06 14:03:00</td>\n",
       "      <td>2019-03-06 14:04:00</td>\n",
       "      <td>34.025841</td>\n",
       "      <td>-118.238213</td>\n",
       "      <td>34.025841</td>\n",
       "      <td>-118.238213</td>\n",
       "      <td>16215</td>\n",
       "      <td>999.0</td>\n",
       "      <td>Round Trip</td>\n",
       "      <td>Testing</td>\n",
       "      <td>3000</td>\n",
       "      <td>3000</td>\n",
       "    </tr>\n",
       "    <tr>\n",
       "      <th>106748</th>\n",
       "      <td>116856954</td>\n",
       "      <td>1</td>\n",
       "      <td>2019-03-06 14:36:00</td>\n",
       "      <td>2019-03-06 14:37:00</td>\n",
       "      <td>34.025841</td>\n",
       "      <td>-118.238213</td>\n",
       "      <td>34.025841</td>\n",
       "      <td>-118.238213</td>\n",
       "      <td>16215</td>\n",
       "      <td>999.0</td>\n",
       "      <td>Round Trip</td>\n",
       "      <td>Testing</td>\n",
       "      <td>3000</td>\n",
       "      <td>3000</td>\n",
       "    </tr>\n",
       "    <tr>\n",
       "      <th>137983</th>\n",
       "      <td>116856473</td>\n",
       "      <td>1</td>\n",
       "      <td>2019-03-06 14:27:00</td>\n",
       "      <td>2019-03-06 14:28:00</td>\n",
       "      <td>34.025841</td>\n",
       "      <td>-118.238213</td>\n",
       "      <td>34.025841</td>\n",
       "      <td>-118.238213</td>\n",
       "      <td>16215</td>\n",
       "      <td>999.0</td>\n",
       "      <td>Round Trip</td>\n",
       "      <td>Testing</td>\n",
       "      <td>3000</td>\n",
       "      <td>3000</td>\n",
       "    </tr>\n",
       "    <tr>\n",
       "      <th>140456</th>\n",
       "      <td>127268537</td>\n",
       "      <td>39</td>\n",
       "      <td>2019-08-14 15:15:00</td>\n",
       "      <td>2019-08-14 15:54:00</td>\n",
       "      <td>33.995560</td>\n",
       "      <td>-118.481552</td>\n",
       "      <td>34.014309</td>\n",
       "      <td>-118.491341</td>\n",
       "      <td>15969</td>\n",
       "      <td>999.0</td>\n",
       "      <td>One Way</td>\n",
       "      <td>Testing</td>\n",
       "      <td>4345</td>\n",
       "      <td>4344</td>\n",
       "    </tr>\n",
       "    <tr>\n",
       "      <th>144667</th>\n",
       "      <td>142601654</td>\n",
       "      <td>10</td>\n",
       "      <td>2020-05-26 19:42:00</td>\n",
       "      <td>2020-05-26 19:52:00</td>\n",
       "      <td>33.984341</td>\n",
       "      <td>-118.471550</td>\n",
       "      <td>33.984341</td>\n",
       "      <td>-118.471550</td>\n",
       "      <td>15964</td>\n",
       "      <td>999.0</td>\n",
       "      <td>Round Trip</td>\n",
       "      <td>Testing</td>\n",
       "      <td>4346</td>\n",
       "      <td>4346</td>\n",
       "    </tr>\n",
       "    <tr>\n",
       "      <th>153687</th>\n",
       "      <td>138572793</td>\n",
       "      <td>1</td>\n",
       "      <td>2020-03-03 12:43:00</td>\n",
       "      <td>2020-03-03 12:44:00</td>\n",
       "      <td>34.014309</td>\n",
       "      <td>-118.491341</td>\n",
       "      <td>34.014309</td>\n",
       "      <td>-118.491341</td>\n",
       "      <td>15952</td>\n",
       "      <td>999.0</td>\n",
       "      <td>Round Trip</td>\n",
       "      <td>Testing</td>\n",
       "      <td>4344</td>\n",
       "      <td>4344</td>\n",
       "    </tr>\n",
       "    <tr>\n",
       "      <th>158701</th>\n",
       "      <td>131548279</td>\n",
       "      <td>16</td>\n",
       "      <td>2019-10-26 15:32:09</td>\n",
       "      <td>2019-10-26 15:48:03</td>\n",
       "      <td>34.022449</td>\n",
       "      <td>-118.438332</td>\n",
       "      <td>34.017681</td>\n",
       "      <td>-118.409081</td>\n",
       "      <td>15125</td>\n",
       "      <td>999.0</td>\n",
       "      <td>One Way</td>\n",
       "      <td>Testing</td>\n",
       "      <td>4336</td>\n",
       "      <td>4354</td>\n",
       "    </tr>\n",
       "    <tr>\n",
       "      <th>172636</th>\n",
       "      <td>129187188</td>\n",
       "      <td>1</td>\n",
       "      <td>2019-09-16 08:59:00</td>\n",
       "      <td>2019-09-16 09:00:00</td>\n",
       "      <td>33.995560</td>\n",
       "      <td>-118.481552</td>\n",
       "      <td>33.995560</td>\n",
       "      <td>-118.481552</td>\n",
       "      <td>15534</td>\n",
       "      <td>999.0</td>\n",
       "      <td>Round Trip</td>\n",
       "      <td>Testing</td>\n",
       "      <td>4345</td>\n",
       "      <td>4345</td>\n",
       "    </tr>\n",
       "    <tr>\n",
       "      <th>196330</th>\n",
       "      <td>128904309</td>\n",
       "      <td>1</td>\n",
       "      <td>2019-09-11 13:06:00</td>\n",
       "      <td>2019-09-11 13:07:00</td>\n",
       "      <td>33.995560</td>\n",
       "      <td>-118.481552</td>\n",
       "      <td>33.995560</td>\n",
       "      <td>-118.481552</td>\n",
       "      <td>16054</td>\n",
       "      <td>999.0</td>\n",
       "      <td>Round Trip</td>\n",
       "      <td>Testing</td>\n",
       "      <td>4345</td>\n",
       "      <td>4345</td>\n",
       "    </tr>\n",
       "    <tr>\n",
       "      <th>203955</th>\n",
       "      <td>122355890</td>\n",
       "      <td>2</td>\n",
       "      <td>2019-05-27 18:24:00</td>\n",
       "      <td>2019-05-27 18:26:00</td>\n",
       "      <td>34.022518</td>\n",
       "      <td>-118.400589</td>\n",
       "      <td>34.022518</td>\n",
       "      <td>-118.400589</td>\n",
       "      <td>16222</td>\n",
       "      <td>999.0</td>\n",
       "      <td>Round Trip</td>\n",
       "      <td>Testing</td>\n",
       "      <td>4325</td>\n",
       "      <td>4325</td>\n",
       "    </tr>\n",
       "    <tr>\n",
       "      <th>205413</th>\n",
       "      <td>124294080</td>\n",
       "      <td>2</td>\n",
       "      <td>2019-06-25 18:43:00</td>\n",
       "      <td>2019-06-25 18:45:00</td>\n",
       "      <td>34.017368</td>\n",
       "      <td>-118.420601</td>\n",
       "      <td>34.017368</td>\n",
       "      <td>-118.420601</td>\n",
       "      <td>15735</td>\n",
       "      <td>999.0</td>\n",
       "      <td>Round Trip</td>\n",
       "      <td>Testing</td>\n",
       "      <td>4379</td>\n",
       "      <td>4379</td>\n",
       "    </tr>\n",
       "    <tr>\n",
       "      <th>213246</th>\n",
       "      <td>119683632</td>\n",
       "      <td>2</td>\n",
       "      <td>2019-04-17 10:12:00</td>\n",
       "      <td>2019-04-17 10:14:00</td>\n",
       "      <td>34.030460</td>\n",
       "      <td>-118.389099</td>\n",
       "      <td>34.030460</td>\n",
       "      <td>-118.389099</td>\n",
       "      <td>15632</td>\n",
       "      <td>999.0</td>\n",
       "      <td>Round Trip</td>\n",
       "      <td>Testing</td>\n",
       "      <td>4363</td>\n",
       "      <td>4363</td>\n",
       "    </tr>\n",
       "    <tr>\n",
       "      <th>234186</th>\n",
       "      <td>119823134</td>\n",
       "      <td>1</td>\n",
       "      <td>2019-04-19 11:26:00</td>\n",
       "      <td>2019-04-19 11:27:00</td>\n",
       "      <td>34.027882</td>\n",
       "      <td>-118.388901</td>\n",
       "      <td>34.027882</td>\n",
       "      <td>-118.388901</td>\n",
       "      <td>15868</td>\n",
       "      <td>999.0</td>\n",
       "      <td>Round Trip</td>\n",
       "      <td>Testing</td>\n",
       "      <td>4372</td>\n",
       "      <td>4372</td>\n",
       "    </tr>\n",
       "    <tr>\n",
       "      <th>238453</th>\n",
       "      <td>139133109</td>\n",
       "      <td>2</td>\n",
       "      <td>2020-03-11 17:03:00</td>\n",
       "      <td>2020-03-11 17:05:00</td>\n",
       "      <td>33.984341</td>\n",
       "      <td>-118.471550</td>\n",
       "      <td>33.984341</td>\n",
       "      <td>-118.471550</td>\n",
       "      <td>15977</td>\n",
       "      <td>999.0</td>\n",
       "      <td>Round Trip</td>\n",
       "      <td>Testing</td>\n",
       "      <td>4346</td>\n",
       "      <td>4346</td>\n",
       "    </tr>\n",
       "    <tr>\n",
       "      <th>253385</th>\n",
       "      <td>132526873</td>\n",
       "      <td>6</td>\n",
       "      <td>2019-11-12 09:52:53</td>\n",
       "      <td>2019-11-12 09:58:07</td>\n",
       "      <td>34.101891</td>\n",
       "      <td>-118.300613</td>\n",
       "      <td>34.102329</td>\n",
       "      <td>-118.287460</td>\n",
       "      <td>06557</td>\n",
       "      <td>999.0</td>\n",
       "      <td>One Way</td>\n",
       "      <td>Testing</td>\n",
       "      <td>4406</td>\n",
       "      <td>4452</td>\n",
       "    </tr>\n",
       "    <tr>\n",
       "      <th>287189</th>\n",
       "      <td>131235011</td>\n",
       "      <td>20</td>\n",
       "      <td>2019-10-21 09:01:14</td>\n",
       "      <td>2019-10-21 09:22:00</td>\n",
       "      <td>33.999580</td>\n",
       "      <td>-118.441360</td>\n",
       "      <td>33.984928</td>\n",
       "      <td>-118.469963</td>\n",
       "      <td>15093</td>\n",
       "      <td>999.0</td>\n",
       "      <td>One Way</td>\n",
       "      <td>Testing</td>\n",
       "      <td>4323</td>\n",
       "      <td>4347</td>\n",
       "    </tr>\n",
       "    <tr>\n",
       "      <th>288773</th>\n",
       "      <td>129664677</td>\n",
       "      <td>44</td>\n",
       "      <td>2019-09-24 12:24:00</td>\n",
       "      <td>2019-09-24 13:08:00</td>\n",
       "      <td>33.988129</td>\n",
       "      <td>-118.471741</td>\n",
       "      <td>33.995560</td>\n",
       "      <td>-118.481552</td>\n",
       "      <td>15246</td>\n",
       "      <td>999.0</td>\n",
       "      <td>One Way</td>\n",
       "      <td>Testing</td>\n",
       "      <td>4353</td>\n",
       "      <td>4345</td>\n",
       "    </tr>\n",
       "    <tr>\n",
       "      <th>300459</th>\n",
       "      <td>119901570</td>\n",
       "      <td>1</td>\n",
       "      <td>2019-04-20 15:22:00</td>\n",
       "      <td>2019-04-20 15:23:00</td>\n",
       "      <td>34.023392</td>\n",
       "      <td>-118.399223</td>\n",
       "      <td>34.023392</td>\n",
       "      <td>-118.399223</td>\n",
       "      <td>15159</td>\n",
       "      <td>999.0</td>\n",
       "      <td>Round Trip</td>\n",
       "      <td>Testing</td>\n",
       "      <td>4335</td>\n",
       "      <td>4335</td>\n",
       "    </tr>\n",
       "    <tr>\n",
       "      <th>308635</th>\n",
       "      <td>128482476</td>\n",
       "      <td>24</td>\n",
       "      <td>2019-09-04 09:40:00</td>\n",
       "      <td>2019-09-04 10:04:00</td>\n",
       "      <td>34.025688</td>\n",
       "      <td>-118.395302</td>\n",
       "      <td>34.025688</td>\n",
       "      <td>-118.395302</td>\n",
       "      <td>15870</td>\n",
       "      <td>999.0</td>\n",
       "      <td>Round Trip</td>\n",
       "      <td>Testing</td>\n",
       "      <td>4330</td>\n",
       "      <td>4330</td>\n",
       "    </tr>\n",
       "    <tr>\n",
       "      <th>323471</th>\n",
       "      <td>126388295</td>\n",
       "      <td>5</td>\n",
       "      <td>2019-07-30 14:33:00</td>\n",
       "      <td>2019-07-30 14:38:00</td>\n",
       "      <td>33.984341</td>\n",
       "      <td>-118.471550</td>\n",
       "      <td>33.984341</td>\n",
       "      <td>-118.471550</td>\n",
       "      <td>15868</td>\n",
       "      <td>999.0</td>\n",
       "      <td>Round Trip</td>\n",
       "      <td>Testing</td>\n",
       "      <td>4346</td>\n",
       "      <td>4346</td>\n",
       "    </tr>\n",
       "    <tr>\n",
       "      <th>367363</th>\n",
       "      <td>128207934</td>\n",
       "      <td>1</td>\n",
       "      <td>2019-08-30 16:37:00</td>\n",
       "      <td>2019-08-30 16:38:00</td>\n",
       "      <td>34.000881</td>\n",
       "      <td>-118.468910</td>\n",
       "      <td>34.000881</td>\n",
       "      <td>-118.468910</td>\n",
       "      <td>15354</td>\n",
       "      <td>999.0</td>\n",
       "      <td>Round Trip</td>\n",
       "      <td>Testing</td>\n",
       "      <td>4348</td>\n",
       "      <td>4348</td>\n",
       "    </tr>\n",
       "    <tr>\n",
       "      <th>381958</th>\n",
       "      <td>136754204</td>\n",
       "      <td>13</td>\n",
       "      <td>2020-02-03 08:21:00</td>\n",
       "      <td>2020-02-03 08:34:00</td>\n",
       "      <td>33.990971</td>\n",
       "      <td>-118.421127</td>\n",
       "      <td>34.003510</td>\n",
       "      <td>-118.434380</td>\n",
       "      <td>16128</td>\n",
       "      <td>999.0</td>\n",
       "      <td>One Way</td>\n",
       "      <td>Testing</td>\n",
       "      <td>4458</td>\n",
       "      <td>4331</td>\n",
       "    </tr>\n",
       "    <tr>\n",
       "      <th>382320</th>\n",
       "      <td>142601645</td>\n",
       "      <td>3</td>\n",
       "      <td>2020-05-26 19:53:00</td>\n",
       "      <td>2020-05-26 19:56:00</td>\n",
       "      <td>33.984341</td>\n",
       "      <td>-118.471550</td>\n",
       "      <td>33.984341</td>\n",
       "      <td>-118.471550</td>\n",
       "      <td>15370</td>\n",
       "      <td>999.0</td>\n",
       "      <td>Round Trip</td>\n",
       "      <td>Testing</td>\n",
       "      <td>4346</td>\n",
       "      <td>4346</td>\n",
       "    </tr>\n",
       "    <tr>\n",
       "      <th>389946</th>\n",
       "      <td>144470316</td>\n",
       "      <td>5</td>\n",
       "      <td>2020-07-05 13:40:00</td>\n",
       "      <td>2020-07-05 13:45:00</td>\n",
       "      <td>34.165218</td>\n",
       "      <td>-118.355148</td>\n",
       "      <td>34.025841</td>\n",
       "      <td>-118.238213</td>\n",
       "      <td>16251</td>\n",
       "      <td>999.0</td>\n",
       "      <td>One Way</td>\n",
       "      <td>Testing</td>\n",
       "      <td>4419</td>\n",
       "      <td>3000</td>\n",
       "    </tr>\n",
       "    <tr>\n",
       "      <th>390364</th>\n",
       "      <td>129536185</td>\n",
       "      <td>1</td>\n",
       "      <td>2019-09-22 09:55:00</td>\n",
       "      <td>2019-09-22 09:56:00</td>\n",
       "      <td>33.997231</td>\n",
       "      <td>-118.445969</td>\n",
       "      <td>34.025841</td>\n",
       "      <td>-118.238213</td>\n",
       "      <td>16035</td>\n",
       "      <td>999.0</td>\n",
       "      <td>One Way</td>\n",
       "      <td>Testing</td>\n",
       "      <td>4333</td>\n",
       "      <td>3000</td>\n",
       "    </tr>\n",
       "    <tr>\n",
       "      <th>394759</th>\n",
       "      <td>133501988</td>\n",
       "      <td>8</td>\n",
       "      <td>2019-12-03 10:06:24</td>\n",
       "      <td>2019-12-03 10:14:30</td>\n",
       "      <td>33.980789</td>\n",
       "      <td>-118.414902</td>\n",
       "      <td>33.980789</td>\n",
       "      <td>-118.414902</td>\n",
       "      <td>15809</td>\n",
       "      <td>999.0</td>\n",
       "      <td>Round Trip</td>\n",
       "      <td>Testing</td>\n",
       "      <td>4394</td>\n",
       "      <td>4394</td>\n",
       "    </tr>\n",
       "    <tr>\n",
       "      <th>415643</th>\n",
       "      <td>165499850</td>\n",
       "      <td>16</td>\n",
       "      <td>2021-07-03 23:00:00</td>\n",
       "      <td>2021-07-03 23:16:00</td>\n",
       "      <td>34.039982</td>\n",
       "      <td>-118.266403</td>\n",
       "      <td>34.046520</td>\n",
       "      <td>-118.237411</td>\n",
       "      <td>12009</td>\n",
       "      <td>999.0</td>\n",
       "      <td>One Way</td>\n",
       "      <td>Testing</td>\n",
       "      <td>3047</td>\n",
       "      <td>3082</td>\n",
       "    </tr>\n",
       "    <tr>\n",
       "      <th>440253</th>\n",
       "      <td>119626786</td>\n",
       "      <td>1</td>\n",
       "      <td>2019-04-16 14:23:00</td>\n",
       "      <td>2019-04-16 14:24:00</td>\n",
       "      <td>34.025841</td>\n",
       "      <td>-118.238213</td>\n",
       "      <td>34.030460</td>\n",
       "      <td>-118.389099</td>\n",
       "      <td>15238</td>\n",
       "      <td>999.0</td>\n",
       "      <td>One Way</td>\n",
       "      <td>Testing</td>\n",
       "      <td>3000</td>\n",
       "      <td>4363</td>\n",
       "    </tr>\n",
       "    <tr>\n",
       "      <th>471193</th>\n",
       "      <td>119823136</td>\n",
       "      <td>1</td>\n",
       "      <td>2019-04-19 11:25:00</td>\n",
       "      <td>2019-04-19 11:26:00</td>\n",
       "      <td>34.027882</td>\n",
       "      <td>-118.388901</td>\n",
       "      <td>34.027882</td>\n",
       "      <td>-118.388901</td>\n",
       "      <td>15741</td>\n",
       "      <td>999.0</td>\n",
       "      <td>Round Trip</td>\n",
       "      <td>Testing</td>\n",
       "      <td>4372</td>\n",
       "      <td>4372</td>\n",
       "    </tr>\n",
       "    <tr>\n",
       "      <th>485027</th>\n",
       "      <td>143167138</td>\n",
       "      <td>20</td>\n",
       "      <td>2020-06-07 10:37:00</td>\n",
       "      <td>2020-06-07 10:57:00</td>\n",
       "      <td>33.969730</td>\n",
       "      <td>-118.463333</td>\n",
       "      <td>34.025841</td>\n",
       "      <td>-118.238213</td>\n",
       "      <td>16146</td>\n",
       "      <td>999.0</td>\n",
       "      <td>One Way</td>\n",
       "      <td>Testing</td>\n",
       "      <td>4505</td>\n",
       "      <td>3000</td>\n",
       "    </tr>\n",
       "    <tr>\n",
       "      <th>507592</th>\n",
       "      <td>129099962</td>\n",
       "      <td>4</td>\n",
       "      <td>2019-09-14 20:08:00</td>\n",
       "      <td>2019-09-14 20:12:00</td>\n",
       "      <td>33.996239</td>\n",
       "      <td>-118.477448</td>\n",
       "      <td>33.996239</td>\n",
       "      <td>-118.477448</td>\n",
       "      <td>15706</td>\n",
       "      <td>999.0</td>\n",
       "      <td>Round Trip</td>\n",
       "      <td>Testing</td>\n",
       "      <td>4349</td>\n",
       "      <td>4349</td>\n",
       "    </tr>\n",
       "    <tr>\n",
       "      <th>507891</th>\n",
       "      <td>116856472</td>\n",
       "      <td>1</td>\n",
       "      <td>2019-03-06 14:28:00</td>\n",
       "      <td>2019-03-06 14:29:00</td>\n",
       "      <td>34.025841</td>\n",
       "      <td>-118.238213</td>\n",
       "      <td>34.025841</td>\n",
       "      <td>-118.238213</td>\n",
       "      <td>16215</td>\n",
       "      <td>999.0</td>\n",
       "      <td>Round Trip</td>\n",
       "      <td>Testing</td>\n",
       "      <td>3000</td>\n",
       "      <td>3000</td>\n",
       "    </tr>\n",
       "    <tr>\n",
       "      <th>511946</th>\n",
       "      <td>129536632</td>\n",
       "      <td>4</td>\n",
       "      <td>2019-09-22 09:57:00</td>\n",
       "      <td>2019-09-22 10:01:00</td>\n",
       "      <td>33.997231</td>\n",
       "      <td>-118.445969</td>\n",
       "      <td>33.997231</td>\n",
       "      <td>-118.445969</td>\n",
       "      <td>15076</td>\n",
       "      <td>999.0</td>\n",
       "      <td>Round Trip</td>\n",
       "      <td>Testing</td>\n",
       "      <td>4333</td>\n",
       "      <td>4333</td>\n",
       "    </tr>\n",
       "    <tr>\n",
       "      <th>516998</th>\n",
       "      <td>128481094</td>\n",
       "      <td>24</td>\n",
       "      <td>2019-09-04 09:14:00</td>\n",
       "      <td>2019-09-04 09:38:00</td>\n",
       "      <td>34.025688</td>\n",
       "      <td>-118.395302</td>\n",
       "      <td>34.025688</td>\n",
       "      <td>-118.395302</td>\n",
       "      <td>16237</td>\n",
       "      <td>999.0</td>\n",
       "      <td>Round Trip</td>\n",
       "      <td>Testing</td>\n",
       "      <td>4330</td>\n",
       "      <td>4330</td>\n",
       "    </tr>\n",
       "    <tr>\n",
       "      <th>540365</th>\n",
       "      <td>135480650</td>\n",
       "      <td>82</td>\n",
       "      <td>2020-01-11 10:57:00</td>\n",
       "      <td>2020-01-11 12:19:00</td>\n",
       "      <td>33.984341</td>\n",
       "      <td>-118.471550</td>\n",
       "      <td>33.984341</td>\n",
       "      <td>-118.471550</td>\n",
       "      <td>16047</td>\n",
       "      <td>999.0</td>\n",
       "      <td>Round Trip</td>\n",
       "      <td>Testing</td>\n",
       "      <td>4346</td>\n",
       "      <td>4346</td>\n",
       "    </tr>\n",
       "    <tr>\n",
       "      <th>548201</th>\n",
       "      <td>133555593</td>\n",
       "      <td>19</td>\n",
       "      <td>2019-12-04 12:57:34</td>\n",
       "      <td>2019-12-04 13:16:53</td>\n",
       "      <td>33.976189</td>\n",
       "      <td>-118.418419</td>\n",
       "      <td>33.985611</td>\n",
       "      <td>-118.425438</td>\n",
       "      <td>16095</td>\n",
       "      <td>999.0</td>\n",
       "      <td>One Way</td>\n",
       "      <td>Testing</td>\n",
       "      <td>4470</td>\n",
       "      <td>4459</td>\n",
       "    </tr>\n",
       "    <tr>\n",
       "      <th>548864</th>\n",
       "      <td>143804716</td>\n",
       "      <td>1</td>\n",
       "      <td>2020-06-20 13:58:00</td>\n",
       "      <td>2020-06-20 13:59:00</td>\n",
       "      <td>33.970242</td>\n",
       "      <td>-118.426071</td>\n",
       "      <td>34.025841</td>\n",
       "      <td>-118.238213</td>\n",
       "      <td>16061</td>\n",
       "      <td>999.0</td>\n",
       "      <td>One Way</td>\n",
       "      <td>Testing</td>\n",
       "      <td>4469</td>\n",
       "      <td>3000</td>\n",
       "    </tr>\n",
       "    <tr>\n",
       "      <th>550364</th>\n",
       "      <td>135644106</td>\n",
       "      <td>25</td>\n",
       "      <td>2020-01-14 10:56:00</td>\n",
       "      <td>2020-01-14 11:21:00</td>\n",
       "      <td>33.990971</td>\n",
       "      <td>-118.421127</td>\n",
       "      <td>33.996239</td>\n",
       "      <td>-118.477448</td>\n",
       "      <td>15923</td>\n",
       "      <td>999.0</td>\n",
       "      <td>One Way</td>\n",
       "      <td>Testing</td>\n",
       "      <td>4458</td>\n",
       "      <td>4349</td>\n",
       "    </tr>\n",
       "    <tr>\n",
       "      <th>553304</th>\n",
       "      <td>128724002</td>\n",
       "      <td>66</td>\n",
       "      <td>2019-09-08 11:07:00</td>\n",
       "      <td>2019-09-08 12:13:00</td>\n",
       "      <td>33.984341</td>\n",
       "      <td>-118.471550</td>\n",
       "      <td>33.991161</td>\n",
       "      <td>-118.468292</td>\n",
       "      <td>15758</td>\n",
       "      <td>999.0</td>\n",
       "      <td>One Way</td>\n",
       "      <td>Testing</td>\n",
       "      <td>4346</td>\n",
       "      <td>4342</td>\n",
       "    </tr>\n",
       "    <tr>\n",
       "      <th>562804</th>\n",
       "      <td>126388082</td>\n",
       "      <td>5</td>\n",
       "      <td>2019-07-30 14:26:00</td>\n",
       "      <td>2019-07-30 14:31:00</td>\n",
       "      <td>33.984341</td>\n",
       "      <td>-118.471550</td>\n",
       "      <td>33.984341</td>\n",
       "      <td>-118.471550</td>\n",
       "      <td>15608</td>\n",
       "      <td>999.0</td>\n",
       "      <td>Round Trip</td>\n",
       "      <td>Testing</td>\n",
       "      <td>4346</td>\n",
       "      <td>4346</td>\n",
       "    </tr>\n",
       "    <tr>\n",
       "      <th>577201</th>\n",
       "      <td>142819116</td>\n",
       "      <td>1</td>\n",
       "      <td>2020-05-31 11:41:00</td>\n",
       "      <td>2020-05-31 11:42:00</td>\n",
       "      <td>34.063351</td>\n",
       "      <td>-118.296799</td>\n",
       "      <td>34.025841</td>\n",
       "      <td>-118.238213</td>\n",
       "      <td>16540</td>\n",
       "      <td>999.0</td>\n",
       "      <td>One Way</td>\n",
       "      <td>Testing</td>\n",
       "      <td>4410</td>\n",
       "      <td>3000</td>\n",
       "    </tr>\n",
       "    <tr>\n",
       "      <th>578803</th>\n",
       "      <td>131535454</td>\n",
       "      <td>60</td>\n",
       "      <td>2019-10-26 09:41:52</td>\n",
       "      <td>2019-10-26 10:41:52</td>\n",
       "      <td>34.152000</td>\n",
       "      <td>-118.350601</td>\n",
       "      <td>34.025841</td>\n",
       "      <td>-118.238213</td>\n",
       "      <td>16262</td>\n",
       "      <td>999.0</td>\n",
       "      <td>One Way</td>\n",
       "      <td>Testing</td>\n",
       "      <td>4425</td>\n",
       "      <td>3000</td>\n",
       "    </tr>\n",
       "    <tr>\n",
       "      <th>587178</th>\n",
       "      <td>120257395</td>\n",
       "      <td>1</td>\n",
       "      <td>2019-04-26 11:48:00</td>\n",
       "      <td>2019-04-26 11:49:00</td>\n",
       "      <td>34.029121</td>\n",
       "      <td>-118.403168</td>\n",
       "      <td>34.029121</td>\n",
       "      <td>-118.403168</td>\n",
       "      <td>15757</td>\n",
       "      <td>999.0</td>\n",
       "      <td>Round Trip</td>\n",
       "      <td>Testing</td>\n",
       "      <td>4329</td>\n",
       "      <td>4329</td>\n",
       "    </tr>\n",
       "    <tr>\n",
       "      <th>612562</th>\n",
       "      <td>126216447</td>\n",
       "      <td>7</td>\n",
       "      <td>2019-07-27 14:55:00</td>\n",
       "      <td>2019-07-27 15:02:00</td>\n",
       "      <td>34.025688</td>\n",
       "      <td>-118.395302</td>\n",
       "      <td>34.025688</td>\n",
       "      <td>-118.395302</td>\n",
       "      <td>15186</td>\n",
       "      <td>999.0</td>\n",
       "      <td>Round Trip</td>\n",
       "      <td>Testing</td>\n",
       "      <td>4330</td>\n",
       "      <td>4330</td>\n",
       "    </tr>\n",
       "    <tr>\n",
       "      <th>612805</th>\n",
       "      <td>139133096</td>\n",
       "      <td>5</td>\n",
       "      <td>2020-03-11 17:06:00</td>\n",
       "      <td>2020-03-11 17:11:00</td>\n",
       "      <td>33.984341</td>\n",
       "      <td>-118.471550</td>\n",
       "      <td>33.984341</td>\n",
       "      <td>-118.471550</td>\n",
       "      <td>16050</td>\n",
       "      <td>999.0</td>\n",
       "      <td>Round Trip</td>\n",
       "      <td>Testing</td>\n",
       "      <td>4346</td>\n",
       "      <td>4346</td>\n",
       "    </tr>\n",
       "    <tr>\n",
       "      <th>645829</th>\n",
       "      <td>141329793</td>\n",
       "      <td>3</td>\n",
       "      <td>2020-04-25 13:05:00</td>\n",
       "      <td>2020-04-25 13:08:00</td>\n",
       "      <td>33.989700</td>\n",
       "      <td>-118.448883</td>\n",
       "      <td>33.989700</td>\n",
       "      <td>-118.448883</td>\n",
       "      <td>16009</td>\n",
       "      <td>999.0</td>\n",
       "      <td>Round Trip</td>\n",
       "      <td>Testing</td>\n",
       "      <td>4503</td>\n",
       "      <td>4503</td>\n",
       "    </tr>\n",
       "    <tr>\n",
       "      <th>681559</th>\n",
       "      <td>124293864</td>\n",
       "      <td>1</td>\n",
       "      <td>2019-06-25 18:39:00</td>\n",
       "      <td>2019-06-25 18:40:00</td>\n",
       "      <td>34.017368</td>\n",
       "      <td>-118.420601</td>\n",
       "      <td>34.017368</td>\n",
       "      <td>-118.420601</td>\n",
       "      <td>15735</td>\n",
       "      <td>999.0</td>\n",
       "      <td>Round Trip</td>\n",
       "      <td>Testing</td>\n",
       "      <td>4379</td>\n",
       "      <td>4379</td>\n",
       "    </tr>\n",
       "    <tr>\n",
       "      <th>697611</th>\n",
       "      <td>126922873</td>\n",
       "      <td>1</td>\n",
       "      <td>2019-08-08 18:28:00</td>\n",
       "      <td>2019-08-08 18:29:00</td>\n",
       "      <td>33.995560</td>\n",
       "      <td>-118.481552</td>\n",
       "      <td>33.995560</td>\n",
       "      <td>-118.481552</td>\n",
       "      <td>16128</td>\n",
       "      <td>999.0</td>\n",
       "      <td>Round Trip</td>\n",
       "      <td>Testing</td>\n",
       "      <td>4345</td>\n",
       "      <td>4345</td>\n",
       "    </tr>\n",
       "  </tbody>\n",
       "</table>\n",
       "</div>"
      ],
      "text/plain": [
       "          trip_id  duration          start_time            end_time  \\\n",
       "24398   132008969         1 2019-11-03 11:56:52 2019-11-03 11:57:16   \n",
       "48251   129898045        18 2019-09-28 10:53:00 2019-09-28 11:11:00   \n",
       "62890   129538183        33 2019-09-22 10:02:00 2019-09-22 10:35:00   \n",
       "78386   116990214         2 2019-03-08 12:50:00 2019-03-08 12:52:00   \n",
       "88559   133598990         9 2019-12-05 09:12:20 2019-12-05 09:21:51   \n",
       "96508   116855271         1 2019-03-06 14:03:00 2019-03-06 14:04:00   \n",
       "106748  116856954         1 2019-03-06 14:36:00 2019-03-06 14:37:00   \n",
       "137983  116856473         1 2019-03-06 14:27:00 2019-03-06 14:28:00   \n",
       "140456  127268537        39 2019-08-14 15:15:00 2019-08-14 15:54:00   \n",
       "144667  142601654        10 2020-05-26 19:42:00 2020-05-26 19:52:00   \n",
       "153687  138572793         1 2020-03-03 12:43:00 2020-03-03 12:44:00   \n",
       "158701  131548279        16 2019-10-26 15:32:09 2019-10-26 15:48:03   \n",
       "172636  129187188         1 2019-09-16 08:59:00 2019-09-16 09:00:00   \n",
       "196330  128904309         1 2019-09-11 13:06:00 2019-09-11 13:07:00   \n",
       "203955  122355890         2 2019-05-27 18:24:00 2019-05-27 18:26:00   \n",
       "205413  124294080         2 2019-06-25 18:43:00 2019-06-25 18:45:00   \n",
       "213246  119683632         2 2019-04-17 10:12:00 2019-04-17 10:14:00   \n",
       "234186  119823134         1 2019-04-19 11:26:00 2019-04-19 11:27:00   \n",
       "238453  139133109         2 2020-03-11 17:03:00 2020-03-11 17:05:00   \n",
       "253385  132526873         6 2019-11-12 09:52:53 2019-11-12 09:58:07   \n",
       "287189  131235011        20 2019-10-21 09:01:14 2019-10-21 09:22:00   \n",
       "288773  129664677        44 2019-09-24 12:24:00 2019-09-24 13:08:00   \n",
       "300459  119901570         1 2019-04-20 15:22:00 2019-04-20 15:23:00   \n",
       "308635  128482476        24 2019-09-04 09:40:00 2019-09-04 10:04:00   \n",
       "323471  126388295         5 2019-07-30 14:33:00 2019-07-30 14:38:00   \n",
       "367363  128207934         1 2019-08-30 16:37:00 2019-08-30 16:38:00   \n",
       "381958  136754204        13 2020-02-03 08:21:00 2020-02-03 08:34:00   \n",
       "382320  142601645         3 2020-05-26 19:53:00 2020-05-26 19:56:00   \n",
       "389946  144470316         5 2020-07-05 13:40:00 2020-07-05 13:45:00   \n",
       "390364  129536185         1 2019-09-22 09:55:00 2019-09-22 09:56:00   \n",
       "394759  133501988         8 2019-12-03 10:06:24 2019-12-03 10:14:30   \n",
       "415643  165499850        16 2021-07-03 23:00:00 2021-07-03 23:16:00   \n",
       "440253  119626786         1 2019-04-16 14:23:00 2019-04-16 14:24:00   \n",
       "471193  119823136         1 2019-04-19 11:25:00 2019-04-19 11:26:00   \n",
       "485027  143167138        20 2020-06-07 10:37:00 2020-06-07 10:57:00   \n",
       "507592  129099962         4 2019-09-14 20:08:00 2019-09-14 20:12:00   \n",
       "507891  116856472         1 2019-03-06 14:28:00 2019-03-06 14:29:00   \n",
       "511946  129536632         4 2019-09-22 09:57:00 2019-09-22 10:01:00   \n",
       "516998  128481094        24 2019-09-04 09:14:00 2019-09-04 09:38:00   \n",
       "540365  135480650        82 2020-01-11 10:57:00 2020-01-11 12:19:00   \n",
       "548201  133555593        19 2019-12-04 12:57:34 2019-12-04 13:16:53   \n",
       "548864  143804716         1 2020-06-20 13:58:00 2020-06-20 13:59:00   \n",
       "550364  135644106        25 2020-01-14 10:56:00 2020-01-14 11:21:00   \n",
       "553304  128724002        66 2019-09-08 11:07:00 2019-09-08 12:13:00   \n",
       "562804  126388082         5 2019-07-30 14:26:00 2019-07-30 14:31:00   \n",
       "577201  142819116         1 2020-05-31 11:41:00 2020-05-31 11:42:00   \n",
       "578803  131535454        60 2019-10-26 09:41:52 2019-10-26 10:41:52   \n",
       "587178  120257395         1 2019-04-26 11:48:00 2019-04-26 11:49:00   \n",
       "612562  126216447         7 2019-07-27 14:55:00 2019-07-27 15:02:00   \n",
       "612805  139133096         5 2020-03-11 17:06:00 2020-03-11 17:11:00   \n",
       "645829  141329793         3 2020-04-25 13:05:00 2020-04-25 13:08:00   \n",
       "681559  124293864         1 2019-06-25 18:39:00 2019-06-25 18:40:00   \n",
       "697611  126922873         1 2019-08-08 18:28:00 2019-08-08 18:29:00   \n",
       "\n",
       "        start_lat   start_lon    end_lat     end_lon bike_id  plan_duration  \\\n",
       "24398   33.984928 -118.469963  33.984928 -118.469963   15483          999.0   \n",
       "48251   34.150688 -118.366127  34.152000 -118.350601   15850          999.0   \n",
       "62890   33.997231 -118.445969  33.997231 -118.445969   15114          999.0   \n",
       "78386   34.025841 -118.238213  34.025841 -118.238213   15892          999.0   \n",
       "88559   33.994850 -118.417961  33.980789 -118.414902   15723          999.0   \n",
       "96508   34.025841 -118.238213  34.025841 -118.238213   16215          999.0   \n",
       "106748  34.025841 -118.238213  34.025841 -118.238213   16215          999.0   \n",
       "137983  34.025841 -118.238213  34.025841 -118.238213   16215          999.0   \n",
       "140456  33.995560 -118.481552  34.014309 -118.491341   15969          999.0   \n",
       "144667  33.984341 -118.471550  33.984341 -118.471550   15964          999.0   \n",
       "153687  34.014309 -118.491341  34.014309 -118.491341   15952          999.0   \n",
       "158701  34.022449 -118.438332  34.017681 -118.409081   15125          999.0   \n",
       "172636  33.995560 -118.481552  33.995560 -118.481552   15534          999.0   \n",
       "196330  33.995560 -118.481552  33.995560 -118.481552   16054          999.0   \n",
       "203955  34.022518 -118.400589  34.022518 -118.400589   16222          999.0   \n",
       "205413  34.017368 -118.420601  34.017368 -118.420601   15735          999.0   \n",
       "213246  34.030460 -118.389099  34.030460 -118.389099   15632          999.0   \n",
       "234186  34.027882 -118.388901  34.027882 -118.388901   15868          999.0   \n",
       "238453  33.984341 -118.471550  33.984341 -118.471550   15977          999.0   \n",
       "253385  34.101891 -118.300613  34.102329 -118.287460   06557          999.0   \n",
       "287189  33.999580 -118.441360  33.984928 -118.469963   15093          999.0   \n",
       "288773  33.988129 -118.471741  33.995560 -118.481552   15246          999.0   \n",
       "300459  34.023392 -118.399223  34.023392 -118.399223   15159          999.0   \n",
       "308635  34.025688 -118.395302  34.025688 -118.395302   15870          999.0   \n",
       "323471  33.984341 -118.471550  33.984341 -118.471550   15868          999.0   \n",
       "367363  34.000881 -118.468910  34.000881 -118.468910   15354          999.0   \n",
       "381958  33.990971 -118.421127  34.003510 -118.434380   16128          999.0   \n",
       "382320  33.984341 -118.471550  33.984341 -118.471550   15370          999.0   \n",
       "389946  34.165218 -118.355148  34.025841 -118.238213   16251          999.0   \n",
       "390364  33.997231 -118.445969  34.025841 -118.238213   16035          999.0   \n",
       "394759  33.980789 -118.414902  33.980789 -118.414902   15809          999.0   \n",
       "415643  34.039982 -118.266403  34.046520 -118.237411   12009          999.0   \n",
       "440253  34.025841 -118.238213  34.030460 -118.389099   15238          999.0   \n",
       "471193  34.027882 -118.388901  34.027882 -118.388901   15741          999.0   \n",
       "485027  33.969730 -118.463333  34.025841 -118.238213   16146          999.0   \n",
       "507592  33.996239 -118.477448  33.996239 -118.477448   15706          999.0   \n",
       "507891  34.025841 -118.238213  34.025841 -118.238213   16215          999.0   \n",
       "511946  33.997231 -118.445969  33.997231 -118.445969   15076          999.0   \n",
       "516998  34.025688 -118.395302  34.025688 -118.395302   16237          999.0   \n",
       "540365  33.984341 -118.471550  33.984341 -118.471550   16047          999.0   \n",
       "548201  33.976189 -118.418419  33.985611 -118.425438   16095          999.0   \n",
       "548864  33.970242 -118.426071  34.025841 -118.238213   16061          999.0   \n",
       "550364  33.990971 -118.421127  33.996239 -118.477448   15923          999.0   \n",
       "553304  33.984341 -118.471550  33.991161 -118.468292   15758          999.0   \n",
       "562804  33.984341 -118.471550  33.984341 -118.471550   15608          999.0   \n",
       "577201  34.063351 -118.296799  34.025841 -118.238213   16540          999.0   \n",
       "578803  34.152000 -118.350601  34.025841 -118.238213   16262          999.0   \n",
       "587178  34.029121 -118.403168  34.029121 -118.403168   15757          999.0   \n",
       "612562  34.025688 -118.395302  34.025688 -118.395302   15186          999.0   \n",
       "612805  33.984341 -118.471550  33.984341 -118.471550   16050          999.0   \n",
       "645829  33.989700 -118.448883  33.989700 -118.448883   16009          999.0   \n",
       "681559  34.017368 -118.420601  34.017368 -118.420601   15735          999.0   \n",
       "697611  33.995560 -118.481552  33.995560 -118.481552   16128          999.0   \n",
       "\n",
       "       trip_route_category passholder_type  start_station  end_station  \n",
       "24398           Round Trip         Testing           4347         4347  \n",
       "48251              One Way         Testing           4418         4425  \n",
       "62890           Round Trip         Testing           4333         4333  \n",
       "78386              One Way         Testing           3000         3000  \n",
       "88559              One Way         Testing           4460         4394  \n",
       "96508           Round Trip         Testing           3000         3000  \n",
       "106748          Round Trip         Testing           3000         3000  \n",
       "137983          Round Trip         Testing           3000         3000  \n",
       "140456             One Way         Testing           4345         4344  \n",
       "144667          Round Trip         Testing           4346         4346  \n",
       "153687          Round Trip         Testing           4344         4344  \n",
       "158701             One Way         Testing           4336         4354  \n",
       "172636          Round Trip         Testing           4345         4345  \n",
       "196330          Round Trip         Testing           4345         4345  \n",
       "203955          Round Trip         Testing           4325         4325  \n",
       "205413          Round Trip         Testing           4379         4379  \n",
       "213246          Round Trip         Testing           4363         4363  \n",
       "234186          Round Trip         Testing           4372         4372  \n",
       "238453          Round Trip         Testing           4346         4346  \n",
       "253385             One Way         Testing           4406         4452  \n",
       "287189             One Way         Testing           4323         4347  \n",
       "288773             One Way         Testing           4353         4345  \n",
       "300459          Round Trip         Testing           4335         4335  \n",
       "308635          Round Trip         Testing           4330         4330  \n",
       "323471          Round Trip         Testing           4346         4346  \n",
       "367363          Round Trip         Testing           4348         4348  \n",
       "381958             One Way         Testing           4458         4331  \n",
       "382320          Round Trip         Testing           4346         4346  \n",
       "389946             One Way         Testing           4419         3000  \n",
       "390364             One Way         Testing           4333         3000  \n",
       "394759          Round Trip         Testing           4394         4394  \n",
       "415643             One Way         Testing           3047         3082  \n",
       "440253             One Way         Testing           3000         4363  \n",
       "471193          Round Trip         Testing           4372         4372  \n",
       "485027             One Way         Testing           4505         3000  \n",
       "507592          Round Trip         Testing           4349         4349  \n",
       "507891          Round Trip         Testing           3000         3000  \n",
       "511946          Round Trip         Testing           4333         4333  \n",
       "516998          Round Trip         Testing           4330         4330  \n",
       "540365          Round Trip         Testing           4346         4346  \n",
       "548201             One Way         Testing           4470         4459  \n",
       "548864             One Way         Testing           4469         3000  \n",
       "550364             One Way         Testing           4458         4349  \n",
       "553304             One Way         Testing           4346         4342  \n",
       "562804          Round Trip         Testing           4346         4346  \n",
       "577201             One Way         Testing           4410         3000  \n",
       "578803             One Way         Testing           4425         3000  \n",
       "587178          Round Trip         Testing           4329         4329  \n",
       "612562          Round Trip         Testing           4330         4330  \n",
       "612805          Round Trip         Testing           4346         4346  \n",
       "645829          Round Trip         Testing           4503         4503  \n",
       "681559          Round Trip         Testing           4379         4379  \n",
       "697611          Round Trip         Testing           4345         4345  "
      ]
     },
     "execution_count": 19,
     "metadata": {},
     "output_type": "execute_result"
    }
   ],
   "source": [
    "train[train.passholder_type == 'Testing']"
   ]
  },
  {
   "cell_type": "code",
   "execution_count": 20,
   "metadata": {},
   "outputs": [],
   "source": [
    "train = train[train.passholder_type != 'Testing']"
   ]
  },
  {
   "cell_type": "code",
   "execution_count": 21,
   "metadata": {},
   "outputs": [
    {
     "name": "stderr",
     "output_type": "stream",
     "text": [
      "/Users/aast/opt/anaconda3/envs/dl/lib/python3.7/site-packages/ipykernel_launcher.py:2: SettingWithCopyWarning:\n",
      "\n",
      "\n",
      "A value is trying to be set on a copy of a slice from a DataFrame.\n",
      "Try using .loc[row_indexer,col_indexer] = value instead\n",
      "\n",
      "See the caveats in the documentation: https://pandas.pydata.org/pandas-docs/stable/user_guide/indexing.html#returning-a-view-versus-a-copy\n",
      "\n",
      "/Users/aast/opt/anaconda3/envs/dl/lib/python3.7/site-packages/ipykernel_launcher.py:3: SettingWithCopyWarning:\n",
      "\n",
      "\n",
      "A value is trying to be set on a copy of a slice from a DataFrame.\n",
      "Try using .loc[row_indexer,col_indexer] = value instead\n",
      "\n",
      "See the caveats in the documentation: https://pandas.pydata.org/pandas-docs/stable/user_guide/indexing.html#returning-a-view-versus-a-copy\n",
      "\n",
      "/Users/aast/opt/anaconda3/envs/dl/lib/python3.7/site-packages/ipykernel_launcher.py:4: SettingWithCopyWarning:\n",
      "\n",
      "\n",
      "A value is trying to be set on a copy of a slice from a DataFrame.\n",
      "Try using .loc[row_indexer,col_indexer] = value instead\n",
      "\n",
      "See the caveats in the documentation: https://pandas.pydata.org/pandas-docs/stable/user_guide/indexing.html#returning-a-view-versus-a-copy\n",
      "\n",
      "/Users/aast/opt/anaconda3/envs/dl/lib/python3.7/site-packages/ipykernel_launcher.py:5: SettingWithCopyWarning:\n",
      "\n",
      "\n",
      "A value is trying to be set on a copy of a slice from a DataFrame.\n",
      "Try using .loc[row_indexer,col_indexer] = value instead\n",
      "\n",
      "See the caveats in the documentation: https://pandas.pydata.org/pandas-docs/stable/user_guide/indexing.html#returning-a-view-versus-a-copy\n",
      "\n",
      "/Users/aast/opt/anaconda3/envs/dl/lib/python3.7/site-packages/ipykernel_launcher.py:6: SettingWithCopyWarning:\n",
      "\n",
      "\n",
      "A value is trying to be set on a copy of a slice from a DataFrame.\n",
      "Try using .loc[row_indexer,col_indexer] = value instead\n",
      "\n",
      "See the caveats in the documentation: https://pandas.pydata.org/pandas-docs/stable/user_guide/indexing.html#returning-a-view-versus-a-copy\n",
      "\n",
      "/Users/aast/opt/anaconda3/envs/dl/lib/python3.7/site-packages/ipykernel_launcher.py:7: SettingWithCopyWarning:\n",
      "\n",
      "\n",
      "A value is trying to be set on a copy of a slice from a DataFrame.\n",
      "Try using .loc[row_indexer,col_indexer] = value instead\n",
      "\n",
      "See the caveats in the documentation: https://pandas.pydata.org/pandas-docs/stable/user_guide/indexing.html#returning-a-view-versus-a-copy\n",
      "\n",
      "/Users/aast/opt/anaconda3/envs/dl/lib/python3.7/site-packages/ipykernel_launcher.py:8: SettingWithCopyWarning:\n",
      "\n",
      "\n",
      "A value is trying to be set on a copy of a slice from a DataFrame.\n",
      "Try using .loc[row_indexer,col_indexer] = value instead\n",
      "\n",
      "See the caveats in the documentation: https://pandas.pydata.org/pandas-docs/stable/user_guide/indexing.html#returning-a-view-versus-a-copy\n",
      "\n",
      "/Users/aast/opt/anaconda3/envs/dl/lib/python3.7/site-packages/ipykernel_launcher.py:9: SettingWithCopyWarning:\n",
      "\n",
      "\n",
      "A value is trying to be set on a copy of a slice from a DataFrame.\n",
      "Try using .loc[row_indexer,col_indexer] = value instead\n",
      "\n",
      "See the caveats in the documentation: https://pandas.pydata.org/pandas-docs/stable/user_guide/indexing.html#returning-a-view-versus-a-copy\n",
      "\n",
      "/Users/aast/opt/anaconda3/envs/dl/lib/python3.7/site-packages/ipykernel_launcher.py:10: SettingWithCopyWarning:\n",
      "\n",
      "\n",
      "A value is trying to be set on a copy of a slice from a DataFrame.\n",
      "Try using .loc[row_indexer,col_indexer] = value instead\n",
      "\n",
      "See the caveats in the documentation: https://pandas.pydata.org/pandas-docs/stable/user_guide/indexing.html#returning-a-view-versus-a-copy\n",
      "\n"
     ]
    }
   ],
   "source": [
    "def expand_time(data: pd.DataFrame):\n",
    "    data['year'] = data['start_time'].dt.year\n",
    "    data['hour'] = data['start_time'].dt.hour\n",
    "    data['day'] = data['start_time'].dt.day\n",
    "    data['month'] = data['start_time'].dt.month\n",
    "    data['day_of_week'] = data['start_time'].dt.day_of_week\n",
    "    data['date'] = data['start_time'].dt.to_period('D')\n",
    "    data['hours'] = data['start_time'].dt.to_period('H')\n",
    "    data['start_hour'] = data['start_time'].dt.hour\n",
    "    data['end_hour'] = data['end_time'].dt.hour\n",
    "\n",
    "    return data\n",
    "\n",
    "train = expand_time(train)"
   ]
  },
  {
   "cell_type": "code",
   "execution_count": 22,
   "metadata": {},
   "outputs": [],
   "source": [
    "# Calcula distancias entre estaciones de inicio y fin\n",
    "\n",
    "def set_station_dist(data: pd.DataFrame):\n",
    "    def get_distance(row: pd.Series):\n",
    "        origin = (row['start_lat'], row['start_lon'])\n",
    "        dest = (row['end_lat'], row['end_lon'])\n",
    "\n",
    "        return distance.geodesic(origin, dest).meters\n",
    "\n",
    "\n",
    "    data['distance'] = data.apply(get_distance, axis=1)\n",
    "\n",
    "    return data\n",
    "\n",
    "cleaning_pipe.append(set_station_dist)\n",
    "\n",
    "train = set_station_dist(train)"
   ]
  },
  {
   "cell_type": "markdown",
   "metadata": {},
   "source": [
    "## 1.3 Observaciones"
   ]
  },
  {
   "cell_type": "code",
   "execution_count": null,
   "metadata": {},
   "outputs": [],
   "source": [
    "trips_by_start_station = train[['start_station', 'start_lon', 'start_lat']].value_counts().reset_index().rename(columns={0: 'count'})\n",
    "trips_by_end_station = train[['end_station', 'end_lon', 'end_lat']].value_counts().reset_index().rename(columns={0: 'count'})\n",
    "\n",
    "fig1 = px.scatter_geo(trips_by_start_station, lat='start_lat', lon='start_lon', size='count', projection=\"natural earth\", title='Cantidad de viajes por estación de inicio')\n",
    "fig1.update_geos(fitbounds=\"locations\")\n",
    "fig1.show()\n",
    "\n",
    "fig2 = px.scatter_geo(trips_by_end_station, lat='end_lat', lon='end_lon', size='count', color_discrete_sequence=['red'], projection=\"natural earth\", title='Cantidad de viajes por estación final')\n",
    "fig2.update_geos(fitbounds=\"locations\")\n",
    "fig2.show()"
   ]
  },
  {
   "cell_type": "code",
   "execution_count": null,
   "metadata": {},
   "outputs": [],
   "source": [
    "arrive_counts = train.value_counts(subset=['end_station', 'hour', 'day_of_week']).rename('arrive_count')\n",
    "leave_counts = train.value_counts(subset=['start_station', 'hour', 'day_of_week']).rename('leave_count')\n",
    "\n",
    "station_traffic = pd.concat([arrive_counts, leave_counts], axis=1).reset_index().rename(columns={'level_0': 'station'}).sort_values(by=['day_of_week', 'hour'])\n",
    "station_traffic['diff'] = station_traffic['arrive_count'] - station_traffic['leave_count']\n",
    "station_traffic_date_avg = station_traffic.groupby(by=['day_of_week', 'hour']).mean().reset_index()\n",
    "station_traffic_station_avg = station_traffic.groupby(by='station').mean().reset_index()\n",
    "station_traffic"
   ]
  },
  {
   "cell_type": "code",
   "execution_count": null,
   "metadata": {},
   "outputs": [],
   "source": [
    "fig1 = px.line(station_traffic_date_avg, color='day_of_week', x='hour', y='arrive_count', title='Cantidad de llegadas promedio por hora y día de la semana')\n",
    "fig1.show()\n",
    "fig2 = px.line(station_traffic_date_avg, color='day_of_week', x='hour', y='leave_count', title='Cantidad de salidas promedio por hora y día de la semana')\n",
    "fig2.show()\n",
    "fig3 = px.line(station_traffic_date_avg, color='day_of_week', x='hour', y='diff', title='Diferencia llegadas - salidas promedio por hora y día de la semana')\n",
    "fig3.show()"
   ]
  },
  {
   "cell_type": "code",
   "execution_count": null,
   "metadata": {},
   "outputs": [],
   "source": [
    "trip_by_pass = train[['distance', 'duration',  'passholder_type']].groupby(by=['passholder_type']).mean().reset_index()\n",
    "trip_by_pass\n",
    "\n",
    "fig = px.bar(trip_by_pass, x='passholder_type', y='distance', title='Distancia promedio de viaje por tipo de pase')\n",
    "fig.show()\n",
    "fig = px.bar(trip_by_pass, x='passholder_type', y='duration', title='Duración promedio de viaje por tipo de pase')\n",
    "fig.show()\n"
   ]
  },
  {
   "cell_type": "code",
   "execution_count": null,
   "metadata": {},
   "outputs": [],
   "source": [
    "px.box(train, x=\"passholder_type\", y=\"duration\")"
   ]
  },
  {
   "cell_type": "code",
   "execution_count": null,
   "metadata": {},
   "outputs": [],
   "source": [
    "px.box(train, x=\"passholder_type\", y=\"distance\")"
   ]
  },
  {
   "cell_type": "code",
   "execution_count": null,
   "metadata": {},
   "outputs": [],
   "source": [
    "trip_by_pass = train[['passholder_type', 'duration', 'distance']].groupby(by=['passholder_type']).mean()\n",
    "trip_by_pass"
   ]
  },
  {
   "cell_type": "code",
   "execution_count": null,
   "metadata": {},
   "outputs": [],
   "source": [
    "trips_by_station = train[['start_station', 'start_lon', 'start_lat', 'year']].value_counts().reset_index().rename(columns={0: 'count'}).sort_values(by=['year', 'count'])\n",
    "\n",
    "px.scatter_geo(trips_by_station, lat='start_lat', lon='start_lon', size='count', animation_frame='year')"
   ]
  },
  {
   "cell_type": "code",
   "execution_count": null,
   "metadata": {},
   "outputs": [],
   "source": [
    "trip_counts = train.value_counts(subset=['date', 'passholder_type']).reset_index().rename(columns={0: 'count'}).sort_values(by='date')\n",
    "\n",
    "px.line(x=trip_counts['date'].astype(str), y=trip_counts['count'], color=trip_counts['passholder_type'], title='Número de viajes diarios / tipo de pase')"
   ]
  },
  {
   "cell_type": "code",
   "execution_count": null,
   "metadata": {},
   "outputs": [],
   "source": [
    "trip_counts = train.value_counts(subset=['day_of_week', 'passholder_type']).reset_index().rename(columns={0: 'count'}).sort_values(by='day_of_week')\n",
    "\n",
    "px.line(x=trip_counts['day_of_week'].astype(str), y=trip_counts['count'], color=trip_counts['passholder_type'], title='Promedio de viajes en la semana (0 lunes, 6 Domingo) / tipo de pase')"
   ]
  },
  {
   "cell_type": "code",
   "execution_count": null,
   "metadata": {},
   "outputs": [],
   "source": [
    "trip_counts = train.value_counts(subset=['month', 'passholder_type']).reset_index().rename(columns={0: 'count'}).sort_values(by='month')\n",
    "\n",
    "px.line(x=trip_counts['month'].astype(str), y=trip_counts['count'], color=trip_counts['passholder_type'], title='Promedio de viajes mensuales / tipo de pase')"
   ]
  },
  {
   "cell_type": "code",
   "execution_count": null,
   "metadata": {},
   "outputs": [],
   "source": [
    "trip_counts = train.value_counts(subset=['year', 'passholder_type']).reset_index().rename(columns={0: 'count'}).sort_values(by='year')\n",
    "\n",
    "px.line(x=trip_counts['year'], y=trip_counts['count'], color=trip_counts['passholder_type'], markers=True, title='Número de viajes anuales / tipo de pase')"
   ]
  },
  {
   "cell_type": "code",
   "execution_count": null,
   "metadata": {},
   "outputs": [],
   "source": [
    "train.to_csv('processed.csv')"
   ]
  },
  {
   "cell_type": "markdown",
   "metadata": {},
   "source": [
    "## 2. Construcción de modelo"
   ]
  },
  {
   "cell_type": "code",
   "execution_count": 3,
   "metadata": {},
   "outputs": [
    {
     "name": "stderr",
     "output_type": "stream",
     "text": [
      "/tmp/ipykernel_21692/942935117.py:1: DtypeWarning: Columns (9) have mixed types. Specify dtype option on import or set low_memory=False.\n",
      "  train = pd.read_csv('processed.csv')\n"
     ]
    }
   ],
   "source": [
    "train = pd.read_csv('processed.csv')"
   ]
  },
  {
   "cell_type": "code",
   "execution_count": 4,
   "metadata": {},
   "outputs": [
    {
     "data": {
      "text/plain": [
       "Index(['Unnamed: 0', 'trip_id', 'duration', 'start_time', 'end_time',\n",
       "       'start_lat', 'start_lon', 'end_lat', 'end_lon', 'bike_id',\n",
       "       'plan_duration', 'trip_route_category', 'passholder_type',\n",
       "       'start_station', 'end_station', 'year', 'hour', 'day', 'month',\n",
       "       'day_of_week', 'date', 'hours', 'start_hour', 'end_hour', 'distance'],\n",
       "      dtype='object')"
      ]
     },
     "execution_count": 4,
     "metadata": {},
     "output_type": "execute_result"
    }
   ],
   "source": [
    "train.columns"
   ]
  },
  {
   "cell_type": "code",
   "execution_count": 5,
   "metadata": {},
   "outputs": [],
   "source": [
    "model_features = ['duration', 'trip_route_category', 'month', 'day_of_week', 'distance', 'start_hour', 'end_hour']\n",
    "categorical_features = ['trip_route_category', 'month', 'day_of_week']\n",
    "target_categories = train['passholder_type'].unique().tolist()\n",
    "target = 'passholder_type'\n",
    "\n",
    "train_set = train[model_features + [target]]"
   ]
  },
  {
   "cell_type": "code",
   "execution_count": 6,
   "metadata": {},
   "outputs": [
    {
     "name": "stderr",
     "output_type": "stream",
     "text": [
      "/tmp/ipykernel_21692/2541715898.py:1: SettingWithCopyWarning: \n",
      "A value is trying to be set on a copy of a slice from a DataFrame.\n",
      "Try using .loc[row_indexer,col_indexer] = value instead\n",
      "\n",
      "See the caveats in the documentation: https://pandas.pydata.org/pandas-docs/stable/user_guide/indexing.html#returning-a-view-versus-a-copy\n",
      "  train_set.loc[:, 'start_hour'] = np.sin(train_set.loc[:, 'start_hour'])\n",
      "/tmp/ipykernel_21692/2541715898.py:2: SettingWithCopyWarning: \n",
      "A value is trying to be set on a copy of a slice from a DataFrame.\n",
      "Try using .loc[row_indexer,col_indexer] = value instead\n",
      "\n",
      "See the caveats in the documentation: https://pandas.pydata.org/pandas-docs/stable/user_guide/indexing.html#returning-a-view-versus-a-copy\n",
      "  train_set.loc[:, 'end_hour'] = np.sin(train_set.loc[:, 'end_hour'])\n"
     ]
    }
   ],
   "source": [
    "train_set.loc[:, 'start_hour'] = np.sin(train_set.loc[:, 'start_hour'])\n",
    "train_set.loc[:, 'end_hour'] = np.sin(train_set.loc[:, 'end_hour'])"
   ]
  },
  {
   "cell_type": "code",
   "execution_count": null,
   "metadata": {},
   "outputs": [],
   "source": [
    "from sklearn.preprocessing import OneHotEncoder\n",
    "\n",
    "def encode_category(data: pd.DataFrame, col: str, label: str = None):\n",
    "    if label is None:\n",
    "        label = col\n",
    "    \n",
    "    encoder = OneHotEncoder(sparse=False)\n",
    "    col_encoded = encoder.fit_transform(data[[col]])\n",
    "    \n",
    "    feature_names = encoder.get_feature_names_out(input_features=[label])\n",
    "    col_encoded_df = pd.DataFrame(col_encoded, columns=feature_names)\n",
    "\n",
    "    return pd.concat([data.drop(columns=col).reset_index(drop=True), col_encoded_df.reset_index(drop=True)], axis=1)\n",
    "\n",
    "\n",
    "for category in categorical_features:\n",
    "    train_set = encode_category(train_set, category)\n",
    "\n",
    "train_set"
   ]
  },
  {
   "cell_type": "code",
   "execution_count": null,
   "metadata": {},
   "outputs": [],
   "source": [
    "raw_labels_numerical = train_set[target].map({cat: idx for idx, cat  in enumerate(target_categories)})\n",
    "    \n",
    "train_labels = tf.keras.utils.to_categorical(raw_labels_numerical.to_numpy(), len(target_categories), dtype=\"float32\")\n",
    "train_labels"
   ]
  },
  {
   "cell_type": "code",
   "execution_count": null,
   "metadata": {},
   "outputs": [],
   "source": [
    "train_features = train_set.drop(columns=target)"
   ]
  },
  {
   "cell_type": "code",
   "execution_count": 10,
   "metadata": {},
   "outputs": [],
   "source": [
    "# from sklearn.model_selection import train_test_split\n",
    "# \n",
    "# X_train, X_test, y_train, y_test = train_test_split(train_features, train_labels, test_size=0.33, random_state=42)"
   ]
  },
  {
   "cell_type": "code",
   "execution_count": null,
   "metadata": {},
   "outputs": [
    {
     "name": "stdout",
     "output_type": "stream",
     "text": [
      "WARNING:tensorflow:`period` argument is deprecated. Please use `save_freq` to specify the frequency in number of batches seen.\n"
     ]
    },
    {
     "name": "stderr",
     "output_type": "stream",
     "text": [
      "2022-12-05 18:55:33.799208: I tensorflow/core/platform/cpu_feature_guard.cc:193] This TensorFlow binary is optimized with oneAPI Deep Neural Network Library (oneDNN) to use the following CPU instructions in performance-critical operations:  SSE4.1 SSE4.2\n",
      "To enable them in other operations, rebuild TensorFlow with the appropriate compiler flags.\n",
      "2022-12-05 18:55:34.130410: W tensorflow/core/framework/cpu_allocator_impl.cc:82] Allocation of 9626280 exceeds 10% of free system memory.\n",
      "2022-12-05 18:55:34.772725: W tensorflow/core/framework/cpu_allocator_impl.cc:82] Allocation of 96262800 exceeds 10% of free system memory.\n",
      "2022-12-05 18:55:35.100129: W tensorflow/core/platform/profile_utils/cpu_utils.cc:118] Failed to find bogomips or clock in /proc/cpuinfo; cannot determine CPU frequency\n"
     ]
    },
    {
     "name": "stdout",
     "output_type": "stream",
     "text": [
      "Epoch 1/100\n",
      "15039/15042 [============================>.] - ETA: 0s - loss: 1.1369 - accuracy: 0.6465"
     ]
    },
    {
     "name": "stderr",
     "output_type": "stream",
     "text": [
      "2022-12-05 19:00:23.425699: W tensorflow/core/framework/cpu_allocator_impl.cc:82] Allocation of 24065800 exceeds 10% of free system memory.\n"
     ]
    },
    {
     "name": "stdout",
     "output_type": "stream",
     "text": [
      "\n",
      "Epoch 1: val_accuracy improved from -inf to 0.65919, saving model to nn.hdf5\n",
      "15042/15042 [==============================] - 321s 21ms/step - loss: 1.1368 - accuracy: 0.6465 - val_loss: 0.9439 - val_accuracy: 0.6592\n",
      "Epoch 2/100\n",
      "15042/15042 [==============================] - ETA: 0s - loss: 0.9130 - accuracy: 0.6676\n",
      "Epoch 2: val_accuracy improved from 0.65919 to 0.67175, saving model to nn.hdf5\n",
      "15042/15042 [==============================] - 322s 21ms/step - loss: 0.9130 - accuracy: 0.6676 - val_loss: 0.9066 - val_accuracy: 0.6717\n",
      "Epoch 3/100\n",
      "15041/15042 [============================>.] - ETA: 0s - loss: 0.9046 - accuracy: 0.6690\n",
      "Epoch 3: val_accuracy did not improve from 0.67175\n",
      "15042/15042 [==============================] - 320s 21ms/step - loss: 0.9046 - accuracy: 0.6690 - val_loss: 0.9014 - val_accuracy: 0.6716\n",
      "Epoch 4/100\n",
      "15039/15042 [============================>.] - ETA: 0s - loss: 0.9022 - accuracy: 0.6702\n",
      "Epoch 4: val_accuracy did not improve from 0.67175\n",
      "15042/15042 [==============================] - 322s 21ms/step - loss: 0.9022 - accuracy: 0.6702 - val_loss: 0.9013 - val_accuracy: 0.6713\n",
      "Epoch 5/100\n",
      "15041/15042 [============================>.] - ETA: 0s - loss: 0.9010 - accuracy: 0.6702\n",
      "Epoch 5: val_accuracy did not improve from 0.67175\n",
      "15042/15042 [==============================] - 322s 21ms/step - loss: 0.9010 - accuracy: 0.6702 - val_loss: 0.9008 - val_accuracy: 0.6697\n",
      "Epoch 6/100\n",
      "15040/15042 [============================>.] - ETA: 0s - loss: 0.9001 - accuracy: 0.6708\n",
      "Epoch 6: val_accuracy did not improve from 0.67175\n",
      "15042/15042 [==============================] - 322s 21ms/step - loss: 0.9000 - accuracy: 0.6708 - val_loss: 0.9016 - val_accuracy: 0.6711\n",
      "Epoch 7/100\n",
      "15040/15042 [============================>.] - ETA: 0s - loss: 0.8993 - accuracy: 0.6708\n",
      "Epoch 7: val_accuracy did not improve from 0.67175\n",
      "15042/15042 [==============================] - 323s 21ms/step - loss: 0.8993 - accuracy: 0.6708 - val_loss: 0.9000 - val_accuracy: 0.6705\n",
      "Epoch 8/100\n",
      "15039/15042 [============================>.] - ETA: 0s - loss: 0.8988 - accuracy: 0.6713\n",
      "Epoch 8: val_accuracy did not improve from 0.67175\n",
      "15042/15042 [==============================] - 323s 21ms/step - loss: 0.8988 - accuracy: 0.6713 - val_loss: 0.8999 - val_accuracy: 0.6711\n",
      "Epoch 9/100\n",
      "15040/15042 [============================>.] - ETA: 0s - loss: 0.8983 - accuracy: 0.6715\n",
      "Epoch 9: val_accuracy did not improve from 0.67175\n",
      "15042/15042 [==============================] - 331s 22ms/step - loss: 0.8982 - accuracy: 0.6715 - val_loss: 0.9068 - val_accuracy: 0.6685\n",
      "Epoch 10/100\n",
      " 9829/15042 [==================>...........] - ETA: 1:42 - loss: 0.8991 - accuracy: 0.6712"
     ]
    }
   ],
   "source": [
    "from sklearn.model_selection import StratifiedKFold\n",
    "from tensorflow.keras import Sequential\n",
    "from tensorflow.keras.layers import Dense, Dropout\n",
    "\n",
    "kfold = StratifiedKFold(n_splits=5, shuffle=True, random_state=42)\n",
    "cvscores = []\n",
    "\n",
    "for train_i, test_i in kfold.split(train_features, train_set[target]):\n",
    "    X_train = train_features.loc[train_i]\n",
    "    y_train = train_labels[train_i]\n",
    "   \n",
    "    model = Sequential()\n",
    "    model.add(Dense(128, activation='relu'))\n",
    "    model.add(Dense(64, activation='relu'))\n",
    "    model.add(Dense(32, activation='relu'))\n",
    "    model.add(Dense(5, activation='softmax'))\n",
    "\n",
    "    model.compile(optimizer='adam', loss='categorical_crossentropy', metrics=['accuracy'])\n",
    "    \n",
    "      \n",
    "    model.fit(X_train, y_train, epochs=100, batch_size=32, validation_data=(train_features.loc[test_i], train_labels[test_i]), callbacks=[\n",
    "        tf.keras.callbacks.ModelCheckpoint('nn.hdf5',\n",
    "                                monitor='val_accuracy',\n",
    "                                verbose=1,\n",
    "                                save_best_only=True,\n",
    "                                mode='auto',\n",
    "                                period=1,\n",
    "                                save_weights_only=False),\n",
    "        tf.keras.callbacks.EarlyStopping(monitor='loss', patience=20)\n",
    "    ])\n",
    "    \n"
   ]
  }
 ],
 "metadata": {
  "kernelspec": {
   "display_name": "Python 3 (ipykernel)",
   "language": "python",
   "name": "python3"
  },
  "language_info": {
   "codemirror_mode": {
    "name": "ipython",
    "version": 3
   },
   "file_extension": ".py",
   "mimetype": "text/x-python",
   "name": "python",
   "nbconvert_exporter": "python",
   "pygments_lexer": "ipython3",
   "version": "3.10.8"
  },
  "vscode": {
   "interpreter": {
    "hash": "689865bad8c0f14e14783327e95c7e8e77fc7cb6c71d520de5ee80b5096c9418"
   }
  }
 },
 "nbformat": 4,
 "nbformat_minor": 4
}
